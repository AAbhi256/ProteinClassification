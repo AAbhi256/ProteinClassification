{
 "cells": [
  {
   "cell_type": "markdown",
   "metadata": {
    "papermill": {
     "duration": 0.043903,
     "end_time": "2021-01-02T16:38:01.085402",
     "exception": false,
     "start_time": "2021-01-02T16:38:01.041499",
     "status": "completed"
    },
    "tags": []
   },
   "source": [
    "The point of this project was to utilize more than just sequence data for protein classification. Standard apporaches use reccurrent neural networks on protein sequences to predict protein classification, but we went about trying to see if we could use other easily attainable features to aid with prediction. "
   ]
  },
  {
   "cell_type": "markdown",
   "metadata": {
    "papermill": {
     "duration": 0.042228,
     "end_time": "2021-01-02T16:38:01.171584",
     "exception": false,
     "start_time": "2021-01-02T16:38:01.129356",
     "status": "completed"
    },
    "tags": []
   },
   "source": [
    "| Experimentation No | Input Data | Model |\n",
    "| --- | ----------- | ---------- |\n",
    "| 1 | Protein Sequence Character Embeddings and Numerical Data | Multi-Input LSTM Concatenated Model |\n",
    "| 2 | Protein Sequence Frequency Vector Embedding and Numerical Data | Multi-Input LSTM Concatenated Model |\n",
    "| 3 | Protein Sequence Character Embeddings and Numerical Data | Multi-Input LSTM On Top of CNN Concatenated Model |\n",
    "| 4 | Protein Sequence Character Embeddings and Numerical Data | Multi-Input Deep Dense LSTM On Top of CNN with Concatenated Model |\n",
    "| FINAL | Merged Protein Sequence Data and Numerical Data into Single Feature | Single-Input LSTM On Top of CNN Model |"
   ]
  },
  {
   "cell_type": "markdown",
   "metadata": {
    "papermill": {
     "duration": 0.043471,
     "end_time": "2021-01-02T16:38:01.257569",
     "exception": false,
     "start_time": "2021-01-02T16:38:01.214098",
     "status": "completed"
    },
    "tags": []
   },
   "source": [
    "**Please Note:**  *For convenience's sake, this notebook only includes the final approach*"
   ]
  },
  {
   "cell_type": "code",
   "execution_count": 1,
   "metadata": {
    "_cell_guid": "b1076dfc-b9ad-4769-8c92-a6c4dae69d19",
    "_uuid": "8f2839f25d086af736a60e9eeb907d3b93b6e0e5",
    "execution": {
     "iopub.execute_input": "2021-01-02T16:38:01.384248Z",
     "iopub.status.busy": "2021-01-02T16:38:01.383611Z",
     "iopub.status.idle": "2021-01-02T16:38:01.397565Z",
     "shell.execute_reply": "2021-01-02T16:38:01.396934Z"
    },
    "papermill": {
     "duration": 0.064041,
     "end_time": "2021-01-02T16:38:01.397661",
     "exception": false,
     "start_time": "2021-01-02T16:38:01.333620",
     "status": "completed"
    },
    "tags": []
   },
   "outputs": [
    {
     "name": "stdout",
     "output_type": "stream",
     "text": [
      "/kaggle/input/protein-data-set/pdb_data_seq.csv\n",
      "/kaggle/input/protein-data-set/pdb_data_no_dups.csv\n"
     ]
    }
   ],
   "source": [
    "# This Python 3 environment comes with many helpful analytics libraries installed\n",
    "# It is defined by the kaggle/python Docker image: https://github.com/kaggle/docker-python\n",
    "# For example, here's several helpful packages to load\n",
    "\n",
    "import numpy as np # linear algebra\n",
    "import pandas as pd # data processing, CSV file I/O (e.g. pd.read_csv)\n",
    "\n",
    "# Input data files are available in the read-only \"../input/\" directory\n",
    "# For example, running this (by clicking run or pressing Shift+Enter) will list all files under the input directory\n",
    "\n",
    "import os\n",
    "for dirname, _, filenames in os.walk('/kaggle/input'):\n",
    "    for filename in filenames:\n",
    "        print(os.path.join(dirname, filename))\n",
    "\n",
    "# You can write up to 20GB to the current directory (/kaggle/working/) that gets preserved as output when you create a version using \"Save & Run All\" \n",
    "# You can also write temporary files to /kaggle/temp/, but they won't be saved outside of the current session"
   ]
  },
  {
   "cell_type": "code",
   "execution_count": 2,
   "metadata": {
    "_cell_guid": "79c7e3d0-c299-4dcb-8224-4455121ee9b0",
    "_uuid": "d629ff2d2480ee46fbb7e2d37f6b5fab8052498a",
    "execution": {
     "iopub.execute_input": "2021-01-02T16:38:01.490627Z",
     "iopub.status.busy": "2021-01-02T16:38:01.489958Z",
     "iopub.status.idle": "2021-01-02T16:38:02.319940Z",
     "shell.execute_reply": "2021-01-02T16:38:02.318890Z"
    },
    "papermill": {
     "duration": 0.878106,
     "end_time": "2021-01-02T16:38:02.320062",
     "exception": false,
     "start_time": "2021-01-02T16:38:01.441956",
     "status": "completed"
    },
    "tags": []
   },
   "outputs": [],
   "source": [
    "import numpy as np\n",
    "import pandas as pd\n",
    "import matplotlib.pyplot as plt\n",
    "import seaborn as sns"
   ]
  },
  {
   "cell_type": "markdown",
   "metadata": {
    "papermill": {
     "duration": 0.04362,
     "end_time": "2021-01-02T16:38:02.407834",
     "exception": false,
     "start_time": "2021-01-02T16:38:02.364214",
     "status": "completed"
    },
    "tags": []
   },
   "source": [
    "# 1. EDA and Data Preprocessing"
   ]
  },
  {
   "cell_type": "code",
   "execution_count": 3,
   "metadata": {
    "execution": {
     "iopub.execute_input": "2021-01-02T16:38:02.500574Z",
     "iopub.status.busy": "2021-01-02T16:38:02.499924Z",
     "iopub.status.idle": "2021-01-02T16:38:05.121050Z",
     "shell.execute_reply": "2021-01-02T16:38:05.122329Z"
    },
    "papermill": {
     "duration": 2.671078,
     "end_time": "2021-01-02T16:38:05.122535",
     "exception": false,
     "start_time": "2021-01-02T16:38:02.451457",
     "status": "completed"
    },
    "tags": []
   },
   "outputs": [
    {
     "data": {
      "text/html": [
       "<div>\n",
       "<style scoped>\n",
       "    .dataframe tbody tr th:only-of-type {\n",
       "        vertical-align: middle;\n",
       "    }\n",
       "\n",
       "    .dataframe tbody tr th {\n",
       "        vertical-align: top;\n",
       "    }\n",
       "\n",
       "    .dataframe thead th {\n",
       "        text-align: right;\n",
       "    }\n",
       "</style>\n",
       "<table border=\"1\" class=\"dataframe\">\n",
       "  <thead>\n",
       "    <tr style=\"text-align: right;\">\n",
       "      <th></th>\n",
       "      <th>structureId</th>\n",
       "      <th>chainId</th>\n",
       "      <th>sequence</th>\n",
       "      <th>residueCount</th>\n",
       "      <th>macromoleculeType</th>\n",
       "    </tr>\n",
       "  </thead>\n",
       "  <tbody>\n",
       "    <tr>\n",
       "      <th>0</th>\n",
       "      <td>100D</td>\n",
       "      <td>A</td>\n",
       "      <td>CCGGCGCCGG</td>\n",
       "      <td>20</td>\n",
       "      <td>DNA/RNA Hybrid</td>\n",
       "    </tr>\n",
       "    <tr>\n",
       "      <th>1</th>\n",
       "      <td>100D</td>\n",
       "      <td>B</td>\n",
       "      <td>CCGGCGCCGG</td>\n",
       "      <td>20</td>\n",
       "      <td>DNA/RNA Hybrid</td>\n",
       "    </tr>\n",
       "    <tr>\n",
       "      <th>2</th>\n",
       "      <td>101D</td>\n",
       "      <td>A</td>\n",
       "      <td>CGCGAATTCGCG</td>\n",
       "      <td>24</td>\n",
       "      <td>DNA</td>\n",
       "    </tr>\n",
       "    <tr>\n",
       "      <th>3</th>\n",
       "      <td>101D</td>\n",
       "      <td>B</td>\n",
       "      <td>CGCGAATTCGCG</td>\n",
       "      <td>24</td>\n",
       "      <td>DNA</td>\n",
       "    </tr>\n",
       "    <tr>\n",
       "      <th>4</th>\n",
       "      <td>101M</td>\n",
       "      <td>A</td>\n",
       "      <td>MVLSEGEWQLVLHVWAKVEADVAGHGQDILIRLFKSHPETLEKFDR...</td>\n",
       "      <td>154</td>\n",
       "      <td>Protein</td>\n",
       "    </tr>\n",
       "    <tr>\n",
       "      <th>...</th>\n",
       "      <td>...</td>\n",
       "      <td>...</td>\n",
       "      <td>...</td>\n",
       "      <td>...</td>\n",
       "      <td>...</td>\n",
       "    </tr>\n",
       "    <tr>\n",
       "      <th>467299</th>\n",
       "      <td>9XIA</td>\n",
       "      <td>A</td>\n",
       "      <td>MNYQPTPEDRFTFGLWTVGWQGRDPFGDATRRALDPVESVQRLAEL...</td>\n",
       "      <td>388</td>\n",
       "      <td>Protein</td>\n",
       "    </tr>\n",
       "    <tr>\n",
       "      <th>467300</th>\n",
       "      <td>9XIM</td>\n",
       "      <td>A</td>\n",
       "      <td>SVQATREDKFSFGLWTVGWQARDAFGDATRTALDPVEAVHKLAEIG...</td>\n",
       "      <td>1572</td>\n",
       "      <td>Protein</td>\n",
       "    </tr>\n",
       "    <tr>\n",
       "      <th>467301</th>\n",
       "      <td>9XIM</td>\n",
       "      <td>B</td>\n",
       "      <td>SVQATREDKFSFGLWTVGWQARDAFGDATRTALDPVEAVHKLAEIG...</td>\n",
       "      <td>1572</td>\n",
       "      <td>Protein</td>\n",
       "    </tr>\n",
       "    <tr>\n",
       "      <th>467302</th>\n",
       "      <td>9XIM</td>\n",
       "      <td>C</td>\n",
       "      <td>SVQATREDKFSFGLWTVGWQARDAFGDATRTALDPVEAVHKLAEIG...</td>\n",
       "      <td>1572</td>\n",
       "      <td>Protein</td>\n",
       "    </tr>\n",
       "    <tr>\n",
       "      <th>467303</th>\n",
       "      <td>9XIM</td>\n",
       "      <td>D</td>\n",
       "      <td>SVQATREDKFSFGLWTVGWQARDAFGDATRTALDPVEAVHKLAEIG...</td>\n",
       "      <td>1572</td>\n",
       "      <td>Protein</td>\n",
       "    </tr>\n",
       "  </tbody>\n",
       "</table>\n",
       "<p>467304 rows × 5 columns</p>\n",
       "</div>"
      ],
      "text/plain": [
       "       structureId chainId                                           sequence  \\\n",
       "0             100D       A                                         CCGGCGCCGG   \n",
       "1             100D       B                                         CCGGCGCCGG   \n",
       "2             101D       A                                       CGCGAATTCGCG   \n",
       "3             101D       B                                       CGCGAATTCGCG   \n",
       "4             101M       A  MVLSEGEWQLVLHVWAKVEADVAGHGQDILIRLFKSHPETLEKFDR...   \n",
       "...            ...     ...                                                ...   \n",
       "467299        9XIA       A  MNYQPTPEDRFTFGLWTVGWQGRDPFGDATRRALDPVESVQRLAEL...   \n",
       "467300        9XIM       A  SVQATREDKFSFGLWTVGWQARDAFGDATRTALDPVEAVHKLAEIG...   \n",
       "467301        9XIM       B  SVQATREDKFSFGLWTVGWQARDAFGDATRTALDPVEAVHKLAEIG...   \n",
       "467302        9XIM       C  SVQATREDKFSFGLWTVGWQARDAFGDATRTALDPVEAVHKLAEIG...   \n",
       "467303        9XIM       D  SVQATREDKFSFGLWTVGWQARDAFGDATRTALDPVEAVHKLAEIG...   \n",
       "\n",
       "        residueCount macromoleculeType  \n",
       "0                 20    DNA/RNA Hybrid  \n",
       "1                 20    DNA/RNA Hybrid  \n",
       "2                 24               DNA  \n",
       "3                 24               DNA  \n",
       "4                154           Protein  \n",
       "...              ...               ...  \n",
       "467299           388           Protein  \n",
       "467300          1572           Protein  \n",
       "467301          1572           Protein  \n",
       "467302          1572           Protein  \n",
       "467303          1572           Protein  \n",
       "\n",
       "[467304 rows x 5 columns]"
      ]
     },
     "execution_count": 3,
     "metadata": {},
     "output_type": "execute_result"
    }
   ],
   "source": [
    "seq = pd.read_csv('/kaggle/input/protein-data-set/pdb_data_seq.csv')\n",
    "seq"
   ]
  },
  {
   "cell_type": "code",
   "execution_count": 4,
   "metadata": {
    "execution": {
     "iopub.execute_input": "2021-01-02T16:38:05.266745Z",
     "iopub.status.busy": "2021-01-02T16:38:05.265397Z",
     "iopub.status.idle": "2021-01-02T16:38:06.254657Z",
     "shell.execute_reply": "2021-01-02T16:38:06.254175Z"
    },
    "papermill": {
     "duration": 1.062654,
     "end_time": "2021-01-02T16:38:06.254764",
     "exception": false,
     "start_time": "2021-01-02T16:38:05.192110",
     "status": "completed"
    },
    "tags": []
   },
   "outputs": [
    {
     "data": {
      "text/html": [
       "<div>\n",
       "<style scoped>\n",
       "    .dataframe tbody tr th:only-of-type {\n",
       "        vertical-align: middle;\n",
       "    }\n",
       "\n",
       "    .dataframe tbody tr th {\n",
       "        vertical-align: top;\n",
       "    }\n",
       "\n",
       "    .dataframe thead th {\n",
       "        text-align: right;\n",
       "    }\n",
       "</style>\n",
       "<table border=\"1\" class=\"dataframe\">\n",
       "  <thead>\n",
       "    <tr style=\"text-align: right;\">\n",
       "      <th></th>\n",
       "      <th>structureId</th>\n",
       "      <th>classification</th>\n",
       "      <th>experimentalTechnique</th>\n",
       "      <th>macromoleculeType</th>\n",
       "      <th>residueCount</th>\n",
       "      <th>resolution</th>\n",
       "      <th>structureMolecularWeight</th>\n",
       "      <th>crystallizationMethod</th>\n",
       "      <th>crystallizationTempK</th>\n",
       "      <th>densityMatthews</th>\n",
       "      <th>densityPercentSol</th>\n",
       "      <th>pdbxDetails</th>\n",
       "      <th>phValue</th>\n",
       "      <th>publicationYear</th>\n",
       "    </tr>\n",
       "  </thead>\n",
       "  <tbody>\n",
       "    <tr>\n",
       "      <th>0</th>\n",
       "      <td>100D</td>\n",
       "      <td>DNA-RNA HYBRID</td>\n",
       "      <td>X-RAY DIFFRACTION</td>\n",
       "      <td>DNA/RNA Hybrid</td>\n",
       "      <td>20</td>\n",
       "      <td>1.90</td>\n",
       "      <td>6360.30</td>\n",
       "      <td>VAPOR DIFFUSION, HANGING DROP</td>\n",
       "      <td>NaN</td>\n",
       "      <td>1.78</td>\n",
       "      <td>30.89</td>\n",
       "      <td>pH 7.00, VAPOR DIFFUSION, HANGING DROP</td>\n",
       "      <td>7.0</td>\n",
       "      <td>1994.0</td>\n",
       "    </tr>\n",
       "    <tr>\n",
       "      <th>1</th>\n",
       "      <td>101D</td>\n",
       "      <td>DNA</td>\n",
       "      <td>X-RAY DIFFRACTION</td>\n",
       "      <td>DNA</td>\n",
       "      <td>24</td>\n",
       "      <td>2.25</td>\n",
       "      <td>7939.35</td>\n",
       "      <td>NaN</td>\n",
       "      <td>NaN</td>\n",
       "      <td>2.00</td>\n",
       "      <td>38.45</td>\n",
       "      <td>NaN</td>\n",
       "      <td>NaN</td>\n",
       "      <td>1995.0</td>\n",
       "    </tr>\n",
       "    <tr>\n",
       "      <th>2</th>\n",
       "      <td>101M</td>\n",
       "      <td>OXYGEN TRANSPORT</td>\n",
       "      <td>X-RAY DIFFRACTION</td>\n",
       "      <td>Protein</td>\n",
       "      <td>154</td>\n",
       "      <td>2.07</td>\n",
       "      <td>18112.80</td>\n",
       "      <td>NaN</td>\n",
       "      <td>NaN</td>\n",
       "      <td>3.09</td>\n",
       "      <td>60.20</td>\n",
       "      <td>3.0 M AMMONIUM SULFATE, 20 MM TRIS, 1MM EDTA, ...</td>\n",
       "      <td>9.0</td>\n",
       "      <td>1999.0</td>\n",
       "    </tr>\n",
       "    <tr>\n",
       "      <th>3</th>\n",
       "      <td>102D</td>\n",
       "      <td>DNA</td>\n",
       "      <td>X-RAY DIFFRACTION</td>\n",
       "      <td>DNA</td>\n",
       "      <td>24</td>\n",
       "      <td>2.20</td>\n",
       "      <td>7637.17</td>\n",
       "      <td>VAPOR DIFFUSION, SITTING DROP</td>\n",
       "      <td>277.0</td>\n",
       "      <td>2.28</td>\n",
       "      <td>46.06</td>\n",
       "      <td>pH 7.00, VAPOR DIFFUSION, SITTING DROP, temper...</td>\n",
       "      <td>7.0</td>\n",
       "      <td>1995.0</td>\n",
       "    </tr>\n",
       "    <tr>\n",
       "      <th>4</th>\n",
       "      <td>102L</td>\n",
       "      <td>HYDROLASE(O-GLYCOSYL)</td>\n",
       "      <td>X-RAY DIFFRACTION</td>\n",
       "      <td>Protein</td>\n",
       "      <td>165</td>\n",
       "      <td>1.74</td>\n",
       "      <td>18926.61</td>\n",
       "      <td>NaN</td>\n",
       "      <td>NaN</td>\n",
       "      <td>2.75</td>\n",
       "      <td>55.28</td>\n",
       "      <td>NaN</td>\n",
       "      <td>NaN</td>\n",
       "      <td>1993.0</td>\n",
       "    </tr>\n",
       "    <tr>\n",
       "      <th>...</th>\n",
       "      <td>...</td>\n",
       "      <td>...</td>\n",
       "      <td>...</td>\n",
       "      <td>...</td>\n",
       "      <td>...</td>\n",
       "      <td>...</td>\n",
       "      <td>...</td>\n",
       "      <td>...</td>\n",
       "      <td>...</td>\n",
       "      <td>...</td>\n",
       "      <td>...</td>\n",
       "      <td>...</td>\n",
       "      <td>...</td>\n",
       "      <td>...</td>\n",
       "    </tr>\n",
       "    <tr>\n",
       "      <th>141396</th>\n",
       "      <td>9RUB</td>\n",
       "      <td>LYASE(CARBON-CARBON)</td>\n",
       "      <td>X-RAY DIFFRACTION</td>\n",
       "      <td>Protein</td>\n",
       "      <td>932</td>\n",
       "      <td>2.60</td>\n",
       "      <td>101838.68</td>\n",
       "      <td>NaN</td>\n",
       "      <td>NaN</td>\n",
       "      <td>2.38</td>\n",
       "      <td>48.29</td>\n",
       "      <td>NaN</td>\n",
       "      <td>NaN</td>\n",
       "      <td>1991.0</td>\n",
       "    </tr>\n",
       "    <tr>\n",
       "      <th>141397</th>\n",
       "      <td>9TNA</td>\n",
       "      <td>T-RNA</td>\n",
       "      <td>X-RAY DIFFRACTION</td>\n",
       "      <td>NaN</td>\n",
       "      <td>0</td>\n",
       "      <td>NaN</td>\n",
       "      <td>24244.34</td>\n",
       "      <td>NaN</td>\n",
       "      <td>NaN</td>\n",
       "      <td>3.17</td>\n",
       "      <td>61.18</td>\n",
       "      <td>NaN</td>\n",
       "      <td>NaN</td>\n",
       "      <td>1986.0</td>\n",
       "    </tr>\n",
       "    <tr>\n",
       "      <th>141398</th>\n",
       "      <td>9WGA</td>\n",
       "      <td>LECTIN (AGGLUTININ)</td>\n",
       "      <td>X-RAY DIFFRACTION</td>\n",
       "      <td>Protein</td>\n",
       "      <td>342</td>\n",
       "      <td>1.80</td>\n",
       "      <td>34270.22</td>\n",
       "      <td>NaN</td>\n",
       "      <td>NaN</td>\n",
       "      <td>2.50</td>\n",
       "      <td>50.76</td>\n",
       "      <td>NaN</td>\n",
       "      <td>NaN</td>\n",
       "      <td>1990.0</td>\n",
       "    </tr>\n",
       "    <tr>\n",
       "      <th>141399</th>\n",
       "      <td>9XIA</td>\n",
       "      <td>ISOMERASE(INTRAMOLECULAR OXIDOREDUCTASE)</td>\n",
       "      <td>X-RAY DIFFRACTION</td>\n",
       "      <td>Protein</td>\n",
       "      <td>388</td>\n",
       "      <td>1.90</td>\n",
       "      <td>43542.29</td>\n",
       "      <td>NaN</td>\n",
       "      <td>NaN</td>\n",
       "      <td>2.79</td>\n",
       "      <td>55.93</td>\n",
       "      <td>NaN</td>\n",
       "      <td>NaN</td>\n",
       "      <td>1989.0</td>\n",
       "    </tr>\n",
       "    <tr>\n",
       "      <th>141400</th>\n",
       "      <td>9XIM</td>\n",
       "      <td>ISOMERASE(INTRAMOLECULAR OXIDOREDUCTASE)</td>\n",
       "      <td>X-RAY DIFFRACTION</td>\n",
       "      <td>Protein</td>\n",
       "      <td>1572</td>\n",
       "      <td>2.40</td>\n",
       "      <td>174722.12</td>\n",
       "      <td>NaN</td>\n",
       "      <td>NaN</td>\n",
       "      <td>3.96</td>\n",
       "      <td>68.92</td>\n",
       "      <td>NaN</td>\n",
       "      <td>NaN</td>\n",
       "      <td>1992.0</td>\n",
       "    </tr>\n",
       "  </tbody>\n",
       "</table>\n",
       "<p>141401 rows × 14 columns</p>\n",
       "</div>"
      ],
      "text/plain": [
       "       structureId                            classification  \\\n",
       "0             100D                            DNA-RNA HYBRID   \n",
       "1             101D                                       DNA   \n",
       "2             101M                          OXYGEN TRANSPORT   \n",
       "3             102D                                       DNA   \n",
       "4             102L                     HYDROLASE(O-GLYCOSYL)   \n",
       "...            ...                                       ...   \n",
       "141396        9RUB                      LYASE(CARBON-CARBON)   \n",
       "141397        9TNA                                     T-RNA   \n",
       "141398        9WGA                       LECTIN (AGGLUTININ)   \n",
       "141399        9XIA  ISOMERASE(INTRAMOLECULAR OXIDOREDUCTASE)   \n",
       "141400        9XIM  ISOMERASE(INTRAMOLECULAR OXIDOREDUCTASE)   \n",
       "\n",
       "       experimentalTechnique macromoleculeType  residueCount  resolution  \\\n",
       "0          X-RAY DIFFRACTION    DNA/RNA Hybrid            20        1.90   \n",
       "1          X-RAY DIFFRACTION               DNA            24        2.25   \n",
       "2          X-RAY DIFFRACTION           Protein           154        2.07   \n",
       "3          X-RAY DIFFRACTION               DNA            24        2.20   \n",
       "4          X-RAY DIFFRACTION           Protein           165        1.74   \n",
       "...                      ...               ...           ...         ...   \n",
       "141396     X-RAY DIFFRACTION           Protein           932        2.60   \n",
       "141397     X-RAY DIFFRACTION               NaN             0         NaN   \n",
       "141398     X-RAY DIFFRACTION           Protein           342        1.80   \n",
       "141399     X-RAY DIFFRACTION           Protein           388        1.90   \n",
       "141400     X-RAY DIFFRACTION           Protein          1572        2.40   \n",
       "\n",
       "        structureMolecularWeight          crystallizationMethod  \\\n",
       "0                        6360.30  VAPOR DIFFUSION, HANGING DROP   \n",
       "1                        7939.35                            NaN   \n",
       "2                       18112.80                            NaN   \n",
       "3                        7637.17  VAPOR DIFFUSION, SITTING DROP   \n",
       "4                       18926.61                            NaN   \n",
       "...                          ...                            ...   \n",
       "141396                 101838.68                            NaN   \n",
       "141397                  24244.34                            NaN   \n",
       "141398                  34270.22                            NaN   \n",
       "141399                  43542.29                            NaN   \n",
       "141400                 174722.12                            NaN   \n",
       "\n",
       "        crystallizationTempK  densityMatthews  densityPercentSol  \\\n",
       "0                        NaN             1.78              30.89   \n",
       "1                        NaN             2.00              38.45   \n",
       "2                        NaN             3.09              60.20   \n",
       "3                      277.0             2.28              46.06   \n",
       "4                        NaN             2.75              55.28   \n",
       "...                      ...              ...                ...   \n",
       "141396                   NaN             2.38              48.29   \n",
       "141397                   NaN             3.17              61.18   \n",
       "141398                   NaN             2.50              50.76   \n",
       "141399                   NaN             2.79              55.93   \n",
       "141400                   NaN             3.96              68.92   \n",
       "\n",
       "                                              pdbxDetails  phValue  \\\n",
       "0                  pH 7.00, VAPOR DIFFUSION, HANGING DROP      7.0   \n",
       "1                                                     NaN      NaN   \n",
       "2       3.0 M AMMONIUM SULFATE, 20 MM TRIS, 1MM EDTA, ...      9.0   \n",
       "3       pH 7.00, VAPOR DIFFUSION, SITTING DROP, temper...      7.0   \n",
       "4                                                     NaN      NaN   \n",
       "...                                                   ...      ...   \n",
       "141396                                                NaN      NaN   \n",
       "141397                                                NaN      NaN   \n",
       "141398                                                NaN      NaN   \n",
       "141399                                                NaN      NaN   \n",
       "141400                                                NaN      NaN   \n",
       "\n",
       "        publicationYear  \n",
       "0                1994.0  \n",
       "1                1995.0  \n",
       "2                1999.0  \n",
       "3                1995.0  \n",
       "4                1993.0  \n",
       "...                 ...  \n",
       "141396           1991.0  \n",
       "141397           1986.0  \n",
       "141398           1990.0  \n",
       "141399           1989.0  \n",
       "141400           1992.0  \n",
       "\n",
       "[141401 rows x 14 columns]"
      ]
     },
     "execution_count": 4,
     "metadata": {},
     "output_type": "execute_result"
    }
   ],
   "source": [
    "NoDups = pd.read_csv('/kaggle/input/protein-data-set/pdb_data_no_dups.csv')\n",
    "NoDups"
   ]
  },
  {
   "cell_type": "code",
   "execution_count": 5,
   "metadata": {
    "execution": {
     "iopub.execute_input": "2021-01-02T16:38:06.352497Z",
     "iopub.status.busy": "2021-01-02T16:38:06.351523Z",
     "iopub.status.idle": "2021-01-02T16:38:07.077712Z",
     "shell.execute_reply": "2021-01-02T16:38:07.078206Z"
    },
    "papermill": {
     "duration": 0.778387,
     "end_time": "2021-01-02T16:38:07.078351",
     "exception": false,
     "start_time": "2021-01-02T16:38:06.299964",
     "status": "completed"
    },
    "tags": []
   },
   "outputs": [
    {
     "data": {
      "text/html": [
       "<div>\n",
       "<style scoped>\n",
       "    .dataframe tbody tr th:only-of-type {\n",
       "        vertical-align: middle;\n",
       "    }\n",
       "\n",
       "    .dataframe tbody tr th {\n",
       "        vertical-align: top;\n",
       "    }\n",
       "\n",
       "    .dataframe thead th {\n",
       "        text-align: right;\n",
       "    }\n",
       "</style>\n",
       "<table border=\"1\" class=\"dataframe\">\n",
       "  <thead>\n",
       "    <tr style=\"text-align: right;\">\n",
       "      <th></th>\n",
       "      <th>structureId</th>\n",
       "      <th>classification</th>\n",
       "      <th>experimentalTechnique</th>\n",
       "      <th>macromoleculeType_x</th>\n",
       "      <th>residueCount_x</th>\n",
       "      <th>resolution</th>\n",
       "      <th>structureMolecularWeight</th>\n",
       "      <th>crystallizationMethod</th>\n",
       "      <th>crystallizationTempK</th>\n",
       "      <th>densityMatthews</th>\n",
       "      <th>densityPercentSol</th>\n",
       "      <th>pdbxDetails</th>\n",
       "      <th>phValue</th>\n",
       "      <th>publicationYear</th>\n",
       "      <th>chainId</th>\n",
       "      <th>sequence</th>\n",
       "      <th>residueCount_y</th>\n",
       "      <th>macromoleculeType_y</th>\n",
       "    </tr>\n",
       "  </thead>\n",
       "  <tbody>\n",
       "    <tr>\n",
       "      <th>0</th>\n",
       "      <td>100D</td>\n",
       "      <td>DNA-RNA HYBRID</td>\n",
       "      <td>X-RAY DIFFRACTION</td>\n",
       "      <td>DNA/RNA Hybrid</td>\n",
       "      <td>20</td>\n",
       "      <td>1.90</td>\n",
       "      <td>6360.30</td>\n",
       "      <td>VAPOR DIFFUSION, HANGING DROP</td>\n",
       "      <td>NaN</td>\n",
       "      <td>1.78</td>\n",
       "      <td>30.89</td>\n",
       "      <td>pH 7.00, VAPOR DIFFUSION, HANGING DROP</td>\n",
       "      <td>7.0</td>\n",
       "      <td>1994.0</td>\n",
       "      <td>A</td>\n",
       "      <td>CCGGCGCCGG</td>\n",
       "      <td>20</td>\n",
       "      <td>DNA/RNA Hybrid</td>\n",
       "    </tr>\n",
       "    <tr>\n",
       "      <th>2</th>\n",
       "      <td>101D</td>\n",
       "      <td>DNA</td>\n",
       "      <td>X-RAY DIFFRACTION</td>\n",
       "      <td>DNA</td>\n",
       "      <td>24</td>\n",
       "      <td>2.25</td>\n",
       "      <td>7939.35</td>\n",
       "      <td>NaN</td>\n",
       "      <td>NaN</td>\n",
       "      <td>2.00</td>\n",
       "      <td>38.45</td>\n",
       "      <td>NaN</td>\n",
       "      <td>NaN</td>\n",
       "      <td>1995.0</td>\n",
       "      <td>A</td>\n",
       "      <td>CGCGAATTCGCG</td>\n",
       "      <td>24</td>\n",
       "      <td>DNA</td>\n",
       "    </tr>\n",
       "    <tr>\n",
       "      <th>4</th>\n",
       "      <td>101M</td>\n",
       "      <td>OXYGEN TRANSPORT</td>\n",
       "      <td>X-RAY DIFFRACTION</td>\n",
       "      <td>Protein</td>\n",
       "      <td>154</td>\n",
       "      <td>2.07</td>\n",
       "      <td>18112.80</td>\n",
       "      <td>NaN</td>\n",
       "      <td>NaN</td>\n",
       "      <td>3.09</td>\n",
       "      <td>60.20</td>\n",
       "      <td>3.0 M AMMONIUM SULFATE, 20 MM TRIS, 1MM EDTA, ...</td>\n",
       "      <td>9.0</td>\n",
       "      <td>1999.0</td>\n",
       "      <td>A</td>\n",
       "      <td>MVLSEGEWQLVLHVWAKVEADVAGHGQDILIRLFKSHPETLEKFDR...</td>\n",
       "      <td>154</td>\n",
       "      <td>Protein</td>\n",
       "    </tr>\n",
       "    <tr>\n",
       "      <th>5</th>\n",
       "      <td>102D</td>\n",
       "      <td>DNA</td>\n",
       "      <td>X-RAY DIFFRACTION</td>\n",
       "      <td>DNA</td>\n",
       "      <td>24</td>\n",
       "      <td>2.20</td>\n",
       "      <td>7637.17</td>\n",
       "      <td>VAPOR DIFFUSION, SITTING DROP</td>\n",
       "      <td>277.0</td>\n",
       "      <td>2.28</td>\n",
       "      <td>46.06</td>\n",
       "      <td>pH 7.00, VAPOR DIFFUSION, SITTING DROP, temper...</td>\n",
       "      <td>7.0</td>\n",
       "      <td>1995.0</td>\n",
       "      <td>A</td>\n",
       "      <td>CGCAAATTTGCG</td>\n",
       "      <td>24</td>\n",
       "      <td>DNA</td>\n",
       "    </tr>\n",
       "    <tr>\n",
       "      <th>7</th>\n",
       "      <td>102L</td>\n",
       "      <td>HYDROLASE(O-GLYCOSYL)</td>\n",
       "      <td>X-RAY DIFFRACTION</td>\n",
       "      <td>Protein</td>\n",
       "      <td>165</td>\n",
       "      <td>1.74</td>\n",
       "      <td>18926.61</td>\n",
       "      <td>NaN</td>\n",
       "      <td>NaN</td>\n",
       "      <td>2.75</td>\n",
       "      <td>55.28</td>\n",
       "      <td>NaN</td>\n",
       "      <td>NaN</td>\n",
       "      <td>1993.0</td>\n",
       "      <td>A</td>\n",
       "      <td>MNIFEMLRIDEGLRLKIYKDTEGYYTIGIGHLLTKSPSLNAAAKSE...</td>\n",
       "      <td>165</td>\n",
       "      <td>Protein</td>\n",
       "    </tr>\n",
       "    <tr>\n",
       "      <th>...</th>\n",
       "      <td>...</td>\n",
       "      <td>...</td>\n",
       "      <td>...</td>\n",
       "      <td>...</td>\n",
       "      <td>...</td>\n",
       "      <td>...</td>\n",
       "      <td>...</td>\n",
       "      <td>...</td>\n",
       "      <td>...</td>\n",
       "      <td>...</td>\n",
       "      <td>...</td>\n",
       "      <td>...</td>\n",
       "      <td>...</td>\n",
       "      <td>...</td>\n",
       "      <td>...</td>\n",
       "      <td>...</td>\n",
       "      <td>...</td>\n",
       "      <td>...</td>\n",
       "    </tr>\n",
       "    <tr>\n",
       "      <th>471138</th>\n",
       "      <td>9RSA</td>\n",
       "      <td>HYDROLASE (PHOSPHORIC DIESTER)</td>\n",
       "      <td>X-RAY DIFFRACTION</td>\n",
       "      <td>Protein</td>\n",
       "      <td>248</td>\n",
       "      <td>1.80</td>\n",
       "      <td>27987.16</td>\n",
       "      <td>NaN</td>\n",
       "      <td>NaN</td>\n",
       "      <td>2.25</td>\n",
       "      <td>45.45</td>\n",
       "      <td>NaN</td>\n",
       "      <td>NaN</td>\n",
       "      <td>1990.0</td>\n",
       "      <td>A</td>\n",
       "      <td>KETAAAKFERQHMDSSTSAASSSNYCNQMMKSRNLTKDRCKPVNTF...</td>\n",
       "      <td>248</td>\n",
       "      <td>Protein</td>\n",
       "    </tr>\n",
       "    <tr>\n",
       "      <th>471140</th>\n",
       "      <td>9RUB</td>\n",
       "      <td>LYASE(CARBON-CARBON)</td>\n",
       "      <td>X-RAY DIFFRACTION</td>\n",
       "      <td>Protein</td>\n",
       "      <td>932</td>\n",
       "      <td>2.60</td>\n",
       "      <td>101838.68</td>\n",
       "      <td>NaN</td>\n",
       "      <td>NaN</td>\n",
       "      <td>2.38</td>\n",
       "      <td>48.29</td>\n",
       "      <td>NaN</td>\n",
       "      <td>NaN</td>\n",
       "      <td>1991.0</td>\n",
       "      <td>A</td>\n",
       "      <td>MDQSSRYVNLALKEEDLIAGGEHVLCAYIMKPKAGYGYVATAAHFA...</td>\n",
       "      <td>932</td>\n",
       "      <td>Protein</td>\n",
       "    </tr>\n",
       "    <tr>\n",
       "      <th>471142</th>\n",
       "      <td>9WGA</td>\n",
       "      <td>LECTIN (AGGLUTININ)</td>\n",
       "      <td>X-RAY DIFFRACTION</td>\n",
       "      <td>Protein</td>\n",
       "      <td>342</td>\n",
       "      <td>1.80</td>\n",
       "      <td>34270.22</td>\n",
       "      <td>NaN</td>\n",
       "      <td>NaN</td>\n",
       "      <td>2.50</td>\n",
       "      <td>50.76</td>\n",
       "      <td>NaN</td>\n",
       "      <td>NaN</td>\n",
       "      <td>1990.0</td>\n",
       "      <td>A</td>\n",
       "      <td>ERCGEQGSNMECPNNLCCSQYGYCGMGGDYCGKGCQNGACWTSKRC...</td>\n",
       "      <td>342</td>\n",
       "      <td>Protein</td>\n",
       "    </tr>\n",
       "    <tr>\n",
       "      <th>471144</th>\n",
       "      <td>9XIA</td>\n",
       "      <td>ISOMERASE(INTRAMOLECULAR OXIDOREDUCTASE)</td>\n",
       "      <td>X-RAY DIFFRACTION</td>\n",
       "      <td>Protein</td>\n",
       "      <td>388</td>\n",
       "      <td>1.90</td>\n",
       "      <td>43542.29</td>\n",
       "      <td>NaN</td>\n",
       "      <td>NaN</td>\n",
       "      <td>2.79</td>\n",
       "      <td>55.93</td>\n",
       "      <td>NaN</td>\n",
       "      <td>NaN</td>\n",
       "      <td>1989.0</td>\n",
       "      <td>A</td>\n",
       "      <td>MNYQPTPEDRFTFGLWTVGWQGRDPFGDATRRALDPVESVQRLAEL...</td>\n",
       "      <td>388</td>\n",
       "      <td>Protein</td>\n",
       "    </tr>\n",
       "    <tr>\n",
       "      <th>471145</th>\n",
       "      <td>9XIM</td>\n",
       "      <td>ISOMERASE(INTRAMOLECULAR OXIDOREDUCTASE)</td>\n",
       "      <td>X-RAY DIFFRACTION</td>\n",
       "      <td>Protein</td>\n",
       "      <td>1572</td>\n",
       "      <td>2.40</td>\n",
       "      <td>174722.12</td>\n",
       "      <td>NaN</td>\n",
       "      <td>NaN</td>\n",
       "      <td>3.96</td>\n",
       "      <td>68.92</td>\n",
       "      <td>NaN</td>\n",
       "      <td>NaN</td>\n",
       "      <td>1992.0</td>\n",
       "      <td>A</td>\n",
       "      <td>SVQATREDKFSFGLWTVGWQARDAFGDATRTALDPVEAVHKLAEIG...</td>\n",
       "      <td>1572</td>\n",
       "      <td>Protein</td>\n",
       "    </tr>\n",
       "  </tbody>\n",
       "</table>\n",
       "<p>140250 rows × 18 columns</p>\n",
       "</div>"
      ],
      "text/plain": [
       "       structureId                            classification  \\\n",
       "0             100D                            DNA-RNA HYBRID   \n",
       "2             101D                                       DNA   \n",
       "4             101M                          OXYGEN TRANSPORT   \n",
       "5             102D                                       DNA   \n",
       "7             102L                     HYDROLASE(O-GLYCOSYL)   \n",
       "...            ...                                       ...   \n",
       "471138        9RSA            HYDROLASE (PHOSPHORIC DIESTER)   \n",
       "471140        9RUB                      LYASE(CARBON-CARBON)   \n",
       "471142        9WGA                       LECTIN (AGGLUTININ)   \n",
       "471144        9XIA  ISOMERASE(INTRAMOLECULAR OXIDOREDUCTASE)   \n",
       "471145        9XIM  ISOMERASE(INTRAMOLECULAR OXIDOREDUCTASE)   \n",
       "\n",
       "       experimentalTechnique macromoleculeType_x  residueCount_x  resolution  \\\n",
       "0          X-RAY DIFFRACTION      DNA/RNA Hybrid              20        1.90   \n",
       "2          X-RAY DIFFRACTION                 DNA              24        2.25   \n",
       "4          X-RAY DIFFRACTION             Protein             154        2.07   \n",
       "5          X-RAY DIFFRACTION                 DNA              24        2.20   \n",
       "7          X-RAY DIFFRACTION             Protein             165        1.74   \n",
       "...                      ...                 ...             ...         ...   \n",
       "471138     X-RAY DIFFRACTION             Protein             248        1.80   \n",
       "471140     X-RAY DIFFRACTION             Protein             932        2.60   \n",
       "471142     X-RAY DIFFRACTION             Protein             342        1.80   \n",
       "471144     X-RAY DIFFRACTION             Protein             388        1.90   \n",
       "471145     X-RAY DIFFRACTION             Protein            1572        2.40   \n",
       "\n",
       "        structureMolecularWeight          crystallizationMethod  \\\n",
       "0                        6360.30  VAPOR DIFFUSION, HANGING DROP   \n",
       "2                        7939.35                            NaN   \n",
       "4                       18112.80                            NaN   \n",
       "5                        7637.17  VAPOR DIFFUSION, SITTING DROP   \n",
       "7                       18926.61                            NaN   \n",
       "...                          ...                            ...   \n",
       "471138                  27987.16                            NaN   \n",
       "471140                 101838.68                            NaN   \n",
       "471142                  34270.22                            NaN   \n",
       "471144                  43542.29                            NaN   \n",
       "471145                 174722.12                            NaN   \n",
       "\n",
       "        crystallizationTempK  densityMatthews  densityPercentSol  \\\n",
       "0                        NaN             1.78              30.89   \n",
       "2                        NaN             2.00              38.45   \n",
       "4                        NaN             3.09              60.20   \n",
       "5                      277.0             2.28              46.06   \n",
       "7                        NaN             2.75              55.28   \n",
       "...                      ...              ...                ...   \n",
       "471138                   NaN             2.25              45.45   \n",
       "471140                   NaN             2.38              48.29   \n",
       "471142                   NaN             2.50              50.76   \n",
       "471144                   NaN             2.79              55.93   \n",
       "471145                   NaN             3.96              68.92   \n",
       "\n",
       "                                              pdbxDetails  phValue  \\\n",
       "0                  pH 7.00, VAPOR DIFFUSION, HANGING DROP      7.0   \n",
       "2                                                     NaN      NaN   \n",
       "4       3.0 M AMMONIUM SULFATE, 20 MM TRIS, 1MM EDTA, ...      9.0   \n",
       "5       pH 7.00, VAPOR DIFFUSION, SITTING DROP, temper...      7.0   \n",
       "7                                                     NaN      NaN   \n",
       "...                                                   ...      ...   \n",
       "471138                                                NaN      NaN   \n",
       "471140                                                NaN      NaN   \n",
       "471142                                                NaN      NaN   \n",
       "471144                                                NaN      NaN   \n",
       "471145                                                NaN      NaN   \n",
       "\n",
       "        publicationYear chainId  \\\n",
       "0                1994.0       A   \n",
       "2                1995.0       A   \n",
       "4                1999.0       A   \n",
       "5                1995.0       A   \n",
       "7                1993.0       A   \n",
       "...                 ...     ...   \n",
       "471138           1990.0       A   \n",
       "471140           1991.0       A   \n",
       "471142           1990.0       A   \n",
       "471144           1989.0       A   \n",
       "471145           1992.0       A   \n",
       "\n",
       "                                                 sequence  residueCount_y  \\\n",
       "0                                              CCGGCGCCGG              20   \n",
       "2                                            CGCGAATTCGCG              24   \n",
       "4       MVLSEGEWQLVLHVWAKVEADVAGHGQDILIRLFKSHPETLEKFDR...             154   \n",
       "5                                            CGCAAATTTGCG              24   \n",
       "7       MNIFEMLRIDEGLRLKIYKDTEGYYTIGIGHLLTKSPSLNAAAKSE...             165   \n",
       "...                                                   ...             ...   \n",
       "471138  KETAAAKFERQHMDSSTSAASSSNYCNQMMKSRNLTKDRCKPVNTF...             248   \n",
       "471140  MDQSSRYVNLALKEEDLIAGGEHVLCAYIMKPKAGYGYVATAAHFA...             932   \n",
       "471142  ERCGEQGSNMECPNNLCCSQYGYCGMGGDYCGKGCQNGACWTSKRC...             342   \n",
       "471144  MNYQPTPEDRFTFGLWTVGWQGRDPFGDATRRALDPVESVQRLAEL...             388   \n",
       "471145  SVQATREDKFSFGLWTVGWQARDAFGDATRTALDPVEAVHKLAEIG...            1572   \n",
       "\n",
       "       macromoleculeType_y  \n",
       "0           DNA/RNA Hybrid  \n",
       "2                      DNA  \n",
       "4                  Protein  \n",
       "5                      DNA  \n",
       "7                  Protein  \n",
       "...                    ...  \n",
       "471138             Protein  \n",
       "471140             Protein  \n",
       "471142             Protein  \n",
       "471144             Protein  \n",
       "471145             Protein  \n",
       "\n",
       "[140250 rows x 18 columns]"
      ]
     },
     "execution_count": 5,
     "metadata": {},
     "output_type": "execute_result"
    }
   ],
   "source": [
    "df = NoDups.merge(seq,how='inner',on='structureId').drop_duplicates(['structureId'])\n",
    "df"
   ]
  },
  {
   "cell_type": "code",
   "execution_count": 6,
   "metadata": {
    "execution": {
     "iopub.execute_input": "2021-01-02T16:38:07.179059Z",
     "iopub.status.busy": "2021-01-02T16:38:07.178121Z",
     "iopub.status.idle": "2021-01-02T16:38:07.181598Z",
     "shell.execute_reply": "2021-01-02T16:38:07.182302Z"
    },
    "papermill": {
     "duration": 0.056052,
     "end_time": "2021-01-02T16:38:07.182467",
     "exception": false,
     "start_time": "2021-01-02T16:38:07.126415",
     "status": "completed"
    },
    "tags": []
   },
   "outputs": [
    {
     "name": "stdout",
     "output_type": "stream",
     "text": [
      "140250\n"
     ]
    }
   ],
   "source": [
    "print(len(df))"
   ]
  },
  {
   "cell_type": "code",
   "execution_count": 7,
   "metadata": {
    "execution": {
     "iopub.execute_input": "2021-01-02T16:38:07.282307Z",
     "iopub.status.busy": "2021-01-02T16:38:07.281397Z",
     "iopub.status.idle": "2021-01-02T16:38:07.409542Z",
     "shell.execute_reply": "2021-01-02T16:38:07.409023Z"
    },
    "papermill": {
     "duration": 0.179165,
     "end_time": "2021-01-02T16:38:07.409639",
     "exception": false,
     "start_time": "2021-01-02T16:38:07.230474",
     "status": "completed"
    },
    "tags": []
   },
   "outputs": [
    {
     "data": {
      "text/plain": [
       "structureId                     0\n",
       "classification                  2\n",
       "experimentalTechnique           0\n",
       "macromoleculeType_x          3064\n",
       "residueCount_x                  0\n",
       "resolution                  12504\n",
       "structureMolecularWeight        0\n",
       "crystallizationMethod       44531\n",
       "crystallizationTempK        43738\n",
       "densityMatthews             16298\n",
       "densityPercentSol           16272\n",
       "pdbxDetails                 22341\n",
       "phValue                     35728\n",
       "publicationYear             23518\n",
       "chainId                         0\n",
       "sequence                       28\n",
       "residueCount_y                  0\n",
       "macromoleculeType_y          3064\n",
       "dtype: int64"
      ]
     },
     "execution_count": 7,
     "metadata": {},
     "output_type": "execute_result"
    }
   ],
   "source": [
    "df.isnull().sum()"
   ]
  },
  {
   "cell_type": "code",
   "execution_count": 8,
   "metadata": {
    "execution": {
     "iopub.execute_input": "2021-01-02T16:38:07.511100Z",
     "iopub.status.busy": "2021-01-02T16:38:07.510410Z",
     "iopub.status.idle": "2021-01-02T16:38:07.513855Z",
     "shell.execute_reply": "2021-01-02T16:38:07.514335Z"
    },
    "papermill": {
     "duration": 0.056596,
     "end_time": "2021-01-02T16:38:07.514446",
     "exception": false,
     "start_time": "2021-01-02T16:38:07.457850",
     "status": "completed"
    },
    "tags": []
   },
   "outputs": [
    {
     "data": {
      "text/plain": [
       "140250"
      ]
     },
     "execution_count": 8,
     "metadata": {},
     "output_type": "execute_result"
    }
   ],
   "source": [
    "len(df)"
   ]
  },
  {
   "cell_type": "code",
   "execution_count": 9,
   "metadata": {
    "execution": {
     "iopub.execute_input": "2021-01-02T16:38:07.614846Z",
     "iopub.status.busy": "2021-01-02T16:38:07.614005Z",
     "iopub.status.idle": "2021-01-02T16:38:07.775859Z",
     "shell.execute_reply": "2021-01-02T16:38:07.775366Z"
    },
    "papermill": {
     "duration": 0.213616,
     "end_time": "2021-01-02T16:38:07.775971",
     "exception": false,
     "start_time": "2021-01-02T16:38:07.562355",
     "status": "completed"
    },
    "tags": []
   },
   "outputs": [
    {
     "data": {
      "text/plain": [
       "65748"
      ]
     },
     "execution_count": 9,
     "metadata": {},
     "output_type": "execute_result"
    }
   ],
   "source": [
    "df=df.dropna()\n",
    "len(df)"
   ]
  },
  {
   "cell_type": "code",
   "execution_count": 10,
   "metadata": {
    "execution": {
     "iopub.execute_input": "2021-01-02T16:38:07.889163Z",
     "iopub.status.busy": "2021-01-02T16:38:07.888074Z",
     "iopub.status.idle": "2021-01-02T16:38:07.930527Z",
     "shell.execute_reply": "2021-01-02T16:38:07.929858Z"
    },
    "papermill": {
     "duration": 0.10603,
     "end_time": "2021-01-02T16:38:07.930663",
     "exception": false,
     "start_time": "2021-01-02T16:38:07.824633",
     "status": "completed"
    },
    "tags": []
   },
   "outputs": [
    {
     "name": "stdout",
     "output_type": "stream",
     "text": [
      "60757\n",
      "       structureId                            classification  \\\n",
      "324           1914                                ALU DOMAIN   \n",
      "376           1A04               SIGNAL TRANSDUCTION PROTEIN   \n",
      "441           1A0R         COMPLEX (TRANSDUCER/TRANSDUCTION)   \n",
      "561           1A2B                          ONCOGENE PROTEIN   \n",
      "601           1A2X  COMPLEX (SKELETAL MUSCLE/MUSCLE PROTEIN)   \n",
      "...            ...                                       ...   \n",
      "470383        6F6P                                 HYDROLASE   \n",
      "470387        6F6S                             VIRAL PROTEIN   \n",
      "470390        6F73                              FLAVOPROTEIN   \n",
      "470396        6F8P                             VIRAL PROTEIN   \n",
      "470473        6FAH                              FLAVOPROTEIN   \n",
      "\n",
      "       experimentalTechnique macromoleculeType_x  residueCount_x  resolution  \\\n",
      "324        X-RAY DIFFRACTION             Protein             232        2.53   \n",
      "376        X-RAY DIFFRACTION             Protein             430        2.20   \n",
      "441        X-RAY DIFFRACTION             Protein             650        2.80   \n",
      "561        X-RAY DIFFRACTION             Protein             182        2.40   \n",
      "601        X-RAY DIFFRACTION             Protein             206        2.30   \n",
      "...                      ...                 ...             ...         ...   \n",
      "470383     X-RAY DIFFRACTION             Protein             424        2.45   \n",
      "470387     X-RAY DIFFRACTION             Protein             497        2.29   \n",
      "470390     X-RAY DIFFRACTION             Protein            1148        2.22   \n",
      "470396     X-RAY DIFFRACTION             Protein             316        1.60   \n",
      "470473     X-RAY DIFFRACTION             Protein            2074        3.13   \n",
      "\n",
      "        structureMolecularWeight          crystallizationMethod  \\\n",
      "324                     26562.73                   hanging drop   \n",
      "376                     47657.25  VAPOR DIFFUSION, SITTING DROP   \n",
      "441                     73467.70                     MICROBATCH   \n",
      "561                     21160.17  VAPOR DIFFUSION, HANGING DROP   \n",
      "601                     23608.14  VAPOR DIFFUSION, HANGING DROP   \n",
      "...                          ...                            ...   \n",
      "470383                  47994.95                VAPOR DIFFUSION   \n",
      "470387                  58337.03  VAPOR DIFFUSION, SITTING DROP   \n",
      "470390                 128053.03  VAPOR DIFFUSION, HANGING DROP   \n",
      "470396                  34958.86  VAPOR DIFFUSION, SITTING DROP   \n",
      "470473                 231360.91  VAPOR DIFFUSION, SITTING DROP   \n",
      "\n",
      "        crystallizationTempK  densityMatthews  densityPercentSol  \\\n",
      "324                   277.00             3.00              34.00   \n",
      "376                   277.00             2.49              51.03   \n",
      "441                   277.00             2.25              45.00   \n",
      "561                   277.00             2.77              56.00   \n",
      "601                   289.00             2.30              35.00   \n",
      "...                      ...              ...                ...   \n",
      "470383                291.00             2.61              56.00   \n",
      "470387                293.00             3.83              67.89   \n",
      "470390                294.00             2.90              57.00   \n",
      "470396                298.00             2.47              50.15   \n",
      "470473                293.15             3.49              64.73   \n",
      "\n",
      "                                              pdbxDetails  phValue  \\\n",
      "324     THE SRPPHI14-9 PROTEIN WAS CRYSTALLIZED (BIRSE...      7.7   \n",
      "376     THE PROTEIN SOLUTION CONTAINING 23.3 MG/ML OF ...      7.6   \n",
      "441     THE PROTEIN COMPLEX (10 MG/ML SOLUTION) WAS CR...      6.8   \n",
      "561     CRYSTALS WERE OBTAINED AT 277 K BY THE HANGING...      8.5   \n",
      "601     HANGING-DROP VAPOR DIFFUSION METHOD WAS USED A...      8.0   \n",
      "...                                                   ...      ...   \n",
      "470383                      50 mM Tris pH 7.3 and 40% MPD      7.3   \n",
      "470387  9% (W/V) PEG 6000 AND 0.1 M SODIUM         CIT...      5.2   \n",
      "470390  20% PEG6000, , 0.2 M NaCl, 0.1 M NaAcetate pH 5.0      5.0   \n",
      "470396               20% w/v PEG 6000, 0.1 M HEPES pH 7.0      7.0   \n",
      "470473               PEG 4000, Tris/HCl, Lithium sulphate      8.5   \n",
      "\n",
      "        publicationYear chainId  \\\n",
      "324              1997.0       A   \n",
      "376              1998.0       A   \n",
      "441              1998.0       B   \n",
      "561              1998.0       A   \n",
      "601              1998.0       A   \n",
      "...                 ...     ...   \n",
      "470383           2018.0       A   \n",
      "470387           2018.0       A   \n",
      "470390           2018.0       A   \n",
      "470396           2018.0       A   \n",
      "470473           2018.0       A   \n",
      "\n",
      "                                                 sequence  residueCount_y  \\\n",
      "324     MASMTGGQQMGRIPGNSPRMVLLESEQFLTELTRLFQKCRSSGSVF...             232   \n",
      "376     SNQEPATILLIDDHPMLRTGVKQLISMAPDITVVGEASNGEQGIEL...             430   \n",
      "441     XSELDQLRQEAEQLKNQIRDARKACADATLSQITNNIDPVGRIQMR...             650   \n",
      "561     SMAAIRKKLVIVGDVACGKTCLLIVFSKDQFPEVYVPTVFENYVAD...             182   \n",
      "601     TDQQAEARSYLSEEMIAEFKAAFDMFDADGGGDISVKELGTVMRML...             206   \n",
      "...                                                   ...             ...   \n",
      "470383  GAASRLRSPSVLEVREKGYERLKEELAKAQRELKLKDEECERLSKV...             424   \n",
      "470387  ETGRSIPLGVIHNSALQVSDVDKLVCRDKLSSTNQLRSVGLNLEGN...             497   \n",
      "470390  MPASLLRFLALAGTAVGLTTNHNHSPSCRVLPGDAAWPSSRDWAKL...            1148   \n",
      "470396  EDPHLRNRPGKGHNYIDGMTQEDATCKPVTYAGACSSFDVLLEKGK...             316   \n",
      "470473  MAIKVIEEKCIGCSKCQKSCPFDAITIENKIAVIGDACTNCGTCID...            2074   \n",
      "\n",
      "       macromoleculeType_y  \n",
      "324                Protein  \n",
      "376                Protein  \n",
      "441                Protein  \n",
      "561                Protein  \n",
      "601                Protein  \n",
      "...                    ...  \n",
      "470383             Protein  \n",
      "470387             Protein  \n",
      "470390             Protein  \n",
      "470396             Protein  \n",
      "470473             Protein  \n",
      "\n",
      "[60757 rows x 18 columns]\n"
     ]
    }
   ],
   "source": [
    "df = df[df['macromoleculeType_x'] == 'Protein']\n",
    "print(len(df))\n",
    "print(df)"
   ]
  },
  {
   "cell_type": "code",
   "execution_count": 11,
   "metadata": {
    "execution": {
     "iopub.execute_input": "2021-01-02T16:38:08.036900Z",
     "iopub.status.busy": "2021-01-02T16:38:08.035926Z",
     "iopub.status.idle": "2021-01-02T16:38:08.077718Z",
     "shell.execute_reply": "2021-01-02T16:38:08.078209Z"
    },
    "papermill": {
     "duration": 0.096578,
     "end_time": "2021-01-02T16:38:08.078333",
     "exception": false,
     "start_time": "2021-01-02T16:38:07.981755",
     "status": "completed"
    },
    "tags": []
   },
   "outputs": [
    {
     "data": {
      "text/html": [
       "<div>\n",
       "<style scoped>\n",
       "    .dataframe tbody tr th:only-of-type {\n",
       "        vertical-align: middle;\n",
       "    }\n",
       "\n",
       "    .dataframe tbody tr th {\n",
       "        vertical-align: top;\n",
       "    }\n",
       "\n",
       "    .dataframe thead th {\n",
       "        text-align: right;\n",
       "    }\n",
       "</style>\n",
       "<table border=\"1\" class=\"dataframe\">\n",
       "  <thead>\n",
       "    <tr style=\"text-align: right;\">\n",
       "      <th></th>\n",
       "      <th>index</th>\n",
       "      <th>structureId</th>\n",
       "      <th>classification</th>\n",
       "      <th>experimentalTechnique</th>\n",
       "      <th>macromoleculeType_x</th>\n",
       "      <th>residueCount_x</th>\n",
       "      <th>resolution</th>\n",
       "      <th>structureMolecularWeight</th>\n",
       "      <th>crystallizationMethod</th>\n",
       "      <th>crystallizationTempK</th>\n",
       "      <th>densityMatthews</th>\n",
       "      <th>densityPercentSol</th>\n",
       "      <th>pdbxDetails</th>\n",
       "      <th>phValue</th>\n",
       "      <th>publicationYear</th>\n",
       "      <th>chainId</th>\n",
       "      <th>sequence</th>\n",
       "      <th>residueCount_y</th>\n",
       "      <th>macromoleculeType_y</th>\n",
       "    </tr>\n",
       "  </thead>\n",
       "  <tbody>\n",
       "    <tr>\n",
       "      <th>0</th>\n",
       "      <td>324</td>\n",
       "      <td>1914</td>\n",
       "      <td>ALU DOMAIN</td>\n",
       "      <td>X-RAY DIFFRACTION</td>\n",
       "      <td>Protein</td>\n",
       "      <td>232</td>\n",
       "      <td>2.53</td>\n",
       "      <td>26562.73</td>\n",
       "      <td>hanging drop</td>\n",
       "      <td>277.00</td>\n",
       "      <td>3.00</td>\n",
       "      <td>34.00</td>\n",
       "      <td>THE SRPPHI14-9 PROTEIN WAS CRYSTALLIZED (BIRSE...</td>\n",
       "      <td>7.7</td>\n",
       "      <td>1997.0</td>\n",
       "      <td>A</td>\n",
       "      <td>MASMTGGQQMGRIPGNSPRMVLLESEQFLTELTRLFQKCRSSGSVF...</td>\n",
       "      <td>232</td>\n",
       "      <td>Protein</td>\n",
       "    </tr>\n",
       "    <tr>\n",
       "      <th>1</th>\n",
       "      <td>376</td>\n",
       "      <td>1A04</td>\n",
       "      <td>SIGNAL TRANSDUCTION PROTEIN</td>\n",
       "      <td>X-RAY DIFFRACTION</td>\n",
       "      <td>Protein</td>\n",
       "      <td>430</td>\n",
       "      <td>2.20</td>\n",
       "      <td>47657.25</td>\n",
       "      <td>VAPOR DIFFUSION, SITTING DROP</td>\n",
       "      <td>277.00</td>\n",
       "      <td>2.49</td>\n",
       "      <td>51.03</td>\n",
       "      <td>THE PROTEIN SOLUTION CONTAINING 23.3 MG/ML OF ...</td>\n",
       "      <td>7.6</td>\n",
       "      <td>1998.0</td>\n",
       "      <td>A</td>\n",
       "      <td>SNQEPATILLIDDHPMLRTGVKQLISMAPDITVVGEASNGEQGIEL...</td>\n",
       "      <td>430</td>\n",
       "      <td>Protein</td>\n",
       "    </tr>\n",
       "    <tr>\n",
       "      <th>2</th>\n",
       "      <td>441</td>\n",
       "      <td>1A0R</td>\n",
       "      <td>COMPLEX (TRANSDUCER/TRANSDUCTION)</td>\n",
       "      <td>X-RAY DIFFRACTION</td>\n",
       "      <td>Protein</td>\n",
       "      <td>650</td>\n",
       "      <td>2.80</td>\n",
       "      <td>73467.70</td>\n",
       "      <td>MICROBATCH</td>\n",
       "      <td>277.00</td>\n",
       "      <td>2.25</td>\n",
       "      <td>45.00</td>\n",
       "      <td>THE PROTEIN COMPLEX (10 MG/ML SOLUTION) WAS CR...</td>\n",
       "      <td>6.8</td>\n",
       "      <td>1998.0</td>\n",
       "      <td>B</td>\n",
       "      <td>XSELDQLRQEAEQLKNQIRDARKACADATLSQITNNIDPVGRIQMR...</td>\n",
       "      <td>650</td>\n",
       "      <td>Protein</td>\n",
       "    </tr>\n",
       "    <tr>\n",
       "      <th>3</th>\n",
       "      <td>561</td>\n",
       "      <td>1A2B</td>\n",
       "      <td>ONCOGENE PROTEIN</td>\n",
       "      <td>X-RAY DIFFRACTION</td>\n",
       "      <td>Protein</td>\n",
       "      <td>182</td>\n",
       "      <td>2.40</td>\n",
       "      <td>21160.17</td>\n",
       "      <td>VAPOR DIFFUSION, HANGING DROP</td>\n",
       "      <td>277.00</td>\n",
       "      <td>2.77</td>\n",
       "      <td>56.00</td>\n",
       "      <td>CRYSTALS WERE OBTAINED AT 277 K BY THE HANGING...</td>\n",
       "      <td>8.5</td>\n",
       "      <td>1998.0</td>\n",
       "      <td>A</td>\n",
       "      <td>SMAAIRKKLVIVGDVACGKTCLLIVFSKDQFPEVYVPTVFENYVAD...</td>\n",
       "      <td>182</td>\n",
       "      <td>Protein</td>\n",
       "    </tr>\n",
       "    <tr>\n",
       "      <th>4</th>\n",
       "      <td>601</td>\n",
       "      <td>1A2X</td>\n",
       "      <td>COMPLEX (SKELETAL MUSCLE/MUSCLE PROTEIN)</td>\n",
       "      <td>X-RAY DIFFRACTION</td>\n",
       "      <td>Protein</td>\n",
       "      <td>206</td>\n",
       "      <td>2.30</td>\n",
       "      <td>23608.14</td>\n",
       "      <td>VAPOR DIFFUSION, HANGING DROP</td>\n",
       "      <td>289.00</td>\n",
       "      <td>2.30</td>\n",
       "      <td>35.00</td>\n",
       "      <td>HANGING-DROP VAPOR DIFFUSION METHOD WAS USED A...</td>\n",
       "      <td>8.0</td>\n",
       "      <td>1998.0</td>\n",
       "      <td>A</td>\n",
       "      <td>TDQQAEARSYLSEEMIAEFKAAFDMFDADGGGDISVKELGTVMRML...</td>\n",
       "      <td>206</td>\n",
       "      <td>Protein</td>\n",
       "    </tr>\n",
       "    <tr>\n",
       "      <th>...</th>\n",
       "      <td>...</td>\n",
       "      <td>...</td>\n",
       "      <td>...</td>\n",
       "      <td>...</td>\n",
       "      <td>...</td>\n",
       "      <td>...</td>\n",
       "      <td>...</td>\n",
       "      <td>...</td>\n",
       "      <td>...</td>\n",
       "      <td>...</td>\n",
       "      <td>...</td>\n",
       "      <td>...</td>\n",
       "      <td>...</td>\n",
       "      <td>...</td>\n",
       "      <td>...</td>\n",
       "      <td>...</td>\n",
       "      <td>...</td>\n",
       "      <td>...</td>\n",
       "      <td>...</td>\n",
       "    </tr>\n",
       "    <tr>\n",
       "      <th>60752</th>\n",
       "      <td>470383</td>\n",
       "      <td>6F6P</td>\n",
       "      <td>HYDROLASE</td>\n",
       "      <td>X-RAY DIFFRACTION</td>\n",
       "      <td>Protein</td>\n",
       "      <td>424</td>\n",
       "      <td>2.45</td>\n",
       "      <td>47994.95</td>\n",
       "      <td>VAPOR DIFFUSION</td>\n",
       "      <td>291.00</td>\n",
       "      <td>2.61</td>\n",
       "      <td>56.00</td>\n",
       "      <td>50 mM Tris pH 7.3 and 40% MPD</td>\n",
       "      <td>7.3</td>\n",
       "      <td>2018.0</td>\n",
       "      <td>A</td>\n",
       "      <td>GAASRLRSPSVLEVREKGYERLKEELAKAQRELKLKDEECERLSKV...</td>\n",
       "      <td>424</td>\n",
       "      <td>Protein</td>\n",
       "    </tr>\n",
       "    <tr>\n",
       "      <th>60753</th>\n",
       "      <td>470387</td>\n",
       "      <td>6F6S</td>\n",
       "      <td>VIRAL PROTEIN</td>\n",
       "      <td>X-RAY DIFFRACTION</td>\n",
       "      <td>Protein</td>\n",
       "      <td>497</td>\n",
       "      <td>2.29</td>\n",
       "      <td>58337.03</td>\n",
       "      <td>VAPOR DIFFUSION, SITTING DROP</td>\n",
       "      <td>293.00</td>\n",
       "      <td>3.83</td>\n",
       "      <td>67.89</td>\n",
       "      <td>9% (W/V) PEG 6000 AND 0.1 M SODIUM         CIT...</td>\n",
       "      <td>5.2</td>\n",
       "      <td>2018.0</td>\n",
       "      <td>A</td>\n",
       "      <td>ETGRSIPLGVIHNSALQVSDVDKLVCRDKLSSTNQLRSVGLNLEGN...</td>\n",
       "      <td>497</td>\n",
       "      <td>Protein</td>\n",
       "    </tr>\n",
       "    <tr>\n",
       "      <th>60754</th>\n",
       "      <td>470390</td>\n",
       "      <td>6F73</td>\n",
       "      <td>FLAVOPROTEIN</td>\n",
       "      <td>X-RAY DIFFRACTION</td>\n",
       "      <td>Protein</td>\n",
       "      <td>1148</td>\n",
       "      <td>2.22</td>\n",
       "      <td>128053.03</td>\n",
       "      <td>VAPOR DIFFUSION, HANGING DROP</td>\n",
       "      <td>294.00</td>\n",
       "      <td>2.90</td>\n",
       "      <td>57.00</td>\n",
       "      <td>20% PEG6000, , 0.2 M NaCl, 0.1 M NaAcetate pH 5.0</td>\n",
       "      <td>5.0</td>\n",
       "      <td>2018.0</td>\n",
       "      <td>A</td>\n",
       "      <td>MPASLLRFLALAGTAVGLTTNHNHSPSCRVLPGDAAWPSSRDWAKL...</td>\n",
       "      <td>1148</td>\n",
       "      <td>Protein</td>\n",
       "    </tr>\n",
       "    <tr>\n",
       "      <th>60755</th>\n",
       "      <td>470396</td>\n",
       "      <td>6F8P</td>\n",
       "      <td>VIRAL PROTEIN</td>\n",
       "      <td>X-RAY DIFFRACTION</td>\n",
       "      <td>Protein</td>\n",
       "      <td>316</td>\n",
       "      <td>1.60</td>\n",
       "      <td>34958.86</td>\n",
       "      <td>VAPOR DIFFUSION, SITTING DROP</td>\n",
       "      <td>298.00</td>\n",
       "      <td>2.47</td>\n",
       "      <td>50.15</td>\n",
       "      <td>20% w/v PEG 6000, 0.1 M HEPES pH 7.0</td>\n",
       "      <td>7.0</td>\n",
       "      <td>2018.0</td>\n",
       "      <td>A</td>\n",
       "      <td>EDPHLRNRPGKGHNYIDGMTQEDATCKPVTYAGACSSFDVLLEKGK...</td>\n",
       "      <td>316</td>\n",
       "      <td>Protein</td>\n",
       "    </tr>\n",
       "    <tr>\n",
       "      <th>60756</th>\n",
       "      <td>470473</td>\n",
       "      <td>6FAH</td>\n",
       "      <td>FLAVOPROTEIN</td>\n",
       "      <td>X-RAY DIFFRACTION</td>\n",
       "      <td>Protein</td>\n",
       "      <td>2074</td>\n",
       "      <td>3.13</td>\n",
       "      <td>231360.91</td>\n",
       "      <td>VAPOR DIFFUSION, SITTING DROP</td>\n",
       "      <td>293.15</td>\n",
       "      <td>3.49</td>\n",
       "      <td>64.73</td>\n",
       "      <td>PEG 4000, Tris/HCl, Lithium sulphate</td>\n",
       "      <td>8.5</td>\n",
       "      <td>2018.0</td>\n",
       "      <td>A</td>\n",
       "      <td>MAIKVIEEKCIGCSKCQKSCPFDAITIENKIAVIGDACTNCGTCID...</td>\n",
       "      <td>2074</td>\n",
       "      <td>Protein</td>\n",
       "    </tr>\n",
       "  </tbody>\n",
       "</table>\n",
       "<p>60757 rows × 19 columns</p>\n",
       "</div>"
      ],
      "text/plain": [
       "        index structureId                            classification  \\\n",
       "0         324        1914                                ALU DOMAIN   \n",
       "1         376        1A04               SIGNAL TRANSDUCTION PROTEIN   \n",
       "2         441        1A0R         COMPLEX (TRANSDUCER/TRANSDUCTION)   \n",
       "3         561        1A2B                          ONCOGENE PROTEIN   \n",
       "4         601        1A2X  COMPLEX (SKELETAL MUSCLE/MUSCLE PROTEIN)   \n",
       "...       ...         ...                                       ...   \n",
       "60752  470383        6F6P                                 HYDROLASE   \n",
       "60753  470387        6F6S                             VIRAL PROTEIN   \n",
       "60754  470390        6F73                              FLAVOPROTEIN   \n",
       "60755  470396        6F8P                             VIRAL PROTEIN   \n",
       "60756  470473        6FAH                              FLAVOPROTEIN   \n",
       "\n",
       "      experimentalTechnique macromoleculeType_x  residueCount_x  resolution  \\\n",
       "0         X-RAY DIFFRACTION             Protein             232        2.53   \n",
       "1         X-RAY DIFFRACTION             Protein             430        2.20   \n",
       "2         X-RAY DIFFRACTION             Protein             650        2.80   \n",
       "3         X-RAY DIFFRACTION             Protein             182        2.40   \n",
       "4         X-RAY DIFFRACTION             Protein             206        2.30   \n",
       "...                     ...                 ...             ...         ...   \n",
       "60752     X-RAY DIFFRACTION             Protein             424        2.45   \n",
       "60753     X-RAY DIFFRACTION             Protein             497        2.29   \n",
       "60754     X-RAY DIFFRACTION             Protein            1148        2.22   \n",
       "60755     X-RAY DIFFRACTION             Protein             316        1.60   \n",
       "60756     X-RAY DIFFRACTION             Protein            2074        3.13   \n",
       "\n",
       "       structureMolecularWeight          crystallizationMethod  \\\n",
       "0                      26562.73                   hanging drop   \n",
       "1                      47657.25  VAPOR DIFFUSION, SITTING DROP   \n",
       "2                      73467.70                     MICROBATCH   \n",
       "3                      21160.17  VAPOR DIFFUSION, HANGING DROP   \n",
       "4                      23608.14  VAPOR DIFFUSION, HANGING DROP   \n",
       "...                         ...                            ...   \n",
       "60752                  47994.95                VAPOR DIFFUSION   \n",
       "60753                  58337.03  VAPOR DIFFUSION, SITTING DROP   \n",
       "60754                 128053.03  VAPOR DIFFUSION, HANGING DROP   \n",
       "60755                  34958.86  VAPOR DIFFUSION, SITTING DROP   \n",
       "60756                 231360.91  VAPOR DIFFUSION, SITTING DROP   \n",
       "\n",
       "       crystallizationTempK  densityMatthews  densityPercentSol  \\\n",
       "0                    277.00             3.00              34.00   \n",
       "1                    277.00             2.49              51.03   \n",
       "2                    277.00             2.25              45.00   \n",
       "3                    277.00             2.77              56.00   \n",
       "4                    289.00             2.30              35.00   \n",
       "...                     ...              ...                ...   \n",
       "60752                291.00             2.61              56.00   \n",
       "60753                293.00             3.83              67.89   \n",
       "60754                294.00             2.90              57.00   \n",
       "60755                298.00             2.47              50.15   \n",
       "60756                293.15             3.49              64.73   \n",
       "\n",
       "                                             pdbxDetails  phValue  \\\n",
       "0      THE SRPPHI14-9 PROTEIN WAS CRYSTALLIZED (BIRSE...      7.7   \n",
       "1      THE PROTEIN SOLUTION CONTAINING 23.3 MG/ML OF ...      7.6   \n",
       "2      THE PROTEIN COMPLEX (10 MG/ML SOLUTION) WAS CR...      6.8   \n",
       "3      CRYSTALS WERE OBTAINED AT 277 K BY THE HANGING...      8.5   \n",
       "4      HANGING-DROP VAPOR DIFFUSION METHOD WAS USED A...      8.0   \n",
       "...                                                  ...      ...   \n",
       "60752                      50 mM Tris pH 7.3 and 40% MPD      7.3   \n",
       "60753  9% (W/V) PEG 6000 AND 0.1 M SODIUM         CIT...      5.2   \n",
       "60754  20% PEG6000, , 0.2 M NaCl, 0.1 M NaAcetate pH 5.0      5.0   \n",
       "60755               20% w/v PEG 6000, 0.1 M HEPES pH 7.0      7.0   \n",
       "60756               PEG 4000, Tris/HCl, Lithium sulphate      8.5   \n",
       "\n",
       "       publicationYear chainId  \\\n",
       "0               1997.0       A   \n",
       "1               1998.0       A   \n",
       "2               1998.0       B   \n",
       "3               1998.0       A   \n",
       "4               1998.0       A   \n",
       "...                ...     ...   \n",
       "60752           2018.0       A   \n",
       "60753           2018.0       A   \n",
       "60754           2018.0       A   \n",
       "60755           2018.0       A   \n",
       "60756           2018.0       A   \n",
       "\n",
       "                                                sequence  residueCount_y  \\\n",
       "0      MASMTGGQQMGRIPGNSPRMVLLESEQFLTELTRLFQKCRSSGSVF...             232   \n",
       "1      SNQEPATILLIDDHPMLRTGVKQLISMAPDITVVGEASNGEQGIEL...             430   \n",
       "2      XSELDQLRQEAEQLKNQIRDARKACADATLSQITNNIDPVGRIQMR...             650   \n",
       "3      SMAAIRKKLVIVGDVACGKTCLLIVFSKDQFPEVYVPTVFENYVAD...             182   \n",
       "4      TDQQAEARSYLSEEMIAEFKAAFDMFDADGGGDISVKELGTVMRML...             206   \n",
       "...                                                  ...             ...   \n",
       "60752  GAASRLRSPSVLEVREKGYERLKEELAKAQRELKLKDEECERLSKV...             424   \n",
       "60753  ETGRSIPLGVIHNSALQVSDVDKLVCRDKLSSTNQLRSVGLNLEGN...             497   \n",
       "60754  MPASLLRFLALAGTAVGLTTNHNHSPSCRVLPGDAAWPSSRDWAKL...            1148   \n",
       "60755  EDPHLRNRPGKGHNYIDGMTQEDATCKPVTYAGACSSFDVLLEKGK...             316   \n",
       "60756  MAIKVIEEKCIGCSKCQKSCPFDAITIENKIAVIGDACTNCGTCID...            2074   \n",
       "\n",
       "      macromoleculeType_y  \n",
       "0                 Protein  \n",
       "1                 Protein  \n",
       "2                 Protein  \n",
       "3                 Protein  \n",
       "4                 Protein  \n",
       "...                   ...  \n",
       "60752             Protein  \n",
       "60753             Protein  \n",
       "60754             Protein  \n",
       "60755             Protein  \n",
       "60756             Protein  \n",
       "\n",
       "[60757 rows x 19 columns]"
      ]
     },
     "execution_count": 11,
     "metadata": {},
     "output_type": "execute_result"
    }
   ],
   "source": [
    "df=df.reset_index()\n",
    "df"
   ]
  },
  {
   "cell_type": "code",
   "execution_count": 12,
   "metadata": {
    "execution": {
     "iopub.execute_input": "2021-01-02T16:38:08.184669Z",
     "iopub.status.busy": "2021-01-02T16:38:08.183819Z",
     "iopub.status.idle": "2021-01-02T16:38:08.224323Z",
     "shell.execute_reply": "2021-01-02T16:38:08.224845Z"
    },
    "papermill": {
     "duration": 0.095101,
     "end_time": "2021-01-02T16:38:08.224972",
     "exception": false,
     "start_time": "2021-01-02T16:38:08.129871",
     "status": "completed"
    },
    "tags": []
   },
   "outputs": [
    {
     "data": {
      "text/html": [
       "<div>\n",
       "<style scoped>\n",
       "    .dataframe tbody tr th:only-of-type {\n",
       "        vertical-align: middle;\n",
       "    }\n",
       "\n",
       "    .dataframe tbody tr th {\n",
       "        vertical-align: top;\n",
       "    }\n",
       "\n",
       "    .dataframe thead th {\n",
       "        text-align: right;\n",
       "    }\n",
       "</style>\n",
       "<table border=\"1\" class=\"dataframe\">\n",
       "  <thead>\n",
       "    <tr style=\"text-align: right;\">\n",
       "      <th></th>\n",
       "      <th>structureId</th>\n",
       "      <th>classification</th>\n",
       "      <th>experimentalTechnique</th>\n",
       "      <th>macromoleculeType_x</th>\n",
       "      <th>residueCount_x</th>\n",
       "      <th>resolution</th>\n",
       "      <th>structureMolecularWeight</th>\n",
       "      <th>crystallizationMethod</th>\n",
       "      <th>crystallizationTempK</th>\n",
       "      <th>densityMatthews</th>\n",
       "      <th>densityPercentSol</th>\n",
       "      <th>pdbxDetails</th>\n",
       "      <th>phValue</th>\n",
       "      <th>publicationYear</th>\n",
       "      <th>chainId</th>\n",
       "      <th>sequence</th>\n",
       "      <th>residueCount_y</th>\n",
       "      <th>macromoleculeType_y</th>\n",
       "    </tr>\n",
       "  </thead>\n",
       "  <tbody>\n",
       "    <tr>\n",
       "      <th>0</th>\n",
       "      <td>1914</td>\n",
       "      <td>ALU DOMAIN</td>\n",
       "      <td>X-RAY DIFFRACTION</td>\n",
       "      <td>Protein</td>\n",
       "      <td>232</td>\n",
       "      <td>2.53</td>\n",
       "      <td>26562.73</td>\n",
       "      <td>hanging drop</td>\n",
       "      <td>277.00</td>\n",
       "      <td>3.00</td>\n",
       "      <td>34.00</td>\n",
       "      <td>THE SRPPHI14-9 PROTEIN WAS CRYSTALLIZED (BIRSE...</td>\n",
       "      <td>7.7</td>\n",
       "      <td>1997.0</td>\n",
       "      <td>A</td>\n",
       "      <td>MASMTGGQQMGRIPGNSPRMVLLESEQFLTELTRLFQKCRSSGSVF...</td>\n",
       "      <td>232</td>\n",
       "      <td>Protein</td>\n",
       "    </tr>\n",
       "    <tr>\n",
       "      <th>1</th>\n",
       "      <td>1A04</td>\n",
       "      <td>SIGNAL TRANSDUCTION PROTEIN</td>\n",
       "      <td>X-RAY DIFFRACTION</td>\n",
       "      <td>Protein</td>\n",
       "      <td>430</td>\n",
       "      <td>2.20</td>\n",
       "      <td>47657.25</td>\n",
       "      <td>VAPOR DIFFUSION, SITTING DROP</td>\n",
       "      <td>277.00</td>\n",
       "      <td>2.49</td>\n",
       "      <td>51.03</td>\n",
       "      <td>THE PROTEIN SOLUTION CONTAINING 23.3 MG/ML OF ...</td>\n",
       "      <td>7.6</td>\n",
       "      <td>1998.0</td>\n",
       "      <td>A</td>\n",
       "      <td>SNQEPATILLIDDHPMLRTGVKQLISMAPDITVVGEASNGEQGIEL...</td>\n",
       "      <td>430</td>\n",
       "      <td>Protein</td>\n",
       "    </tr>\n",
       "    <tr>\n",
       "      <th>2</th>\n",
       "      <td>1A0R</td>\n",
       "      <td>COMPLEX (TRANSDUCER/TRANSDUCTION)</td>\n",
       "      <td>X-RAY DIFFRACTION</td>\n",
       "      <td>Protein</td>\n",
       "      <td>650</td>\n",
       "      <td>2.80</td>\n",
       "      <td>73467.70</td>\n",
       "      <td>MICROBATCH</td>\n",
       "      <td>277.00</td>\n",
       "      <td>2.25</td>\n",
       "      <td>45.00</td>\n",
       "      <td>THE PROTEIN COMPLEX (10 MG/ML SOLUTION) WAS CR...</td>\n",
       "      <td>6.8</td>\n",
       "      <td>1998.0</td>\n",
       "      <td>B</td>\n",
       "      <td>XSELDQLRQEAEQLKNQIRDARKACADATLSQITNNIDPVGRIQMR...</td>\n",
       "      <td>650</td>\n",
       "      <td>Protein</td>\n",
       "    </tr>\n",
       "    <tr>\n",
       "      <th>3</th>\n",
       "      <td>1A2B</td>\n",
       "      <td>ONCOGENE PROTEIN</td>\n",
       "      <td>X-RAY DIFFRACTION</td>\n",
       "      <td>Protein</td>\n",
       "      <td>182</td>\n",
       "      <td>2.40</td>\n",
       "      <td>21160.17</td>\n",
       "      <td>VAPOR DIFFUSION, HANGING DROP</td>\n",
       "      <td>277.00</td>\n",
       "      <td>2.77</td>\n",
       "      <td>56.00</td>\n",
       "      <td>CRYSTALS WERE OBTAINED AT 277 K BY THE HANGING...</td>\n",
       "      <td>8.5</td>\n",
       "      <td>1998.0</td>\n",
       "      <td>A</td>\n",
       "      <td>SMAAIRKKLVIVGDVACGKTCLLIVFSKDQFPEVYVPTVFENYVAD...</td>\n",
       "      <td>182</td>\n",
       "      <td>Protein</td>\n",
       "    </tr>\n",
       "    <tr>\n",
       "      <th>4</th>\n",
       "      <td>1A2X</td>\n",
       "      <td>COMPLEX (SKELETAL MUSCLE/MUSCLE PROTEIN)</td>\n",
       "      <td>X-RAY DIFFRACTION</td>\n",
       "      <td>Protein</td>\n",
       "      <td>206</td>\n",
       "      <td>2.30</td>\n",
       "      <td>23608.14</td>\n",
       "      <td>VAPOR DIFFUSION, HANGING DROP</td>\n",
       "      <td>289.00</td>\n",
       "      <td>2.30</td>\n",
       "      <td>35.00</td>\n",
       "      <td>HANGING-DROP VAPOR DIFFUSION METHOD WAS USED A...</td>\n",
       "      <td>8.0</td>\n",
       "      <td>1998.0</td>\n",
       "      <td>A</td>\n",
       "      <td>TDQQAEARSYLSEEMIAEFKAAFDMFDADGGGDISVKELGTVMRML...</td>\n",
       "      <td>206</td>\n",
       "      <td>Protein</td>\n",
       "    </tr>\n",
       "    <tr>\n",
       "      <th>...</th>\n",
       "      <td>...</td>\n",
       "      <td>...</td>\n",
       "      <td>...</td>\n",
       "      <td>...</td>\n",
       "      <td>...</td>\n",
       "      <td>...</td>\n",
       "      <td>...</td>\n",
       "      <td>...</td>\n",
       "      <td>...</td>\n",
       "      <td>...</td>\n",
       "      <td>...</td>\n",
       "      <td>...</td>\n",
       "      <td>...</td>\n",
       "      <td>...</td>\n",
       "      <td>...</td>\n",
       "      <td>...</td>\n",
       "      <td>...</td>\n",
       "      <td>...</td>\n",
       "    </tr>\n",
       "    <tr>\n",
       "      <th>60752</th>\n",
       "      <td>6F6P</td>\n",
       "      <td>HYDROLASE</td>\n",
       "      <td>X-RAY DIFFRACTION</td>\n",
       "      <td>Protein</td>\n",
       "      <td>424</td>\n",
       "      <td>2.45</td>\n",
       "      <td>47994.95</td>\n",
       "      <td>VAPOR DIFFUSION</td>\n",
       "      <td>291.00</td>\n",
       "      <td>2.61</td>\n",
       "      <td>56.00</td>\n",
       "      <td>50 mM Tris pH 7.3 and 40% MPD</td>\n",
       "      <td>7.3</td>\n",
       "      <td>2018.0</td>\n",
       "      <td>A</td>\n",
       "      <td>GAASRLRSPSVLEVREKGYERLKEELAKAQRELKLKDEECERLSKV...</td>\n",
       "      <td>424</td>\n",
       "      <td>Protein</td>\n",
       "    </tr>\n",
       "    <tr>\n",
       "      <th>60753</th>\n",
       "      <td>6F6S</td>\n",
       "      <td>VIRAL PROTEIN</td>\n",
       "      <td>X-RAY DIFFRACTION</td>\n",
       "      <td>Protein</td>\n",
       "      <td>497</td>\n",
       "      <td>2.29</td>\n",
       "      <td>58337.03</td>\n",
       "      <td>VAPOR DIFFUSION, SITTING DROP</td>\n",
       "      <td>293.00</td>\n",
       "      <td>3.83</td>\n",
       "      <td>67.89</td>\n",
       "      <td>9% (W/V) PEG 6000 AND 0.1 M SODIUM         CIT...</td>\n",
       "      <td>5.2</td>\n",
       "      <td>2018.0</td>\n",
       "      <td>A</td>\n",
       "      <td>ETGRSIPLGVIHNSALQVSDVDKLVCRDKLSSTNQLRSVGLNLEGN...</td>\n",
       "      <td>497</td>\n",
       "      <td>Protein</td>\n",
       "    </tr>\n",
       "    <tr>\n",
       "      <th>60754</th>\n",
       "      <td>6F73</td>\n",
       "      <td>FLAVOPROTEIN</td>\n",
       "      <td>X-RAY DIFFRACTION</td>\n",
       "      <td>Protein</td>\n",
       "      <td>1148</td>\n",
       "      <td>2.22</td>\n",
       "      <td>128053.03</td>\n",
       "      <td>VAPOR DIFFUSION, HANGING DROP</td>\n",
       "      <td>294.00</td>\n",
       "      <td>2.90</td>\n",
       "      <td>57.00</td>\n",
       "      <td>20% PEG6000, , 0.2 M NaCl, 0.1 M NaAcetate pH 5.0</td>\n",
       "      <td>5.0</td>\n",
       "      <td>2018.0</td>\n",
       "      <td>A</td>\n",
       "      <td>MPASLLRFLALAGTAVGLTTNHNHSPSCRVLPGDAAWPSSRDWAKL...</td>\n",
       "      <td>1148</td>\n",
       "      <td>Protein</td>\n",
       "    </tr>\n",
       "    <tr>\n",
       "      <th>60755</th>\n",
       "      <td>6F8P</td>\n",
       "      <td>VIRAL PROTEIN</td>\n",
       "      <td>X-RAY DIFFRACTION</td>\n",
       "      <td>Protein</td>\n",
       "      <td>316</td>\n",
       "      <td>1.60</td>\n",
       "      <td>34958.86</td>\n",
       "      <td>VAPOR DIFFUSION, SITTING DROP</td>\n",
       "      <td>298.00</td>\n",
       "      <td>2.47</td>\n",
       "      <td>50.15</td>\n",
       "      <td>20% w/v PEG 6000, 0.1 M HEPES pH 7.0</td>\n",
       "      <td>7.0</td>\n",
       "      <td>2018.0</td>\n",
       "      <td>A</td>\n",
       "      <td>EDPHLRNRPGKGHNYIDGMTQEDATCKPVTYAGACSSFDVLLEKGK...</td>\n",
       "      <td>316</td>\n",
       "      <td>Protein</td>\n",
       "    </tr>\n",
       "    <tr>\n",
       "      <th>60756</th>\n",
       "      <td>6FAH</td>\n",
       "      <td>FLAVOPROTEIN</td>\n",
       "      <td>X-RAY DIFFRACTION</td>\n",
       "      <td>Protein</td>\n",
       "      <td>2074</td>\n",
       "      <td>3.13</td>\n",
       "      <td>231360.91</td>\n",
       "      <td>VAPOR DIFFUSION, SITTING DROP</td>\n",
       "      <td>293.15</td>\n",
       "      <td>3.49</td>\n",
       "      <td>64.73</td>\n",
       "      <td>PEG 4000, Tris/HCl, Lithium sulphate</td>\n",
       "      <td>8.5</td>\n",
       "      <td>2018.0</td>\n",
       "      <td>A</td>\n",
       "      <td>MAIKVIEEKCIGCSKCQKSCPFDAITIENKIAVIGDACTNCGTCID...</td>\n",
       "      <td>2074</td>\n",
       "      <td>Protein</td>\n",
       "    </tr>\n",
       "  </tbody>\n",
       "</table>\n",
       "<p>60757 rows × 18 columns</p>\n",
       "</div>"
      ],
      "text/plain": [
       "      structureId                            classification  \\\n",
       "0            1914                                ALU DOMAIN   \n",
       "1            1A04               SIGNAL TRANSDUCTION PROTEIN   \n",
       "2            1A0R         COMPLEX (TRANSDUCER/TRANSDUCTION)   \n",
       "3            1A2B                          ONCOGENE PROTEIN   \n",
       "4            1A2X  COMPLEX (SKELETAL MUSCLE/MUSCLE PROTEIN)   \n",
       "...           ...                                       ...   \n",
       "60752        6F6P                                 HYDROLASE   \n",
       "60753        6F6S                             VIRAL PROTEIN   \n",
       "60754        6F73                              FLAVOPROTEIN   \n",
       "60755        6F8P                             VIRAL PROTEIN   \n",
       "60756        6FAH                              FLAVOPROTEIN   \n",
       "\n",
       "      experimentalTechnique macromoleculeType_x  residueCount_x  resolution  \\\n",
       "0         X-RAY DIFFRACTION             Protein             232        2.53   \n",
       "1         X-RAY DIFFRACTION             Protein             430        2.20   \n",
       "2         X-RAY DIFFRACTION             Protein             650        2.80   \n",
       "3         X-RAY DIFFRACTION             Protein             182        2.40   \n",
       "4         X-RAY DIFFRACTION             Protein             206        2.30   \n",
       "...                     ...                 ...             ...         ...   \n",
       "60752     X-RAY DIFFRACTION             Protein             424        2.45   \n",
       "60753     X-RAY DIFFRACTION             Protein             497        2.29   \n",
       "60754     X-RAY DIFFRACTION             Protein            1148        2.22   \n",
       "60755     X-RAY DIFFRACTION             Protein             316        1.60   \n",
       "60756     X-RAY DIFFRACTION             Protein            2074        3.13   \n",
       "\n",
       "       structureMolecularWeight          crystallizationMethod  \\\n",
       "0                      26562.73                   hanging drop   \n",
       "1                      47657.25  VAPOR DIFFUSION, SITTING DROP   \n",
       "2                      73467.70                     MICROBATCH   \n",
       "3                      21160.17  VAPOR DIFFUSION, HANGING DROP   \n",
       "4                      23608.14  VAPOR DIFFUSION, HANGING DROP   \n",
       "...                         ...                            ...   \n",
       "60752                  47994.95                VAPOR DIFFUSION   \n",
       "60753                  58337.03  VAPOR DIFFUSION, SITTING DROP   \n",
       "60754                 128053.03  VAPOR DIFFUSION, HANGING DROP   \n",
       "60755                  34958.86  VAPOR DIFFUSION, SITTING DROP   \n",
       "60756                 231360.91  VAPOR DIFFUSION, SITTING DROP   \n",
       "\n",
       "       crystallizationTempK  densityMatthews  densityPercentSol  \\\n",
       "0                    277.00             3.00              34.00   \n",
       "1                    277.00             2.49              51.03   \n",
       "2                    277.00             2.25              45.00   \n",
       "3                    277.00             2.77              56.00   \n",
       "4                    289.00             2.30              35.00   \n",
       "...                     ...              ...                ...   \n",
       "60752                291.00             2.61              56.00   \n",
       "60753                293.00             3.83              67.89   \n",
       "60754                294.00             2.90              57.00   \n",
       "60755                298.00             2.47              50.15   \n",
       "60756                293.15             3.49              64.73   \n",
       "\n",
       "                                             pdbxDetails  phValue  \\\n",
       "0      THE SRPPHI14-9 PROTEIN WAS CRYSTALLIZED (BIRSE...      7.7   \n",
       "1      THE PROTEIN SOLUTION CONTAINING 23.3 MG/ML OF ...      7.6   \n",
       "2      THE PROTEIN COMPLEX (10 MG/ML SOLUTION) WAS CR...      6.8   \n",
       "3      CRYSTALS WERE OBTAINED AT 277 K BY THE HANGING...      8.5   \n",
       "4      HANGING-DROP VAPOR DIFFUSION METHOD WAS USED A...      8.0   \n",
       "...                                                  ...      ...   \n",
       "60752                      50 mM Tris pH 7.3 and 40% MPD      7.3   \n",
       "60753  9% (W/V) PEG 6000 AND 0.1 M SODIUM         CIT...      5.2   \n",
       "60754  20% PEG6000, , 0.2 M NaCl, 0.1 M NaAcetate pH 5.0      5.0   \n",
       "60755               20% w/v PEG 6000, 0.1 M HEPES pH 7.0      7.0   \n",
       "60756               PEG 4000, Tris/HCl, Lithium sulphate      8.5   \n",
       "\n",
       "       publicationYear chainId  \\\n",
       "0               1997.0       A   \n",
       "1               1998.0       A   \n",
       "2               1998.0       B   \n",
       "3               1998.0       A   \n",
       "4               1998.0       A   \n",
       "...                ...     ...   \n",
       "60752           2018.0       A   \n",
       "60753           2018.0       A   \n",
       "60754           2018.0       A   \n",
       "60755           2018.0       A   \n",
       "60756           2018.0       A   \n",
       "\n",
       "                                                sequence  residueCount_y  \\\n",
       "0      MASMTGGQQMGRIPGNSPRMVLLESEQFLTELTRLFQKCRSSGSVF...             232   \n",
       "1      SNQEPATILLIDDHPMLRTGVKQLISMAPDITVVGEASNGEQGIEL...             430   \n",
       "2      XSELDQLRQEAEQLKNQIRDARKACADATLSQITNNIDPVGRIQMR...             650   \n",
       "3      SMAAIRKKLVIVGDVACGKTCLLIVFSKDQFPEVYVPTVFENYVAD...             182   \n",
       "4      TDQQAEARSYLSEEMIAEFKAAFDMFDADGGGDISVKELGTVMRML...             206   \n",
       "...                                                  ...             ...   \n",
       "60752  GAASRLRSPSVLEVREKGYERLKEELAKAQRELKLKDEECERLSKV...             424   \n",
       "60753  ETGRSIPLGVIHNSALQVSDVDKLVCRDKLSSTNQLRSVGLNLEGN...             497   \n",
       "60754  MPASLLRFLALAGTAVGLTTNHNHSPSCRVLPGDAAWPSSRDWAKL...            1148   \n",
       "60755  EDPHLRNRPGKGHNYIDGMTQEDATCKPVTYAGACSSFDVLLEKGK...             316   \n",
       "60756  MAIKVIEEKCIGCSKCQKSCPFDAITIENKIAVIGDACTNCGTCID...            2074   \n",
       "\n",
       "      macromoleculeType_y  \n",
       "0                 Protein  \n",
       "1                 Protein  \n",
       "2                 Protein  \n",
       "3                 Protein  \n",
       "4                 Protein  \n",
       "...                   ...  \n",
       "60752             Protein  \n",
       "60753             Protein  \n",
       "60754             Protein  \n",
       "60755             Protein  \n",
       "60756             Protein  \n",
       "\n",
       "[60757 rows x 18 columns]"
      ]
     },
     "execution_count": 12,
     "metadata": {},
     "output_type": "execute_result"
    }
   ],
   "source": [
    "df=df.drop(['index'],axis=1)\n",
    "df"
   ]
  },
  {
   "cell_type": "code",
   "execution_count": 13,
   "metadata": {
    "execution": {
     "iopub.execute_input": "2021-01-02T16:38:08.337942Z",
     "iopub.status.busy": "2021-01-02T16:38:08.337056Z",
     "iopub.status.idle": "2021-01-02T16:38:08.341923Z",
     "shell.execute_reply": "2021-01-02T16:38:08.341421Z"
    },
    "papermill": {
     "duration": 0.066297,
     "end_time": "2021-01-02T16:38:08.342017",
     "exception": false,
     "start_time": "2021-01-02T16:38:08.275720",
     "status": "completed"
    },
    "tags": []
   },
   "outputs": [
    {
     "name": "stdout",
     "output_type": "stream",
     "text": [
      "125\n"
     ]
    }
   ],
   "source": [
    "count=0\n",
    "for c in df.classification.values:\n",
    "    if c=='OXYGEN TRANSPORT':\n",
    "        count+=1\n",
    "print(count)"
   ]
  },
  {
   "cell_type": "code",
   "execution_count": 14,
   "metadata": {
    "execution": {
     "iopub.execute_input": "2021-01-02T16:38:08.450843Z",
     "iopub.status.busy": "2021-01-02T16:38:08.450267Z",
     "iopub.status.idle": "2021-01-02T16:38:08.465763Z",
     "shell.execute_reply": "2021-01-02T16:38:08.464863Z"
    },
    "papermill": {
     "duration": 0.071645,
     "end_time": "2021-01-02T16:38:08.465860",
     "exception": false,
     "start_time": "2021-01-02T16:38:08.394215",
     "status": "completed"
    },
    "tags": []
   },
   "outputs": [
    {
     "name": "stdout",
     "output_type": "stream",
     "text": [
      "1479.4000000000015\n"
     ]
    },
    {
     "data": {
      "text/plain": [
       "count    60757.000000\n",
       "mean       746.968102\n",
       "std       1021.778816\n",
       "min          5.000000\n",
       "25%        285.000000\n",
       "50%        468.000000\n",
       "75%        846.000000\n",
       "max      57792.000000\n",
       "Name: residueCount_x, dtype: float64"
      ]
     },
     "execution_count": 14,
     "metadata": {},
     "output_type": "execute_result"
    }
   ],
   "source": [
    "print(df.residueCount_x.quantile(0.9))\n",
    "df.residueCount_x.describe()"
   ]
  },
  {
   "cell_type": "code",
   "execution_count": 15,
   "metadata": {
    "execution": {
     "iopub.execute_input": "2021-01-02T16:38:08.575463Z",
     "iopub.status.busy": "2021-01-02T16:38:08.574855Z",
     "iopub.status.idle": "2021-01-02T16:38:08.580793Z",
     "shell.execute_reply": "2021-01-02T16:38:08.580252Z"
    },
    "papermill": {
     "duration": 0.062279,
     "end_time": "2021-01-02T16:38:08.580922",
     "exception": false,
     "start_time": "2021-01-02T16:38:08.518643",
     "status": "completed"
    },
    "tags": []
   },
   "outputs": [
    {
     "data": {
      "text/plain": [
       "Index(['structureId', 'classification', 'experimentalTechnique',\n",
       "       'macromoleculeType_x', 'residueCount_x', 'resolution',\n",
       "       'structureMolecularWeight', 'crystallizationMethod',\n",
       "       'crystallizationTempK', 'densityMatthews', 'densityPercentSol',\n",
       "       'pdbxDetails', 'phValue', 'publicationYear', 'chainId', 'sequence',\n",
       "       'residueCount_y', 'macromoleculeType_y'],\n",
       "      dtype='object')"
      ]
     },
     "execution_count": 15,
     "metadata": {},
     "output_type": "execute_result"
    }
   ],
   "source": [
    "df.columns"
   ]
  },
  {
   "cell_type": "code",
   "execution_count": 16,
   "metadata": {
    "execution": {
     "iopub.execute_input": "2021-01-02T16:38:08.692202Z",
     "iopub.status.busy": "2021-01-02T16:38:08.691296Z",
     "iopub.status.idle": "2021-01-02T16:38:08.707875Z",
     "shell.execute_reply": "2021-01-02T16:38:08.708334Z"
    },
    "papermill": {
     "duration": 0.074699,
     "end_time": "2021-01-02T16:38:08.708452",
     "exception": false,
     "start_time": "2021-01-02T16:38:08.633753",
     "status": "completed"
    },
    "tags": []
   },
   "outputs": [
    {
     "data": {
      "text/plain": [
       "count    51995.000000\n",
       "mean       470.747841\n",
       "std        272.199370\n",
       "min          5.000000\n",
       "25%        260.000000\n",
       "50%        397.000000\n",
       "75%        641.000000\n",
       "max       1198.000000\n",
       "Name: residueCount_x, dtype: float64"
      ]
     },
     "execution_count": 16,
     "metadata": {},
     "output_type": "execute_result"
    }
   ],
   "source": [
    "df = df.loc[df.residueCount_x<1200]\n",
    "df.residueCount_x.describe()"
   ]
  },
  {
   "cell_type": "code",
   "execution_count": 17,
   "metadata": {
    "execution": {
     "iopub.execute_input": "2021-01-02T16:38:08.837818Z",
     "iopub.status.busy": "2021-01-02T16:38:08.836906Z",
     "iopub.status.idle": "2021-01-02T16:38:08.841925Z",
     "shell.execute_reply": "2021-01-02T16:38:08.842430Z"
    },
    "papermill": {
     "duration": 0.0809,
     "end_time": "2021-01-02T16:38:08.842552",
     "exception": false,
     "start_time": "2021-01-02T16:38:08.761652",
     "status": "completed"
    },
    "tags": []
   },
   "outputs": [
    {
     "data": {
      "text/html": [
       "<div>\n",
       "<style scoped>\n",
       "    .dataframe tbody tr th:only-of-type {\n",
       "        vertical-align: middle;\n",
       "    }\n",
       "\n",
       "    .dataframe tbody tr th {\n",
       "        vertical-align: top;\n",
       "    }\n",
       "\n",
       "    .dataframe thead th {\n",
       "        text-align: right;\n",
       "    }\n",
       "</style>\n",
       "<table border=\"1\" class=\"dataframe\">\n",
       "  <thead>\n",
       "    <tr style=\"text-align: right;\">\n",
       "      <th></th>\n",
       "      <th>structureId</th>\n",
       "      <th>classification</th>\n",
       "      <th>experimentalTechnique</th>\n",
       "      <th>macromoleculeType_x</th>\n",
       "      <th>residueCount_x</th>\n",
       "      <th>resolution</th>\n",
       "      <th>structureMolecularWeight</th>\n",
       "      <th>crystallizationMethod</th>\n",
       "      <th>crystallizationTempK</th>\n",
       "      <th>densityMatthews</th>\n",
       "      <th>densityPercentSol</th>\n",
       "      <th>pdbxDetails</th>\n",
       "      <th>phValue</th>\n",
       "      <th>publicationYear</th>\n",
       "      <th>chainId</th>\n",
       "      <th>sequence</th>\n",
       "      <th>residueCount_y</th>\n",
       "      <th>macromoleculeType_y</th>\n",
       "    </tr>\n",
       "  </thead>\n",
       "  <tbody>\n",
       "    <tr>\n",
       "      <th>0</th>\n",
       "      <td>1914</td>\n",
       "      <td>ALU DOMAIN</td>\n",
       "      <td>X-RAY DIFFRACTION</td>\n",
       "      <td>Protein</td>\n",
       "      <td>232</td>\n",
       "      <td>2.53</td>\n",
       "      <td>26562.73</td>\n",
       "      <td>hanging drop</td>\n",
       "      <td>277.0</td>\n",
       "      <td>3.00</td>\n",
       "      <td>34.00</td>\n",
       "      <td>THE SRPPHI14-9 PROTEIN WAS CRYSTALLIZED (BIRSE...</td>\n",
       "      <td>7.7</td>\n",
       "      <td>1997.0</td>\n",
       "      <td>A</td>\n",
       "      <td>MASMTGGQQMGRIPGNSPRMVLLESEQFLTELTRLFQKCRSSGSVF...</td>\n",
       "      <td>232</td>\n",
       "      <td>Protein</td>\n",
       "    </tr>\n",
       "    <tr>\n",
       "      <th>1</th>\n",
       "      <td>1A04</td>\n",
       "      <td>SIGNAL TRANSDUCTION PROTEIN</td>\n",
       "      <td>X-RAY DIFFRACTION</td>\n",
       "      <td>Protein</td>\n",
       "      <td>430</td>\n",
       "      <td>2.20</td>\n",
       "      <td>47657.25</td>\n",
       "      <td>VAPOR DIFFUSION, SITTING DROP</td>\n",
       "      <td>277.0</td>\n",
       "      <td>2.49</td>\n",
       "      <td>51.03</td>\n",
       "      <td>THE PROTEIN SOLUTION CONTAINING 23.3 MG/ML OF ...</td>\n",
       "      <td>7.6</td>\n",
       "      <td>1998.0</td>\n",
       "      <td>A</td>\n",
       "      <td>SNQEPATILLIDDHPMLRTGVKQLISMAPDITVVGEASNGEQGIEL...</td>\n",
       "      <td>430</td>\n",
       "      <td>Protein</td>\n",
       "    </tr>\n",
       "    <tr>\n",
       "      <th>2</th>\n",
       "      <td>1A0R</td>\n",
       "      <td>COMPLEX (TRANSDUCER/TRANSDUCTION)</td>\n",
       "      <td>X-RAY DIFFRACTION</td>\n",
       "      <td>Protein</td>\n",
       "      <td>650</td>\n",
       "      <td>2.80</td>\n",
       "      <td>73467.70</td>\n",
       "      <td>MICROBATCH</td>\n",
       "      <td>277.0</td>\n",
       "      <td>2.25</td>\n",
       "      <td>45.00</td>\n",
       "      <td>THE PROTEIN COMPLEX (10 MG/ML SOLUTION) WAS CR...</td>\n",
       "      <td>6.8</td>\n",
       "      <td>1998.0</td>\n",
       "      <td>B</td>\n",
       "      <td>XSELDQLRQEAEQLKNQIRDARKACADATLSQITNNIDPVGRIQMR...</td>\n",
       "      <td>650</td>\n",
       "      <td>Protein</td>\n",
       "    </tr>\n",
       "    <tr>\n",
       "      <th>3</th>\n",
       "      <td>1A2B</td>\n",
       "      <td>ONCOGENE PROTEIN</td>\n",
       "      <td>X-RAY DIFFRACTION</td>\n",
       "      <td>Protein</td>\n",
       "      <td>182</td>\n",
       "      <td>2.40</td>\n",
       "      <td>21160.17</td>\n",
       "      <td>VAPOR DIFFUSION, HANGING DROP</td>\n",
       "      <td>277.0</td>\n",
       "      <td>2.77</td>\n",
       "      <td>56.00</td>\n",
       "      <td>CRYSTALS WERE OBTAINED AT 277 K BY THE HANGING...</td>\n",
       "      <td>8.5</td>\n",
       "      <td>1998.0</td>\n",
       "      <td>A</td>\n",
       "      <td>SMAAIRKKLVIVGDVACGKTCLLIVFSKDQFPEVYVPTVFENYVAD...</td>\n",
       "      <td>182</td>\n",
       "      <td>Protein</td>\n",
       "    </tr>\n",
       "    <tr>\n",
       "      <th>4</th>\n",
       "      <td>1A2X</td>\n",
       "      <td>COMPLEX (SKELETAL MUSCLE/MUSCLE PROTEIN)</td>\n",
       "      <td>X-RAY DIFFRACTION</td>\n",
       "      <td>Protein</td>\n",
       "      <td>206</td>\n",
       "      <td>2.30</td>\n",
       "      <td>23608.14</td>\n",
       "      <td>VAPOR DIFFUSION, HANGING DROP</td>\n",
       "      <td>289.0</td>\n",
       "      <td>2.30</td>\n",
       "      <td>35.00</td>\n",
       "      <td>HANGING-DROP VAPOR DIFFUSION METHOD WAS USED A...</td>\n",
       "      <td>8.0</td>\n",
       "      <td>1998.0</td>\n",
       "      <td>A</td>\n",
       "      <td>TDQQAEARSYLSEEMIAEFKAAFDMFDADGGGDISVKELGTVMRML...</td>\n",
       "      <td>206</td>\n",
       "      <td>Protein</td>\n",
       "    </tr>\n",
       "  </tbody>\n",
       "</table>\n",
       "</div>"
      ],
      "text/plain": [
       "  structureId                            classification experimentalTechnique  \\\n",
       "0        1914                                ALU DOMAIN     X-RAY DIFFRACTION   \n",
       "1        1A04               SIGNAL TRANSDUCTION PROTEIN     X-RAY DIFFRACTION   \n",
       "2        1A0R         COMPLEX (TRANSDUCER/TRANSDUCTION)     X-RAY DIFFRACTION   \n",
       "3        1A2B                          ONCOGENE PROTEIN     X-RAY DIFFRACTION   \n",
       "4        1A2X  COMPLEX (SKELETAL MUSCLE/MUSCLE PROTEIN)     X-RAY DIFFRACTION   \n",
       "\n",
       "  macromoleculeType_x  residueCount_x  resolution  structureMolecularWeight  \\\n",
       "0             Protein             232        2.53                  26562.73   \n",
       "1             Protein             430        2.20                  47657.25   \n",
       "2             Protein             650        2.80                  73467.70   \n",
       "3             Protein             182        2.40                  21160.17   \n",
       "4             Protein             206        2.30                  23608.14   \n",
       "\n",
       "           crystallizationMethod  crystallizationTempK  densityMatthews  \\\n",
       "0                   hanging drop                 277.0             3.00   \n",
       "1  VAPOR DIFFUSION, SITTING DROP                 277.0             2.49   \n",
       "2                     MICROBATCH                 277.0             2.25   \n",
       "3  VAPOR DIFFUSION, HANGING DROP                 277.0             2.77   \n",
       "4  VAPOR DIFFUSION, HANGING DROP                 289.0             2.30   \n",
       "\n",
       "   densityPercentSol                                        pdbxDetails  \\\n",
       "0              34.00  THE SRPPHI14-9 PROTEIN WAS CRYSTALLIZED (BIRSE...   \n",
       "1              51.03  THE PROTEIN SOLUTION CONTAINING 23.3 MG/ML OF ...   \n",
       "2              45.00  THE PROTEIN COMPLEX (10 MG/ML SOLUTION) WAS CR...   \n",
       "3              56.00  CRYSTALS WERE OBTAINED AT 277 K BY THE HANGING...   \n",
       "4              35.00  HANGING-DROP VAPOR DIFFUSION METHOD WAS USED A...   \n",
       "\n",
       "   phValue  publicationYear chainId  \\\n",
       "0      7.7           1997.0       A   \n",
       "1      7.6           1998.0       A   \n",
       "2      6.8           1998.0       B   \n",
       "3      8.5           1998.0       A   \n",
       "4      8.0           1998.0       A   \n",
       "\n",
       "                                            sequence  residueCount_y  \\\n",
       "0  MASMTGGQQMGRIPGNSPRMVLLESEQFLTELTRLFQKCRSSGSVF...             232   \n",
       "1  SNQEPATILLIDDHPMLRTGVKQLISMAPDITVVGEASNGEQGIEL...             430   \n",
       "2  XSELDQLRQEAEQLKNQIRDARKACADATLSQITNNIDPVGRIQMR...             650   \n",
       "3  SMAAIRKKLVIVGDVACGKTCLLIVFSKDQFPEVYVPTVFENYVAD...             182   \n",
       "4  TDQQAEARSYLSEEMIAEFKAAFDMFDADGGGDISVKELGTVMRML...             206   \n",
       "\n",
       "  macromoleculeType_y  \n",
       "0             Protein  \n",
       "1             Protein  \n",
       "2             Protein  \n",
       "3             Protein  \n",
       "4             Protein  "
      ]
     },
     "execution_count": 17,
     "metadata": {},
     "output_type": "execute_result"
    }
   ],
   "source": [
    "df.head()"
   ]
  },
  {
   "cell_type": "code",
   "execution_count": 18,
   "metadata": {
    "execution": {
     "iopub.execute_input": "2021-01-02T16:38:08.985774Z",
     "iopub.status.busy": "2021-01-02T16:38:08.975384Z",
     "iopub.status.idle": "2021-01-02T16:38:10.588506Z",
     "shell.execute_reply": "2021-01-02T16:38:10.589165Z"
    },
    "papermill": {
     "duration": 1.690938,
     "end_time": "2021-01-02T16:38:10.589310",
     "exception": false,
     "start_time": "2021-01-02T16:38:08.898372",
     "status": "completed"
    },
    "tags": []
   },
   "outputs": [
    {
     "name": "stderr",
     "output_type": "stream",
     "text": [
      "/opt/conda/lib/python3.7/site-packages/ipykernel_launcher.py:1: SettingWithCopyWarning: \n",
      "A value is trying to be set on a copy of a slice from a DataFrame.\n",
      "Try using .loc[row_indexer,col_indexer] = value instead\n",
      "\n",
      "See the caveats in the documentation: https://pandas.pydata.org/pandas-docs/stable/user_guide/indexing.html#returning-a-view-versus-a-copy\n",
      "  \"\"\"Entry point for launching an IPython kernel.\n"
     ]
    }
   ],
   "source": [
    "df['merge_col'] = list(map(lambda i : str(i['sequence']) + ' ' + str(i['residueCount_y'])+\" \"+str(i['phValue'])+\" \"+str(i['densityPercentSol'])+\" \"+str(i['macromoleculeType_y']) + \" \" + str(i['residueCount_x']) + \" \" + str(i['resolution']) + \" \" + str(i['crystallizationTempK']) + \" \" + str(i['chainId']) ,df.to_dict(orient=\"records\") ))"
   ]
  },
  {
   "cell_type": "code",
   "execution_count": 19,
   "metadata": {
    "execution": {
     "iopub.execute_input": "2021-01-02T16:38:10.706306Z",
     "iopub.status.busy": "2021-01-02T16:38:10.705450Z",
     "iopub.status.idle": "2021-01-02T16:38:10.758769Z",
     "shell.execute_reply": "2021-01-02T16:38:10.759268Z"
    },
    "papermill": {
     "duration": 0.115222,
     "end_time": "2021-01-02T16:38:10.759400",
     "exception": false,
     "start_time": "2021-01-02T16:38:10.644178",
     "status": "completed"
    },
    "tags": []
   },
   "outputs": [
    {
     "data": {
      "text/html": [
       "<div>\n",
       "<style scoped>\n",
       "    .dataframe tbody tr th:only-of-type {\n",
       "        vertical-align: middle;\n",
       "    }\n",
       "\n",
       "    .dataframe tbody tr th {\n",
       "        vertical-align: top;\n",
       "    }\n",
       "\n",
       "    .dataframe thead th {\n",
       "        text-align: right;\n",
       "    }\n",
       "</style>\n",
       "<table border=\"1\" class=\"dataframe\">\n",
       "  <thead>\n",
       "    <tr style=\"text-align: right;\">\n",
       "      <th></th>\n",
       "      <th>residueCount_x</th>\n",
       "      <th>resolution</th>\n",
       "      <th>structureMolecularWeight</th>\n",
       "      <th>crystallizationTempK</th>\n",
       "      <th>densityMatthews</th>\n",
       "      <th>densityPercentSol</th>\n",
       "      <th>phValue</th>\n",
       "      <th>publicationYear</th>\n",
       "      <th>residueCount_y</th>\n",
       "    </tr>\n",
       "  </thead>\n",
       "  <tbody>\n",
       "    <tr>\n",
       "      <th>count</th>\n",
       "      <td>51995.000000</td>\n",
       "      <td>51995.000000</td>\n",
       "      <td>5.199500e+04</td>\n",
       "      <td>51995.000000</td>\n",
       "      <td>51995.000000</td>\n",
       "      <td>51995.000000</td>\n",
       "      <td>51995.000000</td>\n",
       "      <td>51995.000000</td>\n",
       "      <td>51995.000000</td>\n",
       "    </tr>\n",
       "    <tr>\n",
       "      <th>mean</th>\n",
       "      <td>470.747841</td>\n",
       "      <td>2.059800</td>\n",
       "      <td>5.462662e+04</td>\n",
       "      <td>291.026624</td>\n",
       "      <td>2.619671</td>\n",
       "      <td>50.643860</td>\n",
       "      <td>6.782645</td>\n",
       "      <td>2010.261448</td>\n",
       "      <td>470.747841</td>\n",
       "    </tr>\n",
       "    <tr>\n",
       "      <th>std</th>\n",
       "      <td>272.199370</td>\n",
       "      <td>0.512593</td>\n",
       "      <td>6.891665e+04</td>\n",
       "      <td>9.202631</td>\n",
       "      <td>0.679240</td>\n",
       "      <td>9.854144</td>\n",
       "      <td>1.333449</td>\n",
       "      <td>4.964020</td>\n",
       "      <td>272.199370</td>\n",
       "    </tr>\n",
       "    <tr>\n",
       "      <th>min</th>\n",
       "      <td>5.000000</td>\n",
       "      <td>0.480000</td>\n",
       "      <td>4.885400e+02</td>\n",
       "      <td>4.000000</td>\n",
       "      <td>0.000000</td>\n",
       "      <td>0.000000</td>\n",
       "      <td>0.000000</td>\n",
       "      <td>1986.000000</td>\n",
       "      <td>5.000000</td>\n",
       "    </tr>\n",
       "    <tr>\n",
       "      <th>25%</th>\n",
       "      <td>260.000000</td>\n",
       "      <td>1.700000</td>\n",
       "      <td>2.980115e+04</td>\n",
       "      <td>290.000000</td>\n",
       "      <td>2.190000</td>\n",
       "      <td>43.740000</td>\n",
       "      <td>6.000000</td>\n",
       "      <td>2007.000000</td>\n",
       "      <td>260.000000</td>\n",
       "    </tr>\n",
       "    <tr>\n",
       "      <th>50%</th>\n",
       "      <td>397.000000</td>\n",
       "      <td>2.000000</td>\n",
       "      <td>4.524095e+04</td>\n",
       "      <td>293.000000</td>\n",
       "      <td>2.440000</td>\n",
       "      <td>49.580000</td>\n",
       "      <td>7.000000</td>\n",
       "      <td>2011.000000</td>\n",
       "      <td>397.000000</td>\n",
       "    </tr>\n",
       "    <tr>\n",
       "      <th>75%</th>\n",
       "      <td>641.000000</td>\n",
       "      <td>2.370000</td>\n",
       "      <td>7.266917e+04</td>\n",
       "      <td>295.000000</td>\n",
       "      <td>2.850000</td>\n",
       "      <td>56.760000</td>\n",
       "      <td>7.500000</td>\n",
       "      <td>2014.000000</td>\n",
       "      <td>641.000000</td>\n",
       "    </tr>\n",
       "    <tr>\n",
       "      <th>max</th>\n",
       "      <td>1198.000000</td>\n",
       "      <td>8.490000</td>\n",
       "      <td>5.994845e+06</td>\n",
       "      <td>398.000000</td>\n",
       "      <td>12.700000</td>\n",
       "      <td>90.330000</td>\n",
       "      <td>100.000000</td>\n",
       "      <td>2018.000000</td>\n",
       "      <td>1198.000000</td>\n",
       "    </tr>\n",
       "  </tbody>\n",
       "</table>\n",
       "</div>"
      ],
      "text/plain": [
       "       residueCount_x    resolution  structureMolecularWeight  \\\n",
       "count    51995.000000  51995.000000              5.199500e+04   \n",
       "mean       470.747841      2.059800              5.462662e+04   \n",
       "std        272.199370      0.512593              6.891665e+04   \n",
       "min          5.000000      0.480000              4.885400e+02   \n",
       "25%        260.000000      1.700000              2.980115e+04   \n",
       "50%        397.000000      2.000000              4.524095e+04   \n",
       "75%        641.000000      2.370000              7.266917e+04   \n",
       "max       1198.000000      8.490000              5.994845e+06   \n",
       "\n",
       "       crystallizationTempK  densityMatthews  densityPercentSol       phValue  \\\n",
       "count          51995.000000     51995.000000       51995.000000  51995.000000   \n",
       "mean             291.026624         2.619671          50.643860      6.782645   \n",
       "std                9.202631         0.679240           9.854144      1.333449   \n",
       "min                4.000000         0.000000           0.000000      0.000000   \n",
       "25%              290.000000         2.190000          43.740000      6.000000   \n",
       "50%              293.000000         2.440000          49.580000      7.000000   \n",
       "75%              295.000000         2.850000          56.760000      7.500000   \n",
       "max              398.000000        12.700000          90.330000    100.000000   \n",
       "\n",
       "       publicationYear  residueCount_y  \n",
       "count     51995.000000    51995.000000  \n",
       "mean       2010.261448      470.747841  \n",
       "std           4.964020      272.199370  \n",
       "min        1986.000000        5.000000  \n",
       "25%        2007.000000      260.000000  \n",
       "50%        2011.000000      397.000000  \n",
       "75%        2014.000000      641.000000  \n",
       "max        2018.000000     1198.000000  "
      ]
     },
     "execution_count": 19,
     "metadata": {},
     "output_type": "execute_result"
    }
   ],
   "source": [
    "df.describe()"
   ]
  },
  {
   "cell_type": "code",
   "execution_count": 20,
   "metadata": {
    "execution": {
     "iopub.execute_input": "2021-01-02T16:38:10.891864Z",
     "iopub.status.busy": "2021-01-02T16:38:10.890911Z",
     "iopub.status.idle": "2021-01-02T16:38:10.894679Z",
     "shell.execute_reply": "2021-01-02T16:38:10.895161Z"
    },
    "papermill": {
     "duration": 0.081067,
     "end_time": "2021-01-02T16:38:10.895279",
     "exception": false,
     "start_time": "2021-01-02T16:38:10.814212",
     "status": "completed"
    },
    "tags": []
   },
   "outputs": [
    {
     "data": {
      "text/html": [
       "<div>\n",
       "<style scoped>\n",
       "    .dataframe tbody tr th:only-of-type {\n",
       "        vertical-align: middle;\n",
       "    }\n",
       "\n",
       "    .dataframe tbody tr th {\n",
       "        vertical-align: top;\n",
       "    }\n",
       "\n",
       "    .dataframe thead th {\n",
       "        text-align: right;\n",
       "    }\n",
       "</style>\n",
       "<table border=\"1\" class=\"dataframe\">\n",
       "  <thead>\n",
       "    <tr style=\"text-align: right;\">\n",
       "      <th></th>\n",
       "      <th>structureId</th>\n",
       "      <th>classification</th>\n",
       "      <th>experimentalTechnique</th>\n",
       "      <th>macromoleculeType_x</th>\n",
       "      <th>residueCount_x</th>\n",
       "      <th>resolution</th>\n",
       "      <th>structureMolecularWeight</th>\n",
       "      <th>crystallizationMethod</th>\n",
       "      <th>crystallizationTempK</th>\n",
       "      <th>densityMatthews</th>\n",
       "      <th>densityPercentSol</th>\n",
       "      <th>pdbxDetails</th>\n",
       "      <th>phValue</th>\n",
       "      <th>publicationYear</th>\n",
       "      <th>chainId</th>\n",
       "      <th>sequence</th>\n",
       "      <th>residueCount_y</th>\n",
       "      <th>macromoleculeType_y</th>\n",
       "      <th>merge_col</th>\n",
       "    </tr>\n",
       "  </thead>\n",
       "  <tbody>\n",
       "    <tr>\n",
       "      <th>0</th>\n",
       "      <td>1914</td>\n",
       "      <td>ALU DOMAIN</td>\n",
       "      <td>X-RAY DIFFRACTION</td>\n",
       "      <td>Protein</td>\n",
       "      <td>232</td>\n",
       "      <td>2.53</td>\n",
       "      <td>26562.73</td>\n",
       "      <td>hanging drop</td>\n",
       "      <td>277.0</td>\n",
       "      <td>3.00</td>\n",
       "      <td>34.00</td>\n",
       "      <td>THE SRPPHI14-9 PROTEIN WAS CRYSTALLIZED (BIRSE...</td>\n",
       "      <td>7.7</td>\n",
       "      <td>1997.0</td>\n",
       "      <td>A</td>\n",
       "      <td>MASMTGGQQMGRIPGNSPRMVLLESEQFLTELTRLFQKCRSSGSVF...</td>\n",
       "      <td>232</td>\n",
       "      <td>Protein</td>\n",
       "      <td>MASMTGGQQMGRIPGNSPRMVLLESEQFLTELTRLFQKCRSSGSVF...</td>\n",
       "    </tr>\n",
       "    <tr>\n",
       "      <th>1</th>\n",
       "      <td>1A04</td>\n",
       "      <td>SIGNAL TRANSDUCTION PROTEIN</td>\n",
       "      <td>X-RAY DIFFRACTION</td>\n",
       "      <td>Protein</td>\n",
       "      <td>430</td>\n",
       "      <td>2.20</td>\n",
       "      <td>47657.25</td>\n",
       "      <td>VAPOR DIFFUSION, SITTING DROP</td>\n",
       "      <td>277.0</td>\n",
       "      <td>2.49</td>\n",
       "      <td>51.03</td>\n",
       "      <td>THE PROTEIN SOLUTION CONTAINING 23.3 MG/ML OF ...</td>\n",
       "      <td>7.6</td>\n",
       "      <td>1998.0</td>\n",
       "      <td>A</td>\n",
       "      <td>SNQEPATILLIDDHPMLRTGVKQLISMAPDITVVGEASNGEQGIEL...</td>\n",
       "      <td>430</td>\n",
       "      <td>Protein</td>\n",
       "      <td>SNQEPATILLIDDHPMLRTGVKQLISMAPDITVVGEASNGEQGIEL...</td>\n",
       "    </tr>\n",
       "    <tr>\n",
       "      <th>2</th>\n",
       "      <td>1A0R</td>\n",
       "      <td>COMPLEX (TRANSDUCER/TRANSDUCTION)</td>\n",
       "      <td>X-RAY DIFFRACTION</td>\n",
       "      <td>Protein</td>\n",
       "      <td>650</td>\n",
       "      <td>2.80</td>\n",
       "      <td>73467.70</td>\n",
       "      <td>MICROBATCH</td>\n",
       "      <td>277.0</td>\n",
       "      <td>2.25</td>\n",
       "      <td>45.00</td>\n",
       "      <td>THE PROTEIN COMPLEX (10 MG/ML SOLUTION) WAS CR...</td>\n",
       "      <td>6.8</td>\n",
       "      <td>1998.0</td>\n",
       "      <td>B</td>\n",
       "      <td>XSELDQLRQEAEQLKNQIRDARKACADATLSQITNNIDPVGRIQMR...</td>\n",
       "      <td>650</td>\n",
       "      <td>Protein</td>\n",
       "      <td>XSELDQLRQEAEQLKNQIRDARKACADATLSQITNNIDPVGRIQMR...</td>\n",
       "    </tr>\n",
       "    <tr>\n",
       "      <th>3</th>\n",
       "      <td>1A2B</td>\n",
       "      <td>ONCOGENE PROTEIN</td>\n",
       "      <td>X-RAY DIFFRACTION</td>\n",
       "      <td>Protein</td>\n",
       "      <td>182</td>\n",
       "      <td>2.40</td>\n",
       "      <td>21160.17</td>\n",
       "      <td>VAPOR DIFFUSION, HANGING DROP</td>\n",
       "      <td>277.0</td>\n",
       "      <td>2.77</td>\n",
       "      <td>56.00</td>\n",
       "      <td>CRYSTALS WERE OBTAINED AT 277 K BY THE HANGING...</td>\n",
       "      <td>8.5</td>\n",
       "      <td>1998.0</td>\n",
       "      <td>A</td>\n",
       "      <td>SMAAIRKKLVIVGDVACGKTCLLIVFSKDQFPEVYVPTVFENYVAD...</td>\n",
       "      <td>182</td>\n",
       "      <td>Protein</td>\n",
       "      <td>SMAAIRKKLVIVGDVACGKTCLLIVFSKDQFPEVYVPTVFENYVAD...</td>\n",
       "    </tr>\n",
       "    <tr>\n",
       "      <th>4</th>\n",
       "      <td>1A2X</td>\n",
       "      <td>COMPLEX (SKELETAL MUSCLE/MUSCLE PROTEIN)</td>\n",
       "      <td>X-RAY DIFFRACTION</td>\n",
       "      <td>Protein</td>\n",
       "      <td>206</td>\n",
       "      <td>2.30</td>\n",
       "      <td>23608.14</td>\n",
       "      <td>VAPOR DIFFUSION, HANGING DROP</td>\n",
       "      <td>289.0</td>\n",
       "      <td>2.30</td>\n",
       "      <td>35.00</td>\n",
       "      <td>HANGING-DROP VAPOR DIFFUSION METHOD WAS USED A...</td>\n",
       "      <td>8.0</td>\n",
       "      <td>1998.0</td>\n",
       "      <td>A</td>\n",
       "      <td>TDQQAEARSYLSEEMIAEFKAAFDMFDADGGGDISVKELGTVMRML...</td>\n",
       "      <td>206</td>\n",
       "      <td>Protein</td>\n",
       "      <td>TDQQAEARSYLSEEMIAEFKAAFDMFDADGGGDISVKELGTVMRML...</td>\n",
       "    </tr>\n",
       "  </tbody>\n",
       "</table>\n",
       "</div>"
      ],
      "text/plain": [
       "  structureId                            classification experimentalTechnique  \\\n",
       "0        1914                                ALU DOMAIN     X-RAY DIFFRACTION   \n",
       "1        1A04               SIGNAL TRANSDUCTION PROTEIN     X-RAY DIFFRACTION   \n",
       "2        1A0R         COMPLEX (TRANSDUCER/TRANSDUCTION)     X-RAY DIFFRACTION   \n",
       "3        1A2B                          ONCOGENE PROTEIN     X-RAY DIFFRACTION   \n",
       "4        1A2X  COMPLEX (SKELETAL MUSCLE/MUSCLE PROTEIN)     X-RAY DIFFRACTION   \n",
       "\n",
       "  macromoleculeType_x  residueCount_x  resolution  structureMolecularWeight  \\\n",
       "0             Protein             232        2.53                  26562.73   \n",
       "1             Protein             430        2.20                  47657.25   \n",
       "2             Protein             650        2.80                  73467.70   \n",
       "3             Protein             182        2.40                  21160.17   \n",
       "4             Protein             206        2.30                  23608.14   \n",
       "\n",
       "           crystallizationMethod  crystallizationTempK  densityMatthews  \\\n",
       "0                   hanging drop                 277.0             3.00   \n",
       "1  VAPOR DIFFUSION, SITTING DROP                 277.0             2.49   \n",
       "2                     MICROBATCH                 277.0             2.25   \n",
       "3  VAPOR DIFFUSION, HANGING DROP                 277.0             2.77   \n",
       "4  VAPOR DIFFUSION, HANGING DROP                 289.0             2.30   \n",
       "\n",
       "   densityPercentSol                                        pdbxDetails  \\\n",
       "0              34.00  THE SRPPHI14-9 PROTEIN WAS CRYSTALLIZED (BIRSE...   \n",
       "1              51.03  THE PROTEIN SOLUTION CONTAINING 23.3 MG/ML OF ...   \n",
       "2              45.00  THE PROTEIN COMPLEX (10 MG/ML SOLUTION) WAS CR...   \n",
       "3              56.00  CRYSTALS WERE OBTAINED AT 277 K BY THE HANGING...   \n",
       "4              35.00  HANGING-DROP VAPOR DIFFUSION METHOD WAS USED A...   \n",
       "\n",
       "   phValue  publicationYear chainId  \\\n",
       "0      7.7           1997.0       A   \n",
       "1      7.6           1998.0       A   \n",
       "2      6.8           1998.0       B   \n",
       "3      8.5           1998.0       A   \n",
       "4      8.0           1998.0       A   \n",
       "\n",
       "                                            sequence  residueCount_y  \\\n",
       "0  MASMTGGQQMGRIPGNSPRMVLLESEQFLTELTRLFQKCRSSGSVF...             232   \n",
       "1  SNQEPATILLIDDHPMLRTGVKQLISMAPDITVVGEASNGEQGIEL...             430   \n",
       "2  XSELDQLRQEAEQLKNQIRDARKACADATLSQITNNIDPVGRIQMR...             650   \n",
       "3  SMAAIRKKLVIVGDVACGKTCLLIVFSKDQFPEVYVPTVFENYVAD...             182   \n",
       "4  TDQQAEARSYLSEEMIAEFKAAFDMFDADGGGDISVKELGTVMRML...             206   \n",
       "\n",
       "  macromoleculeType_y                                          merge_col  \n",
       "0             Protein  MASMTGGQQMGRIPGNSPRMVLLESEQFLTELTRLFQKCRSSGSVF...  \n",
       "1             Protein  SNQEPATILLIDDHPMLRTGVKQLISMAPDITVVGEASNGEQGIEL...  \n",
       "2             Protein  XSELDQLRQEAEQLKNQIRDARKACADATLSQITNNIDPVGRIQMR...  \n",
       "3             Protein  SMAAIRKKLVIVGDVACGKTCLLIVFSKDQFPEVYVPTVFENYVAD...  \n",
       "4             Protein  TDQQAEARSYLSEEMIAEFKAAFDMFDADGGGDISVKELGTVMRML...  "
      ]
     },
     "execution_count": 20,
     "metadata": {},
     "output_type": "execute_result"
    }
   ],
   "source": [
    "df.head()"
   ]
  },
  {
   "cell_type": "code",
   "execution_count": 21,
   "metadata": {
    "execution": {
     "iopub.execute_input": "2021-01-02T16:38:11.011944Z",
     "iopub.status.busy": "2021-01-02T16:38:11.011204Z",
     "iopub.status.idle": "2021-01-02T16:38:11.013618Z",
     "shell.execute_reply": "2021-01-02T16:38:11.014098Z"
    },
    "papermill": {
     "duration": 0.062727,
     "end_time": "2021-01-02T16:38:11.014228",
     "exception": false,
     "start_time": "2021-01-02T16:38:10.951501",
     "status": "completed"
    },
    "tags": []
   },
   "outputs": [],
   "source": [
    "from collections import Counter"
   ]
  },
  {
   "cell_type": "code",
   "execution_count": 22,
   "metadata": {
    "execution": {
     "iopub.execute_input": "2021-01-02T16:38:11.175514Z",
     "iopub.status.busy": "2021-01-02T16:38:11.154965Z",
     "iopub.status.idle": "2021-01-02T16:38:11.240160Z",
     "shell.execute_reply": "2021-01-02T16:38:11.239646Z"
    },
    "papermill": {
     "duration": 0.170045,
     "end_time": "2021-01-02T16:38:11.240259",
     "exception": false,
     "start_time": "2021-01-02T16:38:11.070214",
     "status": "completed"
    },
    "tags": []
   },
   "outputs": [
    {
     "name": "stdout",
     "output_type": "stream",
     "text": [
      "1893\n"
     ]
    }
   ],
   "source": [
    "uniqueC=0\n",
    "uniqueL=[]\n",
    "for c in df.classification:\n",
    "    if c not in uniqueL:\n",
    "        uniqueL.append(c)\n",
    "        uniqueC+=1\n",
    "print(uniqueC)"
   ]
  },
  {
   "cell_type": "code",
   "execution_count": 23,
   "metadata": {
    "execution": {
     "iopub.execute_input": "2021-01-02T16:38:11.361320Z",
     "iopub.status.busy": "2021-01-02T16:38:11.360323Z",
     "iopub.status.idle": "2021-01-02T16:38:11.368280Z",
     "shell.execute_reply": "2021-01-02T16:38:11.367524Z"
    },
    "papermill": {
     "duration": 0.071814,
     "end_time": "2021-01-02T16:38:11.368382",
     "exception": false,
     "start_time": "2021-01-02T16:38:11.296568",
     "status": "completed"
    },
    "tags": []
   },
   "outputs": [
    {
     "data": {
      "text/plain": [
       "1893"
      ]
     },
     "execution_count": 23,
     "metadata": {},
     "output_type": "execute_result"
    }
   ],
   "source": [
    "df.classification.nunique()"
   ]
  },
  {
   "cell_type": "code",
   "execution_count": 24,
   "metadata": {
    "execution": {
     "iopub.execute_input": "2021-01-02T16:38:11.512537Z",
     "iopub.status.busy": "2021-01-02T16:38:11.500984Z",
     "iopub.status.idle": "2021-01-02T16:38:11.547208Z",
     "shell.execute_reply": "2021-01-02T16:38:11.547816Z"
    },
    "papermill": {
     "duration": 0.120997,
     "end_time": "2021-01-02T16:38:11.547967",
     "exception": false,
     "start_time": "2021-01-02T16:38:11.426970",
     "status": "completed"
    },
    "tags": []
   },
   "outputs": [
    {
     "name": "stdout",
     "output_type": "stream",
     "text": [
      "at least 1147 instances per class\n",
      "51995 instances before\n",
      "30867 instances after\n"
     ]
    }
   ],
   "source": [
    "# count numbers of instances per class\n",
    "cnt = Counter(df.classification)\n",
    "# select only K most common classes! - was 10 by default\n",
    "top_classes = 10\n",
    "# sort classes\n",
    "sorted_classes = cnt.most_common()[:top_classes]\n",
    "classes = [c[0] for c in sorted_classes]\n",
    "counts = [c[1] for c in sorted_classes]\n",
    "print(\"at least \" + str(counts[-1]) + \" instances per class\")\n",
    "\n",
    "# apply to dataframe\n",
    "print(str(df.shape[0]) + \" instances before\")\n",
    "df = df[[c in classes for c in df.classification]]\n",
    "print(str(df.shape[0]) + \" instances after\")\n",
    "\n",
    "seqs = df['merge_col']\n",
    "lengths = [len(s) for s in seqs]"
   ]
  },
  {
   "cell_type": "code",
   "execution_count": 25,
   "metadata": {
    "execution": {
     "iopub.execute_input": "2021-01-02T16:38:11.677736Z",
     "iopub.status.busy": "2021-01-02T16:38:11.677013Z",
     "iopub.status.idle": "2021-01-02T16:38:11.680552Z",
     "shell.execute_reply": "2021-01-02T16:38:11.681041Z"
    },
    "papermill": {
     "duration": 0.074969,
     "end_time": "2021-01-02T16:38:11.681189",
     "exception": false,
     "start_time": "2021-01-02T16:38:11.606220",
     "status": "completed"
    },
    "tags": []
   },
   "outputs": [
    {
     "data": {
      "text/plain": [
       "10"
      ]
     },
     "execution_count": 25,
     "metadata": {},
     "output_type": "execute_result"
    }
   ],
   "source": [
    "len(df.classification.value_counts())"
   ]
  },
  {
   "cell_type": "code",
   "execution_count": 26,
   "metadata": {
    "execution": {
     "iopub.execute_input": "2021-01-02T16:38:11.809872Z",
     "iopub.status.busy": "2021-01-02T16:38:11.808992Z",
     "iopub.status.idle": "2021-01-02T16:38:11.813766Z",
     "shell.execute_reply": "2021-01-02T16:38:11.813262Z"
    },
    "papermill": {
     "duration": 0.075134,
     "end_time": "2021-01-02T16:38:11.813865",
     "exception": false,
     "start_time": "2021-01-02T16:38:11.738731",
     "status": "completed"
    },
    "tags": []
   },
   "outputs": [
    {
     "data": {
      "text/plain": [
       "HYDROLASE                            8916\n",
       "TRANSFERASE                          6549\n",
       "OXIDOREDUCTASE                       4664\n",
       "IMMUNE SYSTEM                        2098\n",
       "LYASE                                1861\n",
       "TRANSCRIPTION                        1605\n",
       "TRANSPORT PROTEIN                    1454\n",
       "HYDROLASE/HYDROLASE INHIBITOR        1356\n",
       "SIGNALING PROTEIN                    1217\n",
       "TRANSFERASE/TRANSFERASE INHIBITOR    1147\n",
       "Name: classification, dtype: int64"
      ]
     },
     "execution_count": 26,
     "metadata": {},
     "output_type": "execute_result"
    }
   ],
   "source": [
    "df.classification.value_counts()"
   ]
  },
  {
   "cell_type": "code",
   "execution_count": 27,
   "metadata": {
    "execution": {
     "iopub.execute_input": "2021-01-02T16:38:11.953666Z",
     "iopub.status.busy": "2021-01-02T16:38:11.952705Z",
     "iopub.status.idle": "2021-01-02T16:38:11.956454Z",
     "shell.execute_reply": "2021-01-02T16:38:11.956887Z"
    },
    "papermill": {
     "duration": 0.084767,
     "end_time": "2021-01-02T16:38:11.957000",
     "exception": false,
     "start_time": "2021-01-02T16:38:11.872233",
     "status": "completed"
    },
    "tags": []
   },
   "outputs": [
    {
     "data": {
      "text/html": [
       "<div>\n",
       "<style scoped>\n",
       "    .dataframe tbody tr th:only-of-type {\n",
       "        vertical-align: middle;\n",
       "    }\n",
       "\n",
       "    .dataframe tbody tr th {\n",
       "        vertical-align: top;\n",
       "    }\n",
       "\n",
       "    .dataframe thead th {\n",
       "        text-align: right;\n",
       "    }\n",
       "</style>\n",
       "<table border=\"1\" class=\"dataframe\">\n",
       "  <thead>\n",
       "    <tr style=\"text-align: right;\">\n",
       "      <th></th>\n",
       "      <th>structureId</th>\n",
       "      <th>classification</th>\n",
       "      <th>experimentalTechnique</th>\n",
       "      <th>macromoleculeType_x</th>\n",
       "      <th>residueCount_x</th>\n",
       "      <th>resolution</th>\n",
       "      <th>structureMolecularWeight</th>\n",
       "      <th>crystallizationMethod</th>\n",
       "      <th>crystallizationTempK</th>\n",
       "      <th>densityMatthews</th>\n",
       "      <th>densityPercentSol</th>\n",
       "      <th>pdbxDetails</th>\n",
       "      <th>phValue</th>\n",
       "      <th>publicationYear</th>\n",
       "      <th>chainId</th>\n",
       "      <th>sequence</th>\n",
       "      <th>residueCount_y</th>\n",
       "      <th>macromoleculeType_y</th>\n",
       "      <th>merge_col</th>\n",
       "    </tr>\n",
       "  </thead>\n",
       "  <tbody>\n",
       "    <tr>\n",
       "      <th>6</th>\n",
       "      <td>1A72</td>\n",
       "      <td>OXIDOREDUCTASE</td>\n",
       "      <td>X-RAY DIFFRACTION</td>\n",
       "      <td>Protein</td>\n",
       "      <td>374</td>\n",
       "      <td>2.60</td>\n",
       "      <td>40658.50</td>\n",
       "      <td>VAPOR DIFFUSION, HANGING DROP</td>\n",
       "      <td>277.0</td>\n",
       "      <td>2.30</td>\n",
       "      <td>46.82</td>\n",
       "      <td>CRYSTALS GROWN FROM 4 MICROLITER HANGING DROPS...</td>\n",
       "      <td>8.40</td>\n",
       "      <td>1998.0</td>\n",
       "      <td>A</td>\n",
       "      <td>STAGKVIKCKAAVLWEEKKPFSIEEVEVAPPKAHEVRIKMVATGIC...</td>\n",
       "      <td>374</td>\n",
       "      <td>Protein</td>\n",
       "      <td>STAGKVIKCKAAVLWEEKKPFSIEEVEVAPPKAHEVRIKMVATGIC...</td>\n",
       "    </tr>\n",
       "    <tr>\n",
       "      <th>16</th>\n",
       "      <td>1AR4</td>\n",
       "      <td>OXIDOREDUCTASE</td>\n",
       "      <td>X-RAY DIFFRACTION</td>\n",
       "      <td>Protein</td>\n",
       "      <td>402</td>\n",
       "      <td>1.90</td>\n",
       "      <td>45428.53</td>\n",
       "      <td>microseeding</td>\n",
       "      <td>277.0</td>\n",
       "      <td>2.05</td>\n",
       "      <td>32.00</td>\n",
       "      <td>PROTEIN WAS CRYSTALLIZED AT 50MG/ML FROM 2.15 ...</td>\n",
       "      <td>6.10</td>\n",
       "      <td>1996.0</td>\n",
       "      <td>A</td>\n",
       "      <td>AVYTLPELPYDYSALEPYISGEIMELHHDKHHKAYVDGANTALDKL...</td>\n",
       "      <td>402</td>\n",
       "      <td>Protein</td>\n",
       "      <td>AVYTLPELPYDYSALEPYISGEIMELHHDKHHKAYVDGANTALDKL...</td>\n",
       "    </tr>\n",
       "    <tr>\n",
       "      <th>17</th>\n",
       "      <td>1AR5</td>\n",
       "      <td>OXIDOREDUCTASE</td>\n",
       "      <td>X-RAY DIFFRACTION</td>\n",
       "      <td>Protein</td>\n",
       "      <td>402</td>\n",
       "      <td>1.60</td>\n",
       "      <td>45430.34</td>\n",
       "      <td>microseeding</td>\n",
       "      <td>277.0</td>\n",
       "      <td>2.04</td>\n",
       "      <td>32.20</td>\n",
       "      <td>PROTEIN WAS CRYSTALLIZED FROM 2.15 M (NH4)2SO4...</td>\n",
       "      <td>6.15</td>\n",
       "      <td>1996.0</td>\n",
       "      <td>A</td>\n",
       "      <td>AVYTLPELPYDYSALEPYISGEIMELHHDKHHKAYVDGANTALDKL...</td>\n",
       "      <td>402</td>\n",
       "      <td>Protein</td>\n",
       "      <td>AVYTLPELPYDYSALEPYISGEIMELHHDKHHKAYVDGANTALDKL...</td>\n",
       "    </tr>\n",
       "    <tr>\n",
       "      <th>19</th>\n",
       "      <td>1AUE</td>\n",
       "      <td>TRANSFERASE</td>\n",
       "      <td>X-RAY DIFFRACTION</td>\n",
       "      <td>Protein</td>\n",
       "      <td>200</td>\n",
       "      <td>2.33</td>\n",
       "      <td>24203.73</td>\n",
       "      <td>VAPOR DIFFUSION, HANGING DROP</td>\n",
       "      <td>277.0</td>\n",
       "      <td>2.25</td>\n",
       "      <td>45.00</td>\n",
       "      <td>HANGING DROPS AT 4 C, pH 8.0, vapor diffusion ...</td>\n",
       "      <td>8.00</td>\n",
       "      <td>1997.0</td>\n",
       "      <td>A</td>\n",
       "      <td>ELIRVAILWHEMWHEGLEEASRLYFGERNVKGMFEVLEPLHAMMER...</td>\n",
       "      <td>200</td>\n",
       "      <td>Protein</td>\n",
       "      <td>ELIRVAILWHEMWHEGLEEASRLYFGERNVKGMFEVLEPLHAMMER...</td>\n",
       "    </tr>\n",
       "    <tr>\n",
       "      <th>20</th>\n",
       "      <td>1AUK</td>\n",
       "      <td>HYDROLASE</td>\n",
       "      <td>X-RAY DIFFRACTION</td>\n",
       "      <td>Protein</td>\n",
       "      <td>489</td>\n",
       "      <td>2.10</td>\n",
       "      <td>52423.45</td>\n",
       "      <td>VAPOR DIFFUSION, HANGING DROP</td>\n",
       "      <td>291.0</td>\n",
       "      <td>3.30</td>\n",
       "      <td>63.00</td>\n",
       "      <td>PROTEIN WAS CRYSTALLIZED BY VAPOR DIFFUSION IN...</td>\n",
       "      <td>5.40</td>\n",
       "      <td>1998.0</td>\n",
       "      <td>A</td>\n",
       "      <td>RPPNIVLIFADDLGYGDLGCYGHPSSTTPNLDQLAAGGLRFTDFYV...</td>\n",
       "      <td>489</td>\n",
       "      <td>Protein</td>\n",
       "      <td>RPPNIVLIFADDLGYGDLGCYGHPSSTTPNLDQLAAGGLRFTDFYV...</td>\n",
       "    </tr>\n",
       "  </tbody>\n",
       "</table>\n",
       "</div>"
      ],
      "text/plain": [
       "   structureId  classification experimentalTechnique macromoleculeType_x  \\\n",
       "6         1A72  OXIDOREDUCTASE     X-RAY DIFFRACTION             Protein   \n",
       "16        1AR4  OXIDOREDUCTASE     X-RAY DIFFRACTION             Protein   \n",
       "17        1AR5  OXIDOREDUCTASE     X-RAY DIFFRACTION             Protein   \n",
       "19        1AUE     TRANSFERASE     X-RAY DIFFRACTION             Protein   \n",
       "20        1AUK       HYDROLASE     X-RAY DIFFRACTION             Protein   \n",
       "\n",
       "    residueCount_x  resolution  structureMolecularWeight  \\\n",
       "6              374        2.60                  40658.50   \n",
       "16             402        1.90                  45428.53   \n",
       "17             402        1.60                  45430.34   \n",
       "19             200        2.33                  24203.73   \n",
       "20             489        2.10                  52423.45   \n",
       "\n",
       "            crystallizationMethod  crystallizationTempK  densityMatthews  \\\n",
       "6   VAPOR DIFFUSION, HANGING DROP                 277.0             2.30   \n",
       "16                   microseeding                 277.0             2.05   \n",
       "17                   microseeding                 277.0             2.04   \n",
       "19  VAPOR DIFFUSION, HANGING DROP                 277.0             2.25   \n",
       "20  VAPOR DIFFUSION, HANGING DROP                 291.0             3.30   \n",
       "\n",
       "    densityPercentSol                                        pdbxDetails  \\\n",
       "6               46.82  CRYSTALS GROWN FROM 4 MICROLITER HANGING DROPS...   \n",
       "16              32.00  PROTEIN WAS CRYSTALLIZED AT 50MG/ML FROM 2.15 ...   \n",
       "17              32.20  PROTEIN WAS CRYSTALLIZED FROM 2.15 M (NH4)2SO4...   \n",
       "19              45.00  HANGING DROPS AT 4 C, pH 8.0, vapor diffusion ...   \n",
       "20              63.00  PROTEIN WAS CRYSTALLIZED BY VAPOR DIFFUSION IN...   \n",
       "\n",
       "    phValue  publicationYear chainId  \\\n",
       "6      8.40           1998.0       A   \n",
       "16     6.10           1996.0       A   \n",
       "17     6.15           1996.0       A   \n",
       "19     8.00           1997.0       A   \n",
       "20     5.40           1998.0       A   \n",
       "\n",
       "                                             sequence  residueCount_y  \\\n",
       "6   STAGKVIKCKAAVLWEEKKPFSIEEVEVAPPKAHEVRIKMVATGIC...             374   \n",
       "16  AVYTLPELPYDYSALEPYISGEIMELHHDKHHKAYVDGANTALDKL...             402   \n",
       "17  AVYTLPELPYDYSALEPYISGEIMELHHDKHHKAYVDGANTALDKL...             402   \n",
       "19  ELIRVAILWHEMWHEGLEEASRLYFGERNVKGMFEVLEPLHAMMER...             200   \n",
       "20  RPPNIVLIFADDLGYGDLGCYGHPSSTTPNLDQLAAGGLRFTDFYV...             489   \n",
       "\n",
       "   macromoleculeType_y                                          merge_col  \n",
       "6              Protein  STAGKVIKCKAAVLWEEKKPFSIEEVEVAPPKAHEVRIKMVATGIC...  \n",
       "16             Protein  AVYTLPELPYDYSALEPYISGEIMELHHDKHHKAYVDGANTALDKL...  \n",
       "17             Protein  AVYTLPELPYDYSALEPYISGEIMELHHDKHHKAYVDGANTALDKL...  \n",
       "19             Protein  ELIRVAILWHEMWHEGLEEASRLYFGERNVKGMFEVLEPLHAMMER...  \n",
       "20             Protein  RPPNIVLIFADDLGYGDLGCYGHPSSTTPNLDQLAAGGLRFTDFYV...  "
      ]
     },
     "execution_count": 27,
     "metadata": {},
     "output_type": "execute_result"
    }
   ],
   "source": [
    "df.head()"
   ]
  },
  {
   "cell_type": "code",
   "execution_count": 28,
   "metadata": {
    "execution": {
     "iopub.execute_input": "2021-01-02T16:38:12.080496Z",
     "iopub.status.busy": "2021-01-02T16:38:12.079732Z",
     "iopub.status.idle": "2021-01-02T16:38:12.082912Z",
     "shell.execute_reply": "2021-01-02T16:38:12.083449Z"
    },
    "papermill": {
     "duration": 0.067063,
     "end_time": "2021-01-02T16:38:12.083562",
     "exception": false,
     "start_time": "2021-01-02T16:38:12.016499",
     "status": "completed"
    },
    "tags": []
   },
   "outputs": [
    {
     "data": {
      "text/plain": [
       "Index(['structureId', 'classification', 'experimentalTechnique',\n",
       "       'macromoleculeType_x', 'residueCount_x', 'resolution',\n",
       "       'structureMolecularWeight', 'crystallizationMethod',\n",
       "       'crystallizationTempK', 'densityMatthews', 'densityPercentSol',\n",
       "       'pdbxDetails', 'phValue', 'publicationYear', 'chainId', 'sequence',\n",
       "       'residueCount_y', 'macromoleculeType_y', 'merge_col'],\n",
       "      dtype='object')"
      ]
     },
     "execution_count": 28,
     "metadata": {},
     "output_type": "execute_result"
    }
   ],
   "source": [
    "df.columns"
   ]
  },
  {
   "cell_type": "markdown",
   "metadata": {
    "papermill": {
     "duration": 0.059523,
     "end_time": "2021-01-02T16:38:12.203590",
     "exception": false,
     "start_time": "2021-01-02T16:38:12.144067",
     "status": "completed"
    },
    "tags": []
   },
   "source": [
    "# Data Preparation"
   ]
  },
  {
   "cell_type": "code",
   "execution_count": 29,
   "metadata": {
    "execution": {
     "iopub.execute_input": "2021-01-02T16:38:12.327706Z",
     "iopub.status.busy": "2021-01-02T16:38:12.327003Z",
     "iopub.status.idle": "2021-01-02T16:38:12.573947Z",
     "shell.execute_reply": "2021-01-02T16:38:12.573410Z"
    },
    "papermill": {
     "duration": 0.310888,
     "end_time": "2021-01-02T16:38:12.574047",
     "exception": false,
     "start_time": "2021-01-02T16:38:12.263159",
     "status": "completed"
    },
    "tags": []
   },
   "outputs": [],
   "source": [
    "from sklearn.preprocessing import LabelBinarizer\n",
    "\n",
    "lb = LabelBinarizer()\n",
    "y = lb.fit_transform(df.classification)"
   ]
  },
  {
   "cell_type": "code",
   "execution_count": 30,
   "metadata": {
    "execution": {
     "iopub.execute_input": "2021-01-02T16:38:12.704038Z",
     "iopub.status.busy": "2021-01-02T16:38:12.703110Z",
     "iopub.status.idle": "2021-01-02T16:38:12.710883Z",
     "shell.execute_reply": "2021-01-02T16:38:12.711365Z"
    },
    "papermill": {
     "duration": 0.076775,
     "end_time": "2021-01-02T16:38:12.711496",
     "exception": false,
     "start_time": "2021-01-02T16:38:12.634721",
     "status": "completed"
    },
    "tags": []
   },
   "outputs": [],
   "source": [
    "X=df.drop('classification',axis=1)"
   ]
  },
  {
   "cell_type": "code",
   "execution_count": 31,
   "metadata": {
    "execution": {
     "iopub.execute_input": "2021-01-02T16:38:12.838563Z",
     "iopub.status.busy": "2021-01-02T16:38:12.837818Z",
     "iopub.status.idle": "2021-01-02T16:38:12.841336Z",
     "shell.execute_reply": "2021-01-02T16:38:12.841816Z"
    },
    "papermill": {
     "duration": 0.069865,
     "end_time": "2021-01-02T16:38:12.841937",
     "exception": false,
     "start_time": "2021-01-02T16:38:12.772072",
     "status": "completed"
    },
    "tags": []
   },
   "outputs": [
    {
     "data": {
      "text/plain": [
       "'STAGKVIKCKAAVLWEEKKPFSIEEVEVAPPKAHEVRIKMVATGICRSDDHVVSGTLVTPLPVIAGHEAAGIVESIGEGVTTVRPGDKVIPLWTPQCGKCRVCKHPEGNFCLKNDLSMPRGTMQDGTSRFTCRGKPIHHFLGTSTFSQYTVVDEISVAKIDAASPLEKVCLIGCGFSTGYGSAVKVAKVTQGSTCAVFGLGGAGLSVIMGCKAAGAARIIGVDINKDKFAKAKEVGATECVNPQDYKKPIQEVLTEMSNGGVDFSFEVIGRLDTMVTALSCCQEAYGVSVIVGVPPDSQNLSMNPMLLLSGRTWKGAIFGGFKSKDSVPKLVADFMAKKFALDPLITHVLPFEKINEGFDLLRSGESIRTILTF 374 8.4 46.82 Protein 374 2.6 277.0 A'"
      ]
     },
     "execution_count": 31,
     "metadata": {},
     "output_type": "execute_result"
    }
   ],
   "source": [
    "df.iloc[0]['merge_col']"
   ]
  },
  {
   "cell_type": "code",
   "execution_count": 32,
   "metadata": {
    "execution": {
     "iopub.execute_input": "2021-01-02T16:38:12.969047Z",
     "iopub.status.busy": "2021-01-02T16:38:12.968451Z",
     "iopub.status.idle": "2021-01-02T16:38:27.356727Z",
     "shell.execute_reply": "2021-01-02T16:38:27.355302Z"
    },
    "papermill": {
     "duration": 14.454907,
     "end_time": "2021-01-02T16:38:27.356912",
     "exception": false,
     "start_time": "2021-01-02T16:38:12.902005",
     "status": "completed"
    },
    "tags": []
   },
   "outputs": [],
   "source": [
    "from keras.preprocessing import text, sequence\n",
    "from keras.preprocessing.text import Tokenizer\n",
    "from sklearn.model_selection import train_test_split\n",
    "\n",
    "max_length = max(lengths)\n",
    "\n",
    "tokenizer = Tokenizer(char_level=True)\n",
    "tokenizer.fit_on_texts(seqs)\n",
    "\n",
    "X_seq = tokenizer.texts_to_sequences(seqs)\n",
    "X_seq = sequence.pad_sequences(X_seq, maxlen=max_length)"
   ]
  },
  {
   "cell_type": "code",
   "execution_count": 33,
   "metadata": {
    "execution": {
     "iopub.execute_input": "2021-01-02T16:38:27.579408Z",
     "iopub.status.busy": "2021-01-02T16:38:27.578586Z",
     "iopub.status.idle": "2021-01-02T16:38:27.641686Z",
     "shell.execute_reply": "2021-01-02T16:38:27.643806Z"
    },
    "papermill": {
     "duration": 0.173885,
     "end_time": "2021-01-02T16:38:27.643995",
     "exception": false,
     "start_time": "2021-01-02T16:38:27.470110",
     "status": "completed"
    },
    "tags": []
   },
   "outputs": [
    {
     "name": "stdout",
     "output_type": "stream",
     "text": [
      "<class 'pandas.core.frame.DataFrame'>\n",
      "Int64Index: 30867 entries, 6 to 60752\n",
      "Data columns (total 19 columns):\n",
      " #   Column                    Non-Null Count  Dtype  \n",
      "---  ------                    --------------  -----  \n",
      " 0   structureId               30867 non-null  object \n",
      " 1   classification            30867 non-null  object \n",
      " 2   experimentalTechnique     30867 non-null  object \n",
      " 3   macromoleculeType_x       30867 non-null  object \n",
      " 4   residueCount_x            30867 non-null  int64  \n",
      " 5   resolution                30867 non-null  float64\n",
      " 6   structureMolecularWeight  30867 non-null  float64\n",
      " 7   crystallizationMethod     30867 non-null  object \n",
      " 8   crystallizationTempK      30867 non-null  float64\n",
      " 9   densityMatthews           30867 non-null  float64\n",
      " 10  densityPercentSol         30867 non-null  float64\n",
      " 11  pdbxDetails               30867 non-null  object \n",
      " 12  phValue                   30867 non-null  float64\n",
      " 13  publicationYear           30867 non-null  float64\n",
      " 14  chainId                   30867 non-null  object \n",
      " 15  sequence                  30867 non-null  object \n",
      " 16  residueCount_y            30867 non-null  int64  \n",
      " 17  macromoleculeType_y       30867 non-null  object \n",
      " 18  merge_col                 30867 non-null  object \n",
      "dtypes: float64(7), int64(2), object(10)\n",
      "memory usage: 4.7+ MB\n"
     ]
    }
   ],
   "source": [
    "df.info()"
   ]
  },
  {
   "cell_type": "code",
   "execution_count": 34,
   "metadata": {
    "execution": {
     "iopub.execute_input": "2021-01-02T16:38:27.847091Z",
     "iopub.status.busy": "2021-01-02T16:38:27.846199Z",
     "iopub.status.idle": "2021-01-02T16:38:27.848722Z",
     "shell.execute_reply": "2021-01-02T16:38:27.847921Z"
    },
    "papermill": {
     "duration": 0.09467,
     "end_time": "2021-01-02T16:38:27.848855",
     "exception": false,
     "start_time": "2021-01-02T16:38:27.754185",
     "status": "completed"
    },
    "tags": []
   },
   "outputs": [],
   "source": [
    "from tensorflow.keras.models import Sequential\n",
    "from keras.models import Model\n",
    "from keras.layers.embeddings import Embedding\n",
    "from keras.layers.merge import Concatenate\n",
    "from tensorflow.keras.layers import Dense,Dot,Conv1D,MaxPooling1D,Activation,Dropout,LSTM,Flatten,GlobalMaxPooling1D,Input"
   ]
  },
  {
   "cell_type": "code",
   "execution_count": 35,
   "metadata": {
    "execution": {
     "iopub.execute_input": "2021-01-02T16:38:28.018260Z",
     "iopub.status.busy": "2021-01-02T16:38:28.017175Z",
     "iopub.status.idle": "2021-01-02T16:38:28.021760Z",
     "shell.execute_reply": "2021-01-02T16:38:28.019110Z"
    },
    "papermill": {
     "duration": 0.083175,
     "end_time": "2021-01-02T16:38:28.021925",
     "exception": false,
     "start_time": "2021-01-02T16:38:27.938750",
     "status": "completed"
    },
    "tags": []
   },
   "outputs": [
    {
     "name": "stdout",
     "output_type": "stream",
     "text": [
      "{'word_counts': OrderedDict([('s', 608270), ('t', 556955), ('a', 770619), ('g', 706994), ('k', 532725), ('v', 646185), ('i', 546298), ('c', 138415), ('l', 862024), ('w', 148253), ('e', 630336), ('p', 490574), ('f', 386257), ('h', 274020), ('r', 503786), ('m', 220809), ('d', 544330), ('q', 355435), ('n', 425921), ('y', 342672), (' ', 246936), ('3', 49648), ('7', 46614), ('4', 52965), ('8', 48892), ('.', 123468), ('6', 48166), ('2', 85160), ('o', 30879), ('0', 68944), ('1', 52283), ('9', 52774), ('5', 62708), ('u', 14), ('x', 1319), ('b', 125), ('z', 23), ('j', 2)]), 'word_docs': defaultdict(<class 'int'>, {'v': 30754, 'r': 30867, 'n': 30867, '3': 23002, '0': 30550, '7': 22050, '8': 23134, 'f': 30697, 'k': 30743, 't': 30867, 'g': 30805, 'o': 30867, 'e': 30867, '4': 23985, 'y': 30625, 'a': 30859, 'h': 30339, 'p': 30867, 'w': 28303, 'c': 27040, '2': 30779, 'i': 30867, 'q': 30566, 's': 30691, 'd': 30809, '.': 30867, 'm': 29869, 'l': 30833, '6': 22963, ' ': 30867, '1': 24604, '9': 27793, '5': 26930, 'u': 14, 'x': 404, 'b': 112, 'z': 1, 'j': 2}), 'filters': '!\"#$%&()*+,-./:;<=>?@[\\\\]^_`{|}~\\t\\n', 'split': ' ', 'lower': True, 'num_words': None, 'document_count': 30867, 'char_level': True, 'oov_token': None, 'index_docs': defaultdict(<class 'int'>, {4: 30754, 11: 30867, 13: 30867, 29: 23002, 24: 30550, 32: 22050, 30: 23134, 14: 30697, 10: 30743, 7: 30867, 3: 30805, 33: 30867, 5: 30867, 26: 23985, 16: 30625, 2: 30859, 17: 30339, 12: 30867, 20: 28303, 21: 27040, 23: 30779, 8: 30867, 15: 30566, 6: 30691, 9: 30809, 22: 30867, 19: 29869, 1: 30833, 31: 22963, 18: 30867, 28: 24604, 27: 27793, 25: 26930, 37: 14, 34: 404, 35: 112, 36: 1, 38: 2}), 'word_index': {'l': 1, 'a': 2, 'g': 3, 'v': 4, 'e': 5, 's': 6, 't': 7, 'i': 8, 'd': 9, 'k': 10, 'r': 11, 'p': 12, 'n': 13, 'f': 14, 'q': 15, 'y': 16, 'h': 17, ' ': 18, 'm': 19, 'w': 20, 'c': 21, '.': 22, '2': 23, '0': 24, '5': 25, '4': 26, '9': 27, '1': 28, '3': 29, '8': 30, '6': 31, '7': 32, 'o': 33, 'x': 34, 'b': 35, 'z': 36, 'u': 37, 'j': 38}, 'index_word': {1: 'l', 2: 'a', 3: 'g', 4: 'v', 5: 'e', 6: 's', 7: 't', 8: 'i', 9: 'd', 10: 'k', 11: 'r', 12: 'p', 13: 'n', 14: 'f', 15: 'q', 16: 'y', 17: 'h', 18: ' ', 19: 'm', 20: 'w', 21: 'c', 22: '.', 23: '2', 24: '0', 25: '5', 26: '4', 27: '9', 28: '1', 29: '3', 30: '8', 31: '6', 32: '7', 33: 'o', 34: 'x', 35: 'b', 36: 'z', 37: 'u', 38: 'j'}}\n"
     ]
    }
   ],
   "source": [
    "print(tokenizer.__dict__)"
   ]
  },
  {
   "cell_type": "code",
   "execution_count": 36,
   "metadata": {
    "execution": {
     "iopub.execute_input": "2021-01-02T16:38:28.206529Z",
     "iopub.status.busy": "2021-01-02T16:38:28.205771Z",
     "iopub.status.idle": "2021-01-02T16:38:28.210377Z",
     "shell.execute_reply": "2021-01-02T16:38:28.210941Z"
    },
    "papermill": {
     "duration": 0.103116,
     "end_time": "2021-01-02T16:38:28.211099",
     "exception": false,
     "start_time": "2021-01-02T16:38:28.107983",
     "status": "completed"
    },
    "tags": []
   },
   "outputs": [
    {
     "data": {
      "text/plain": [
       "{'l': 1,\n",
       " 'a': 2,\n",
       " 'g': 3,\n",
       " 'v': 4,\n",
       " 'e': 5,\n",
       " 's': 6,\n",
       " 't': 7,\n",
       " 'i': 8,\n",
       " 'd': 9,\n",
       " 'k': 10,\n",
       " 'r': 11,\n",
       " 'p': 12,\n",
       " 'n': 13,\n",
       " 'f': 14,\n",
       " 'q': 15,\n",
       " 'y': 16,\n",
       " 'h': 17,\n",
       " ' ': 18,\n",
       " 'm': 19,\n",
       " 'w': 20,\n",
       " 'c': 21,\n",
       " '.': 22,\n",
       " '2': 23,\n",
       " '0': 24,\n",
       " '5': 25,\n",
       " '4': 26,\n",
       " '9': 27,\n",
       " '1': 28,\n",
       " '3': 29,\n",
       " '8': 30,\n",
       " '6': 31,\n",
       " '7': 32,\n",
       " 'o': 33,\n",
       " 'x': 34,\n",
       " 'b': 35,\n",
       " 'z': 36,\n",
       " 'u': 37,\n",
       " 'j': 38}"
      ]
     },
     "execution_count": 36,
     "metadata": {},
     "output_type": "execute_result"
    }
   ],
   "source": [
    "tokenizer.word_index"
   ]
  },
  {
   "cell_type": "code",
   "execution_count": 37,
   "metadata": {
    "execution": {
     "iopub.execute_input": "2021-01-02T16:38:28.383832Z",
     "iopub.status.busy": "2021-01-02T16:38:28.382022Z",
     "iopub.status.idle": "2021-01-02T16:38:28.384577Z",
     "shell.execute_reply": "2021-01-02T16:38:28.385126Z"
    },
    "papermill": {
     "duration": 0.080881,
     "end_time": "2021-01-02T16:38:28.385285",
     "exception": false,
     "start_time": "2021-01-02T16:38:28.304404",
     "status": "completed"
    },
    "tags": []
   },
   "outputs": [],
   "source": [
    "# def vector_based_on_freq(sequence):\n",
    "#     vector = []\n",
    "#     for i in tokenizer.word_index.keys():\n",
    "#         i=i.upper()\n",
    "#         vector.append(sequence.count(i)/len(sequence))\n",
    "    \n",
    "#     return(vector)"
   ]
  },
  {
   "cell_type": "code",
   "execution_count": 38,
   "metadata": {
    "execution": {
     "iopub.execute_input": "2021-01-02T16:38:28.522131Z",
     "iopub.status.busy": "2021-01-02T16:38:28.520465Z",
     "iopub.status.idle": "2021-01-02T16:38:28.524366Z",
     "shell.execute_reply": "2021-01-02T16:38:28.524877Z"
    },
    "papermill": {
     "duration": 0.075531,
     "end_time": "2021-01-02T16:38:28.525002",
     "exception": false,
     "start_time": "2021-01-02T16:38:28.449471",
     "status": "completed"
    },
    "tags": []
   },
   "outputs": [
    {
     "data": {
      "text/plain": [
       "dict_keys(['l', 'a', 'g', 'v', 'e', 's', 't', 'i', 'd', 'k', 'r', 'p', 'n', 'f', 'q', 'y', 'h', ' ', 'm', 'w', 'c', '.', '2', '0', '5', '4', '9', '1', '3', '8', '6', '7', 'o', 'x', 'b', 'z', 'u', 'j'])"
      ]
     },
     "execution_count": 38,
     "metadata": {},
     "output_type": "execute_result"
    }
   ],
   "source": [
    "tokenizer.word_index.keys()"
   ]
  },
  {
   "cell_type": "code",
   "execution_count": 39,
   "metadata": {
    "execution": {
     "iopub.execute_input": "2021-01-02T16:38:28.658499Z",
     "iopub.status.busy": "2021-01-02T16:38:28.657547Z",
     "iopub.status.idle": "2021-01-02T16:38:28.660355Z",
     "shell.execute_reply": "2021-01-02T16:38:28.659828Z"
    },
    "papermill": {
     "duration": 0.070853,
     "end_time": "2021-01-02T16:38:28.660452",
     "exception": false,
     "start_time": "2021-01-02T16:38:28.589599",
     "status": "completed"
    },
    "tags": []
   },
   "outputs": [],
   "source": [
    "# vector_based_on_freq(df.iloc[0]['sequence'])"
   ]
  },
  {
   "cell_type": "code",
   "execution_count": 40,
   "metadata": {
    "execution": {
     "iopub.execute_input": "2021-01-02T16:38:28.793454Z",
     "iopub.status.busy": "2021-01-02T16:38:28.792618Z",
     "iopub.status.idle": "2021-01-02T16:38:28.795675Z",
     "shell.execute_reply": "2021-01-02T16:38:28.795066Z"
    },
    "papermill": {
     "duration": 0.070825,
     "end_time": "2021-01-02T16:38:28.795768",
     "exception": false,
     "start_time": "2021-01-02T16:38:28.724943",
     "status": "completed"
    },
    "tags": []
   },
   "outputs": [],
   "source": [
    "# df['frequency_vector'] = df['sequence'].apply(lambda i : vector_based_on_freq(i))"
   ]
  },
  {
   "cell_type": "code",
   "execution_count": 41,
   "metadata": {
    "collapsed": true,
    "execution": {
     "iopub.execute_input": "2021-01-02T16:38:28.929437Z",
     "iopub.status.busy": "2021-01-02T16:38:28.928597Z",
     "iopub.status.idle": "2021-01-02T16:38:28.931647Z",
     "shell.execute_reply": "2021-01-02T16:38:28.931008Z"
    },
    "papermill": {
     "duration": 0.072054,
     "end_time": "2021-01-02T16:38:28.931768",
     "exception": false,
     "start_time": "2021-01-02T16:38:28.859714",
     "status": "completed"
    },
    "tags": []
   },
   "outputs": [],
   "source": [
    "# X_rest = df.drop(['sequence','classification','macromoleculeType_x','structureId',\n",
    "#                  'experimentalTechnique','crystallizationMethod','pdbxDetails',\n",
    "#                  'chainId','macromoleculeType_y','frequency_vector'],axis=1)"
   ]
  },
  {
   "cell_type": "code",
   "execution_count": 42,
   "metadata": {
    "execution": {
     "iopub.execute_input": "2021-01-02T16:38:29.067398Z",
     "iopub.status.busy": "2021-01-02T16:38:29.066597Z",
     "iopub.status.idle": "2021-01-02T16:38:29.069550Z",
     "shell.execute_reply": "2021-01-02T16:38:29.068931Z"
    },
    "papermill": {
     "duration": 0.07236,
     "end_time": "2021-01-02T16:38:29.069647",
     "exception": false,
     "start_time": "2021-01-02T16:38:28.997287",
     "status": "completed"
    },
    "tags": []
   },
   "outputs": [],
   "source": [
    "# X_rest = df.drop(['sequence','classification','macromoleculeType_x','structureId',\n",
    "#                  'experimentalTechnique','crystallizationMethod','pdbxDetails',\n",
    "#                  'chainId','macromoleculeType_y','publicationYear'],axis=1)"
   ]
  },
  {
   "cell_type": "code",
   "execution_count": 43,
   "metadata": {
    "execution": {
     "iopub.execute_input": "2021-01-02T16:38:29.204218Z",
     "iopub.status.busy": "2021-01-02T16:38:29.203435Z",
     "iopub.status.idle": "2021-01-02T16:38:29.206417Z",
     "shell.execute_reply": "2021-01-02T16:38:29.205811Z"
    },
    "papermill": {
     "duration": 0.07057,
     "end_time": "2021-01-02T16:38:29.206511",
     "exception": false,
     "start_time": "2021-01-02T16:38:29.135941",
     "status": "completed"
    },
    "tags": []
   },
   "outputs": [],
   "source": [
    "# X_rest.head()"
   ]
  },
  {
   "cell_type": "code",
   "execution_count": 44,
   "metadata": {
    "execution": {
     "iopub.execute_input": "2021-01-02T16:38:29.340226Z",
     "iopub.status.busy": "2021-01-02T16:38:29.339491Z",
     "iopub.status.idle": "2021-01-02T16:38:29.342526Z",
     "shell.execute_reply": "2021-01-02T16:38:29.341922Z"
    },
    "papermill": {
     "duration": 0.071549,
     "end_time": "2021-01-02T16:38:29.342620",
     "exception": false,
     "start_time": "2021-01-02T16:38:29.271071",
     "status": "completed"
    },
    "tags": []
   },
   "outputs": [],
   "source": [
    "# X_seq = df['frequency_vector']"
   ]
  },
  {
   "cell_type": "markdown",
   "metadata": {
    "papermill": {
     "duration": 0.064879,
     "end_time": "2021-01-02T16:38:29.472464",
     "exception": false,
     "start_time": "2021-01-02T16:38:29.407585",
     "status": "completed"
    },
    "tags": []
   },
   "source": [
    "# Final Model"
   ]
  },
  {
   "cell_type": "code",
   "execution_count": 45,
   "metadata": {
    "execution": {
     "iopub.execute_input": "2021-01-02T16:38:29.607401Z",
     "iopub.status.busy": "2021-01-02T16:38:29.606826Z",
     "iopub.status.idle": "2021-01-02T16:38:29.630776Z",
     "shell.execute_reply": "2021-01-02T16:38:29.630269Z"
    },
    "papermill": {
     "duration": 0.092642,
     "end_time": "2021-01-02T16:38:29.630869",
     "exception": false,
     "start_time": "2021-01-02T16:38:29.538227",
     "status": "completed"
    },
    "tags": []
   },
   "outputs": [],
   "source": [
    "input_1 = Input(shape=(max_length,)) #sequence"
   ]
  },
  {
   "cell_type": "code",
   "execution_count": 46,
   "metadata": {
    "execution": {
     "iopub.execute_input": "2021-01-02T16:38:32.474405Z",
     "iopub.status.busy": "2021-01-02T16:38:32.473511Z",
     "iopub.status.idle": "2021-01-02T16:38:33.153365Z",
     "shell.execute_reply": "2021-01-02T16:38:33.152728Z"
    },
    "papermill": {
     "duration": 3.456754,
     "end_time": "2021-01-02T16:38:33.153491",
     "exception": false,
     "start_time": "2021-01-02T16:38:29.696737",
     "status": "completed"
    },
    "tags": []
   },
   "outputs": [],
   "source": [
    "embedding_layer = Embedding(len(tokenizer.word_index)+1, 8)(input_1)\n",
    "CNN_Layer_pre = Conv1D(filters=64,kernel_size=6,padding='same',activation='relu')(embedding_layer)\n",
    "CNN_layer = Conv1D(filters=32,kernel_size=3,padding='same',activation='relu')(CNN_Layer_pre)\n",
    "MaxPooling_layer = MaxPooling1D(pool_size=2)(CNN_layer)\n",
    "LSTM_Layer_1 = LSTM(150)(MaxPooling_layer)\n",
    "#concat_layer = Concatenate()([LSTM_Layer_1, input_2])\n",
    "#dense_Concat = Dense(100,activation='relu')(concat_layer)\n",
    "#dense_Concat_2 = Dense(100,activation='relu')(dense_Concat)"
   ]
  },
  {
   "cell_type": "code",
   "execution_count": 47,
   "metadata": {
    "execution": {
     "iopub.execute_input": "2021-01-02T16:38:33.289330Z",
     "iopub.status.busy": "2021-01-02T16:38:33.288725Z",
     "iopub.status.idle": "2021-01-02T16:38:33.307631Z",
     "shell.execute_reply": "2021-01-02T16:38:33.306715Z"
    },
    "papermill": {
     "duration": 0.089009,
     "end_time": "2021-01-02T16:38:33.307731",
     "exception": false,
     "start_time": "2021-01-02T16:38:33.218722",
     "status": "completed"
    },
    "tags": []
   },
   "outputs": [],
   "source": [
    "# dense_layer_3 = Dense(10, activation='relu')(concat_layer)\n",
    "output = Dense(top_classes, activation='softmax')(LSTM_Layer_1)\n",
    "model = Model(inputs=input_1, outputs=output)"
   ]
  },
  {
   "cell_type": "markdown",
   "metadata": {
    "papermill": {
     "duration": 0.065134,
     "end_time": "2021-01-02T16:38:33.437745",
     "exception": false,
     "start_time": "2021-01-02T16:38:33.372611",
     "status": "completed"
    },
    "tags": []
   },
   "source": [
    "# A Prototype Model "
   ]
  },
  {
   "cell_type": "code",
   "execution_count": 48,
   "metadata": {
    "execution": {
     "iopub.execute_input": "2021-01-02T16:38:33.573166Z",
     "iopub.status.busy": "2021-01-02T16:38:33.571393Z",
     "iopub.status.idle": "2021-01-02T16:38:33.573839Z",
     "shell.execute_reply": "2021-01-02T16:38:33.574367Z"
    },
    "papermill": {
     "duration": 0.071788,
     "end_time": "2021-01-02T16:38:33.574496",
     "exception": false,
     "start_time": "2021-01-02T16:38:33.502708",
     "status": "completed"
    },
    "tags": []
   },
   "outputs": [],
   "source": [
    "# input_1 = Input(shape=(25,)) #sequence"
   ]
  },
  {
   "cell_type": "code",
   "execution_count": 49,
   "metadata": {
    "execution": {
     "iopub.execute_input": "2021-01-02T16:38:33.706769Z",
     "iopub.status.busy": "2021-01-02T16:38:33.706193Z",
     "iopub.status.idle": "2021-01-02T16:38:33.709764Z",
     "shell.execute_reply": "2021-01-02T16:38:33.710235Z"
    },
    "papermill": {
     "duration": 0.071427,
     "end_time": "2021-01-02T16:38:33.710355",
     "exception": false,
     "start_time": "2021-01-02T16:38:33.638928",
     "status": "completed"
    },
    "tags": []
   },
   "outputs": [],
   "source": [
    "# input_2 = Input(shape=(len(X_rest.columns),)) #rest"
   ]
  },
  {
   "cell_type": "code",
   "execution_count": 50,
   "metadata": {
    "execution": {
     "iopub.execute_input": "2021-01-02T16:38:33.844382Z",
     "iopub.status.busy": "2021-01-02T16:38:33.842649Z",
     "iopub.status.idle": "2021-01-02T16:38:33.845067Z",
     "shell.execute_reply": "2021-01-02T16:38:33.845577Z"
    },
    "papermill": {
     "duration": 0.070632,
     "end_time": "2021-01-02T16:38:33.845692",
     "exception": false,
     "start_time": "2021-01-02T16:38:33.775060",
     "status": "completed"
    },
    "tags": []
   },
   "outputs": [],
   "source": [
    "# concat_layer = Concatenate()([input_1, input_2])\n",
    "# dense_layer_3 = Dense(10, activation='relu')(concat_layer)\n",
    "# output = Dense(top_classes, activation='softmax')(dense_layer_3)\n",
    "# model = Model(inputs=[input_1, input_2], outputs=output)"
   ]
  },
  {
   "cell_type": "markdown",
   "metadata": {
    "papermill": {
     "duration": 0.065693,
     "end_time": "2021-01-02T16:38:33.976107",
     "exception": false,
     "start_time": "2021-01-02T16:38:33.910414",
     "status": "completed"
    },
    "tags": []
   },
   "source": [
    "# Training and Testing Model"
   ]
  },
  {
   "cell_type": "code",
   "execution_count": 51,
   "metadata": {
    "execution": {
     "iopub.execute_input": "2021-01-02T16:38:34.121044Z",
     "iopub.status.busy": "2021-01-02T16:38:34.120450Z",
     "iopub.status.idle": "2021-01-02T16:38:34.133925Z",
     "shell.execute_reply": "2021-01-02T16:38:34.134722Z"
    },
    "papermill": {
     "duration": 0.09124,
     "end_time": "2021-01-02T16:38:34.134874",
     "exception": false,
     "start_time": "2021-01-02T16:38:34.043634",
     "status": "completed"
    },
    "tags": []
   },
   "outputs": [
    {
     "name": "stdout",
     "output_type": "stream",
     "text": [
      "Model: \"functional_1\"\n",
      "_________________________________________________________________\n",
      "Layer (type)                 Output Shape              Param #   \n",
      "=================================================================\n",
      "input_1 (InputLayer)         [(None, 1174)]            0         \n",
      "_________________________________________________________________\n",
      "embedding (Embedding)        (None, 1174, 8)           312       \n",
      "_________________________________________________________________\n",
      "conv1d (Conv1D)              (None, 1174, 64)          3136      \n",
      "_________________________________________________________________\n",
      "conv1d_1 (Conv1D)            (None, 1174, 32)          6176      \n",
      "_________________________________________________________________\n",
      "max_pooling1d (MaxPooling1D) (None, 587, 32)           0         \n",
      "_________________________________________________________________\n",
      "lstm (LSTM)                  (None, 150)               109800    \n",
      "_________________________________________________________________\n",
      "dense (Dense)                (None, 10)                1510      \n",
      "=================================================================\n",
      "Total params: 120,934\n",
      "Trainable params: 120,934\n",
      "Non-trainable params: 0\n",
      "_________________________________________________________________\n",
      "None\n"
     ]
    }
   ],
   "source": [
    "from tensorflow.keras.optimizers import Adam\n",
    "opt = Adam(learning_rate=0.001)\n",
    "model.compile(loss='categorical_crossentropy', optimizer=opt, metrics=['acc'])\n",
    "print(model.summary())"
   ]
  },
  {
   "cell_type": "code",
   "execution_count": 52,
   "metadata": {
    "execution": {
     "iopub.execute_input": "2021-01-02T16:38:34.270670Z",
     "iopub.status.busy": "2021-01-02T16:38:34.269683Z",
     "iopub.status.idle": "2021-01-02T16:38:34.844600Z",
     "shell.execute_reply": "2021-01-02T16:38:34.844069Z"
    },
    "papermill": {
     "duration": 0.644544,
     "end_time": "2021-01-02T16:38:34.844703",
     "exception": false,
     "start_time": "2021-01-02T16:38:34.200159",
     "status": "completed"
    },
    "tags": []
   },
   "outputs": [
    {
     "data": {
      "image/png": "[encoded data removed]",
      "text/plain": [
       "<IPython.core.display.Image object>"
      ]
     },
     "execution_count": 52,
     "metadata": {},
     "output_type": "execute_result"
    }
   ],
   "source": [
    "from keras.utils import plot_model\n",
    "plot_model(model, to_file='model_plot3.png', show_shapes=True, show_layer_names=True)"
   ]
  },
  {
   "cell_type": "code",
   "execution_count": 53,
   "metadata": {
    "execution": {
     "iopub.execute_input": "2021-01-02T16:38:34.984365Z",
     "iopub.status.busy": "2021-01-02T16:38:34.983030Z",
     "iopub.status.idle": "2021-01-02T16:38:35.039663Z",
     "shell.execute_reply": "2021-01-02T16:38:35.039102Z"
    },
    "papermill": {
     "duration": 0.128118,
     "end_time": "2021-01-02T16:38:35.039768",
     "exception": false,
     "start_time": "2021-01-02T16:38:34.911650",
     "status": "completed"
    },
    "tags": []
   },
   "outputs": [],
   "source": [
    "X_seq = np.array(X_seq)"
   ]
  },
  {
   "cell_type": "code",
   "execution_count": 54,
   "metadata": {
    "execution": {
     "iopub.execute_input": "2021-01-02T16:38:35.186443Z",
     "iopub.status.busy": "2021-01-02T16:38:35.185385Z",
     "iopub.status.idle": "2021-01-02T16:38:35.249466Z",
     "shell.execute_reply": "2021-01-02T16:38:35.248904Z"
    },
    "papermill": {
     "duration": 0.141935,
     "end_time": "2021-01-02T16:38:35.249574",
     "exception": false,
     "start_time": "2021-01-02T16:38:35.107639",
     "status": "completed"
    },
    "tags": []
   },
   "outputs": [],
   "source": [
    "X_seq = np.array(list(X_seq))"
   ]
  },
  {
   "cell_type": "code",
   "execution_count": 55,
   "metadata": {
    "execution": {
     "iopub.execute_input": "2021-01-02T16:38:35.389337Z",
     "iopub.status.busy": "2021-01-02T16:38:35.388447Z",
     "iopub.status.idle": "2021-01-02T16:38:35.391419Z",
     "shell.execute_reply": "2021-01-02T16:38:35.390778Z"
    },
    "papermill": {
     "duration": 0.074728,
     "end_time": "2021-01-02T16:38:35.391550",
     "exception": false,
     "start_time": "2021-01-02T16:38:35.316822",
     "status": "completed"
    },
    "tags": []
   },
   "outputs": [],
   "source": [
    "msk = np.random.rand(len(df)) < 0.8"
   ]
  },
  {
   "cell_type": "code",
   "execution_count": 56,
   "metadata": {
    "execution": {
     "iopub.execute_input": "2021-01-02T16:38:35.532031Z",
     "iopub.status.busy": "2021-01-02T16:38:35.530826Z",
     "iopub.status.idle": "2021-01-02T16:38:35.580324Z",
     "shell.execute_reply": "2021-01-02T16:38:35.580781Z"
    },
    "papermill": {
     "duration": 0.121901,
     "end_time": "2021-01-02T16:38:35.580934",
     "exception": false,
     "start_time": "2021-01-02T16:38:35.459033",
     "status": "completed"
    },
    "tags": []
   },
   "outputs": [],
   "source": [
    "X_seq_train = X_seq[msk]\n",
    "# X_rest_train = X_rest[msk]\n",
    "y_train = y[msk]\n",
    "\n",
    "X_seq_test = X_seq[~msk]\n",
    "# X_rest_test = X_rest[~msk]\n",
    "y_test = y[~msk]"
   ]
  },
  {
   "cell_type": "code",
   "execution_count": 57,
   "metadata": {
    "execution": {
     "iopub.execute_input": "2021-01-02T16:38:35.720532Z",
     "iopub.status.busy": "2021-01-02T16:38:35.719895Z",
     "iopub.status.idle": "2021-01-02T16:38:35.723654Z",
     "shell.execute_reply": "2021-01-02T16:38:35.724078Z"
    },
    "papermill": {
     "duration": 0.07528,
     "end_time": "2021-01-02T16:38:35.724215",
     "exception": false,
     "start_time": "2021-01-02T16:38:35.648935",
     "status": "completed"
    },
    "tags": []
   },
   "outputs": [],
   "source": [
    "from tensorflow.keras.callbacks import EarlyStopping\n",
    "from tensorflow.keras.callbacks import ModelCheckpoint"
   ]
  },
  {
   "cell_type": "code",
   "execution_count": 58,
   "metadata": {
    "execution": {
     "iopub.execute_input": "2021-01-02T16:38:35.864579Z",
     "iopub.status.busy": "2021-01-02T16:38:35.862740Z",
     "iopub.status.idle": "2021-01-02T16:38:35.865273Z",
     "shell.execute_reply": "2021-01-02T16:38:35.865739Z"
    },
    "papermill": {
     "duration": 0.074561,
     "end_time": "2021-01-02T16:38:35.865846",
     "exception": false,
     "start_time": "2021-01-02T16:38:35.791285",
     "status": "completed"
    },
    "tags": []
   },
   "outputs": [],
   "source": [
    "early_stop = EarlyStopping(monitor='val_loss',patience=5)"
   ]
  },
  {
   "cell_type": "code",
   "execution_count": 59,
   "metadata": {
    "execution": {
     "iopub.execute_input": "2021-01-02T16:38:36.006322Z",
     "iopub.status.busy": "2021-01-02T16:38:36.005684Z",
     "iopub.status.idle": "2021-01-02T16:38:36.009411Z",
     "shell.execute_reply": "2021-01-02T16:38:36.008862Z"
    },
    "papermill": {
     "duration": 0.076074,
     "end_time": "2021-01-02T16:38:36.009511",
     "exception": false,
     "start_time": "2021-01-02T16:38:35.933437",
     "status": "completed"
    },
    "tags": []
   },
   "outputs": [],
   "source": [
    "best_model_save = ModelCheckpoint(\n",
    "    '/kaggle/working/best_model.h5', monitor='val_acc', verbose=1, save_best_only=True,\n",
    "    save_weights_only=False, mode='auto'\n",
    ")\n"
   ]
  },
  {
   "cell_type": "code",
   "execution_count": 60,
   "metadata": {
    "execution": {
     "iopub.execute_input": "2021-01-02T16:38:36.153610Z",
     "iopub.status.busy": "2021-01-02T16:38:36.152920Z",
     "iopub.status.idle": "2021-01-02T16:41:17.328482Z",
     "shell.execute_reply": "2021-01-02T16:41:17.328945Z"
    },
    "papermill": {
     "duration": 161.2522,
     "end_time": "2021-01-02T16:41:17.329157",
     "exception": false,
     "start_time": "2021-01-02T16:38:36.076957",
     "status": "completed"
    },
    "tags": []
   },
   "outputs": [
    {
     "name": "stdout",
     "output_type": "stream",
     "text": [
      "Epoch 1/15\n",
      "155/155 [==============================] - ETA: 0s - loss: 2.0232 - acc: 0.2848\n",
      "Epoch 00001: val_acc improved from -inf to 0.29193, saving model to /kaggle/working/best_model.h5\n",
      "155/155 [==============================] - 11s 71ms/step - loss: 2.0232 - acc: 0.2848 - val_loss: 2.0438 - val_acc: 0.2919\n",
      "Epoch 2/15\n",
      "154/155 [============================>.] - ETA: 0s - loss: 1.9991 - acc: 0.2918\n",
      "Epoch 00002: val_acc improved from 0.29193 to 0.31094, saving model to /kaggle/working/best_model.h5\n",
      "155/155 [==============================] - 10s 66ms/step - loss: 1.9991 - acc: 0.2918 - val_loss: 1.9975 - val_acc: 0.3109\n",
      "Epoch 3/15\n",
      "154/155 [============================>.] - ETA: 0s - loss: 1.9491 - acc: 0.3122\n",
      "Epoch 00003: val_acc improved from 0.31094 to 0.32329, saving model to /kaggle/working/best_model.h5\n",
      "155/155 [==============================] - 10s 66ms/step - loss: 1.9484 - acc: 0.3122 - val_loss: 1.9601 - val_acc: 0.3233\n",
      "Epoch 4/15\n",
      "154/155 [============================>.] - ETA: 0s - loss: 1.8916 - acc: 0.3215\n",
      "Epoch 00004: val_acc improved from 0.32329 to 0.33279, saving model to /kaggle/working/best_model.h5\n",
      "155/155 [==============================] - 10s 66ms/step - loss: 1.8919 - acc: 0.3215 - val_loss: 1.8110 - val_acc: 0.3328\n",
      "Epoch 5/15\n",
      "154/155 [============================>.] - ETA: 0s - loss: 1.8218 - acc: 0.3468\n",
      "Epoch 00005: val_acc improved from 0.33279 to 0.35141, saving model to /kaggle/working/best_model.h5\n",
      "155/155 [==============================] - 10s 66ms/step - loss: 1.8218 - acc: 0.3466 - val_loss: 1.7785 - val_acc: 0.3514\n",
      "Epoch 6/15\n",
      "154/155 [============================>.] - ETA: 0s - loss: 1.7878 - acc: 0.3640\n",
      "Epoch 00006: val_acc improved from 0.35141 to 0.39247, saving model to /kaggle/working/best_model.h5\n",
      "155/155 [==============================] - 10s 67ms/step - loss: 1.7882 - acc: 0.3638 - val_loss: 1.7407 - val_acc: 0.3925\n",
      "Epoch 7/15\n",
      "154/155 [============================>.] - ETA: 0s - loss: 1.7556 - acc: 0.3742\n",
      "Epoch 00007: val_acc improved from 0.39247 to 0.39450, saving model to /kaggle/working/best_model.h5\n",
      "155/155 [==============================] - 10s 66ms/step - loss: 1.7557 - acc: 0.3743 - val_loss: 1.6837 - val_acc: 0.3945\n",
      "Epoch 8/15\n",
      "154/155 [============================>.] - ETA: 0s - loss: 1.7063 - acc: 0.3879\n",
      "Epoch 00008: val_acc improved from 0.39450 to 0.39672, saving model to /kaggle/working/best_model.h5\n",
      "155/155 [==============================] - 10s 66ms/step - loss: 1.7056 - acc: 0.3883 - val_loss: 1.6525 - val_acc: 0.3967\n",
      "Epoch 9/15\n",
      "154/155 [============================>.] - ETA: 0s - loss: 1.6493 - acc: 0.4042\n",
      "Epoch 00009: val_acc improved from 0.39672 to 0.43617, saving model to /kaggle/working/best_model.h5\n",
      "155/155 [==============================] - 10s 66ms/step - loss: 1.6496 - acc: 0.4042 - val_loss: 1.6473 - val_acc: 0.4362\n",
      "Epoch 10/15\n",
      "154/155 [============================>.] - ETA: 0s - loss: 1.6173 - acc: 0.4150\n",
      "Epoch 00010: val_acc improved from 0.43617 to 0.44022, saving model to /kaggle/working/best_model.h5\n",
      "155/155 [==============================] - 10s 66ms/step - loss: 1.6170 - acc: 0.4151 - val_loss: 1.5638 - val_acc: 0.4402\n",
      "Epoch 11/15\n",
      "154/155 [============================>.] - ETA: 0s - loss: 1.5639 - acc: 0.4388\n",
      "Epoch 00011: val_acc improved from 0.44022 to 0.48189, saving model to /kaggle/working/best_model.h5\n",
      "155/155 [==============================] - 10s 66ms/step - loss: 1.5636 - acc: 0.4388 - val_loss: 1.5308 - val_acc: 0.4819\n",
      "Epoch 12/15\n",
      "154/155 [============================>.] - ETA: 0s - loss: 1.5322 - acc: 0.4519\n",
      "Epoch 00012: val_acc did not improve from 0.48189\n",
      "155/155 [==============================] - 10s 68ms/step - loss: 1.5316 - acc: 0.4521 - val_loss: 1.6119 - val_acc: 0.4303\n",
      "Epoch 13/15\n",
      "154/155 [============================>.] - ETA: 0s - loss: 1.4882 - acc: 0.4695\n",
      "Epoch 00013: val_acc did not improve from 0.48189\n",
      "155/155 [==============================] - 10s 66ms/step - loss: 1.4876 - acc: 0.4699 - val_loss: 1.5540 - val_acc: 0.4568\n",
      "Epoch 14/15\n",
      "154/155 [============================>.] - ETA: 0s - loss: 1.4421 - acc: 0.4903\n",
      "Epoch 00014: val_acc did not improve from 0.48189\n",
      "155/155 [==============================] - 10s 66ms/step - loss: 1.4425 - acc: 0.4901 - val_loss: 1.5766 - val_acc: 0.4445\n",
      "Epoch 15/15\n",
      "154/155 [============================>.] - ETA: 0s - loss: 1.4054 - acc: 0.5032\n",
      "Epoch 00015: val_acc did not improve from 0.48189\n",
      "155/155 [==============================] - 10s 65ms/step - loss: 1.4058 - acc: 0.5029 - val_loss: 1.6071 - val_acc: 0.4540\n"
     ]
    }
   ],
   "source": [
    "history = model.fit(x=X_seq_train, y=y_train, batch_size=128, epochs=15, verbose=1, validation_split=0.2,callbacks=[best_model_save])"
   ]
  },
  {
   "cell_type": "code",
   "execution_count": 61,
   "metadata": {
    "execution": {
     "iopub.execute_input": "2021-01-02T16:41:19.046755Z",
     "iopub.status.busy": "2021-01-02T16:41:19.045843Z",
     "iopub.status.idle": "2021-01-02T16:41:19.366334Z",
     "shell.execute_reply": "2021-01-02T16:41:19.365476Z"
    },
    "papermill": {
     "duration": 1.181052,
     "end_time": "2021-01-02T16:41:19.366454",
     "exception": false,
     "start_time": "2021-01-02T16:41:18.185402",
     "status": "completed"
    },
    "tags": []
   },
   "outputs": [],
   "source": [
    "import tensorflow as tf\n",
    "best_model = tf.keras.models.load_model('/kaggle/working/best_model.h5')"
   ]
  },
  {
   "cell_type": "code",
   "execution_count": 62,
   "metadata": {
    "execution": {
     "iopub.execute_input": "2021-01-02T16:41:21.112241Z",
     "iopub.status.busy": "2021-01-02T16:41:21.111232Z",
     "iopub.status.idle": "2021-01-02T16:41:24.039486Z",
     "shell.execute_reply": "2021-01-02T16:41:24.038842Z"
    },
    "papermill": {
     "duration": 3.788951,
     "end_time": "2021-01-02T16:41:24.039641",
     "exception": false,
     "start_time": "2021-01-02T16:41:20.250690",
     "status": "completed"
    },
    "tags": []
   },
   "outputs": [],
   "source": [
    "from sklearn.metrics import confusion_matrix\n",
    "y_test_pred = best_model.predict(X_seq_test)\n",
    "confusionMatrix = confusion_matrix(np.argmax(y_test,axis=1), np.argmax(y_test_pred,axis=1))"
   ]
  },
  {
   "cell_type": "code",
   "execution_count": 63,
   "metadata": {
    "execution": {
     "iopub.execute_input": "2021-01-02T16:41:25.764825Z",
     "iopub.status.busy": "2021-01-02T16:41:25.764213Z",
     "iopub.status.idle": "2021-01-02T16:41:26.121752Z",
     "shell.execute_reply": "2021-01-02T16:41:26.120822Z"
    },
    "papermill": {
     "duration": 1.222063,
     "end_time": "2021-01-02T16:41:26.121865",
     "exception": false,
     "start_time": "2021-01-02T16:41:24.899802",
     "status": "completed"
    },
    "tags": []
   },
   "outputs": [
    {
     "data": {
      "image/png": "[encoded data removed]",
      "text/plain": [
       "<Figure size 720x720 with 2 Axes>"
      ]
     },
     "metadata": {
      "needs_background": "light"
     },
     "output_type": "display_data"
    },
    {
     "data": {
      "text/plain": [
       "array([[0.65, 0.01, 0.02, 0.01, 0.16, 0.  , 0.02, 0.13, 0.  , 0.01],\n",
       "       [0.68, 0.08, 0.02, 0.  , 0.09, 0.  , 0.01, 0.11, 0.  , 0.02],\n",
       "       [0.28, 0.  , 0.62, 0.  , 0.01, 0.  , 0.03, 0.03, 0.  , 0.01],\n",
       "       [0.38, 0.  , 0.  , 0.19, 0.24, 0.  , 0.01, 0.18, 0.  , 0.  ],\n",
       "       [0.31, 0.  , 0.  , 0.  , 0.51, 0.  , 0.02, 0.15, 0.  , 0.01],\n",
       "       [0.48, 0.  , 0.04, 0.  , 0.1 , 0.  , 0.15, 0.18, 0.  , 0.05],\n",
       "       [0.27, 0.  , 0.03, 0.  , 0.11, 0.  , 0.48, 0.07, 0.  , 0.03],\n",
       "       [0.25, 0.  , 0.01, 0.  , 0.21, 0.  , 0.02, 0.5 , 0.  , 0.01],\n",
       "       [0.15, 0.  , 0.  , 0.  , 0.1 , 0.  , 0.02, 0.73, 0.  , 0.  ],\n",
       "       [0.57, 0.  , 0.03, 0.  , 0.1 , 0.  , 0.07, 0.12, 0.  , 0.11]])"
      ]
     },
     "execution_count": 63,
     "metadata": {},
     "output_type": "execute_result"
    }
   ],
   "source": [
    "# Plot normalized confusion matrix\n",
    "confusionMatrix = confusionMatrix.astype('float') / confusionMatrix.sum(axis=1)[:, np.newaxis]\n",
    "np.set_printoptions(precision=2)\n",
    "plt.figure(figsize=(10,10))\n",
    "plt.imshow(confusionMatrix, interpolation='nearest', cmap=plt.cm.Blues)\n",
    "plt.title('Confusion matrix')\n",
    "plt.colorbar()\n",
    "tick_marks = np.arange(top_classes)\n",
    "plt.xticks(tick_marks, sorted_classes, rotation=90)\n",
    "plt.yticks(tick_marks, sorted_classes)\n",
    "#for i, j in itertools.product(range(cm.shape[0]), range(cm.shape[1])):\n",
    "#    plt.text(j, i, format(cm[i, j], '.2f'), horizontalalignment=\"center\", color=\"white\" if cm[i, j] > cm.max() / 2. else \"black\")\n",
    "plt.ylabel('True label')\n",
    "plt.xlabel('Predicted label')\n",
    "plt.show()\n",
    "\n",
    "confusionMatrix"
   ]
  },
  {
   "cell_type": "code",
   "execution_count": 64,
   "metadata": {
    "execution": {
     "iopub.execute_input": "2021-01-02T16:41:27.860276Z",
     "iopub.status.busy": "2021-01-02T16:41:27.858359Z",
     "iopub.status.idle": "2021-01-02T16:41:27.860939Z",
     "shell.execute_reply": "2021-01-02T16:41:27.861427Z"
    },
    "papermill": {
     "duration": 0.864665,
     "end_time": "2021-01-02T16:41:27.861552",
     "exception": false,
     "start_time": "2021-01-02T16:41:26.996887",
     "status": "completed"
    },
    "tags": []
   },
   "outputs": [],
   "source": [
    "#References\n",
    "#https://towardsdatascience.com/a-comprehensive-guide-to-correlational-neural-network-with-keras-3f7886028e4a\n",
    "#https://snap.stanford.edu/snappy/doc/reference/multimodal.html\n",
    "#https://openaccess.thecvf.com/content_cvpr_2017/papers/Chen_AMC_Attention_guided_CVPR_2017_paper.pdf"
   ]
  },
  {
   "cell_type": "markdown",
   "metadata": {
    "papermill": {
     "duration": 1.042869,
     "end_time": "2021-01-02T16:41:29.751218",
     "exception": false,
     "start_time": "2021-01-02T16:41:28.708349",
     "status": "completed"
    },
    "tags": []
   },
   "source": [
    "# References\n",
    "https://towardsdatascience.com/a-comprehensive-guide-to-correlational-neural-network-with-keras-3f7886028e4a\n",
    "\n",
    "https://snap.stanford.edu/snappy/doc/reference/multimodal.html\n",
    "\n",
    "https://openaccess.thecvf.com/content_cvpr_2017/papers/Chen_AMC_Attention_guided_CVPR_2017_paper.pdf"
   ]
  }
 ],
 "metadata": {
  "kernelspec": {
   "display_name": "Python 3",
   "language": "python",
   "name": "python3"
  },
  "language_info": {
   "codemirror_mode": {
    "name": "ipython",
    "version": 3
   },
   "file_extension": ".py",
   "mimetype": "text/x-python",
   "name": "python",
   "nbconvert_exporter": "python",
   "pygments_lexer": "ipython3",
   "version": "3.7.6"
  },
  "papermill": {
   "duration": 216.107681,
   "end_time": "2021-01-02T16:41:32.721876",
   "environment_variables": {},
   "exception": null,
   "input_path": "__notebook__.ipynb",
   "output_path": "__notebook__.ipynb",
   "parameters": {},
   "start_time": "2021-01-02T16:37:56.614195",
   "version": "2.1.0"
  }
 },
 "nbformat": 4,
 "nbformat_minor": 4
}
